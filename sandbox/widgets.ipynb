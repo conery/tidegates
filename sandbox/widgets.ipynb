{
 "cells": [
  {
   "attachments": {},
   "cell_type": "markdown",
   "metadata": {},
   "source": [
    "## Experiments with Panel Widgets"
   ]
  },
  {
   "cell_type": "code",
   "execution_count": null,
   "metadata": {
    "vscode": {
     "languageId": "shellscript"
    }
   },
   "outputs": [],
   "source": [
    "import panel as pn"
   ]
  },
  {
   "cell_type": "code",
   "execution_count": null,
   "metadata": {
    "vscode": {
     "languageId": "shellscript"
    }
   },
   "outputs": [],
   "source": [
    "pn.extension()"
   ]
  },
  {
   "attachments": {},
   "cell_type": "markdown",
   "metadata": {},
   "source": [
    "### Radio buttons select a text entry or a slider"
   ]
  },
  {
   "cell_type": "code",
   "execution_count": null,
   "metadata": {
    "vscode": {
     "languageId": "shellscript"
    }
   },
   "outputs": [],
   "source": [
    "budget_levels = [\n",
    "    ('$0', 0, 0),\n",
    "    ('$1M', 1000000, 100000),\n",
    "    ('$2.5M', 2500000, 250000),\n",
    "    ('$5M', 5000000, 500000),\n",
    "    ('$10M', 10000000, 1000000),\n",
    "    ('$25M', 25000000, 2500000),\n",
    "    ('$50M', 50000000, 5000000),\n",
    "    ('$100M', 100000000, 10000000),\n",
    "]"
   ]
  },
  {
   "cell_type": "code",
   "execution_count": null,
   "metadata": {
    "vscode": {
     "languageId": "shellscript"
    }
   },
   "outputs": [],
   "source": [
    "class BudgetBox(pn.Column):\n",
    "\n",
    "    def __init__(self):\n",
    "        super(BudgetBox, self).__init__(margin=(15,0,15,5))\n",
    "        self.budget_type = pn.widgets.RadioBoxGroup(options=['Return on Investment','Single Budget'], inline=False)\n",
    "        self.budget_type.param.watch(self.budget_type_cb, ['value'])\n",
    "        self.levels = [x[0] for x in budget_levels]\n",
    "        self.map = { x[0]: x[1:] for x in budget_levels }\n",
    "        self.slider = pn.widgets.DiscreteSlider(\n",
    "            name='Maximum Budget',\n",
    "            options = self.levels[:1],\n",
    "            value = self.levels[0]\n",
    "        )\n",
    "        self.slider.param.watch(self.slider_cb, ['value'])\n",
    "        # self.slider_box = pn.WidgetBox(self.slider)\n",
    "        self.float_input = pn.widgets.FloatInput(name='Budget', value=0, format='$0,0.00')\n",
    "        self.row = pn.Row(self.budget_type, self.slider, 'display placeholder')\n",
    "        self.append(self.row)\n",
    "        # self.append('display placeholder')\n",
    "\n",
    "    def budget_type_cb(self, args):\n",
    "        w = self.float_input if self.budget_type.value.startswith('Single') else self.slider\n",
    "        self.row[1] = w\n",
    "        self.row[2] = 'widget changed to ' + self.budget_type.value\n",
    "\n",
    "    def slider_cb(self, args):\n",
    "        b, x = self.map[self.slider.value]\n",
    "        self.row[-1] = f'0 to {b} in steps of {x}'\n",
    "\n",
    "    def set_budget_max(self, n):\n",
    "        for i in range(len(budget_levels)-1, -1, -1):\n",
    "            if n >= budget_levels[i][1]:\n",
    "                self.slider.options = self.levels[:i+1]\n",
    "                break\n"
   ]
  },
  {
   "cell_type": "code",
   "execution_count": null,
   "metadata": {
    "vscode": {
     "languageId": "shellscript"
    }
   },
   "outputs": [],
   "source": [
    "w = BudgetBox()"
   ]
  },
  {
   "cell_type": "code",
   "execution_count": null,
   "metadata": {
    "vscode": {
     "languageId": "shellscript"
    }
   },
   "outputs": [],
   "source": [
    "w"
   ]
  },
  {
   "cell_type": "code",
   "execution_count": null,
   "metadata": {
    "vscode": {
     "languageId": "shellscript"
    }
   },
   "outputs": [],
   "source": [
    "w.set_budget_max(6000000)"
   ]
  },
  {
   "attachments": {},
   "cell_type": "markdown",
   "metadata": {},
   "source": [
    "### Tabs"
   ]
  },
  {
   "cell_type": "code",
   "execution_count": null,
   "metadata": {
    "vscode": {
     "languageId": "shellscript"
    }
   },
   "outputs": [],
   "source": [
    "class BudgetBox(pn.Column):\n",
    "\n",
    "    levels = [\n",
    "        ('$0', 0),\n",
    "        ('$500K', 500000),\n",
    "        ('$1M', 1000000),\n",
    "        ('$2.5M', 2500000),\n",
    "        ('$5M', 5000000),\n",
    "        ('$10M', 10000000),\n",
    "        ('$25M', 25000000),\n",
    "        ('$50M', 50000000),\n",
    "        ('$100M', 100000000),\n",
    "    ]\n",
    "\n",
    "    boxh = 125\n",
    "    boxw = 400\n",
    "    npts = 10\n",
    "\n",
    "    def __init__(self):\n",
    "        super(BudgetBox, self).__init__(margin=(15,0,15,5))\n",
    "        self.labels = [x[0] for x in BudgetBox.levels]\n",
    "        self.map = { x[0]: x[1] for x in BudgetBox.levels }\n",
    "        self.tabs = pn.Tabs(\n",
    "            ('ROI', \n",
    "             pn.WidgetBox(\n",
    "                pn.widgets.DiscreteSlider(\n",
    "                    options = self.labels[:1], \n",
    "                    value = self.labels[0],\n",
    "                    name = 'Maximum Budget'\n",
    "                ),\n",
    "                height=BudgetBox.boxh,\n",
    "                width=BudgetBox.boxw)),\n",
    "            ('Fixed', \n",
    "             pn.WidgetBox(\n",
    "                pn.widgets.TextInput(name='Budget Amount', value='$'),\n",
    "                height=BudgetBox.boxh,\n",
    "                width=BudgetBox.boxw)),\n",
    "            ('ℹ️',\n",
    "            pn.WidgetBox(\n",
    "                pn.pane.Markdown('''\n",
    "                    **ROI** (return on investment) will generate a plot that shows the optimal set\n",
    "                    of gates for several different budget levels.\n",
    "\n",
    "                    **Fixed** will compute the optimal set of gates for a single budget.\n",
    "                '''),\n",
    "                height=BudgetBox.boxh,\n",
    "                width=BudgetBox.boxw))\n",
    "        )\n",
    "        self.append(self.tabs)\n",
    "        self.slider = self.tabs[0][0]\n",
    "        self.input = self.tabs[1][0]\n",
    "\n",
    "    def set_budget_max(self, n):\n",
    "        for i in range(len(BudgetBox.levels)-1, -1, -1):\n",
    "            if n >= BudgetBox.levels[i][1]:\n",
    "                self.slider.options = self.labels[:i+1]\n",
    "                break\n",
    "\n",
    "    def values(self):\n",
    "        if self.tabs.active == 0:\n",
    "            x = self.map[self.slider.value]\n",
    "            return x, (x // BudgetBox.npts)\n",
    "        else:\n",
    "            s = self.input.value\n",
    "            if s.startswith('$'):\n",
    "                s = s[1:]\n",
    "            return self.input.value, 0\n"
   ]
  },
  {
   "cell_type": "code",
   "execution_count": null,
   "metadata": {
    "vscode": {
     "languageId": "shellscript"
    }
   },
   "outputs": [],
   "source": [
    "w = BudgetBox()"
   ]
  },
  {
   "cell_type": "code",
   "execution_count": null,
   "metadata": {
    "vscode": {
     "languageId": "shellscript"
    }
   },
   "outputs": [],
   "source": [
    "w"
   ]
  },
  {
   "cell_type": "code",
   "execution_count": null,
   "metadata": {
    "vscode": {
     "languageId": "shellscript"
    }
   },
   "outputs": [],
   "source": [
    "w.tabs[1]"
   ]
  },
  {
   "cell_type": "code",
   "execution_count": null,
   "metadata": {
    "vscode": {
     "languageId": "shellscript"
    }
   },
   "outputs": [],
   "source": [
    "w.tabs[1] = pn.pane.HTML('<p>hi</p>')"
   ]
  },
  {
   "cell_type": "code",
   "execution_count": null,
   "metadata": {
    "vscode": {
     "languageId": "shellscript"
    }
   },
   "outputs": [],
   "source": [
    "dir(w.tabs)"
   ]
  },
  {
   "cell_type": "code",
   "execution_count": null,
   "metadata": {
    "vscode": {
     "languageId": "shellscript"
    }
   },
   "outputs": [],
   "source": [
    "w.tabs.objects"
   ]
  },
  {
   "cell_type": "code",
   "execution_count": null,
   "metadata": {
    "vscode": {
     "languageId": "shellscript"
    }
   },
   "outputs": [],
   "source": [
    "w.set_budget_max(1000000)"
   ]
  },
  {
   "cell_type": "code",
   "execution_count": null,
   "metadata": {
    "vscode": {
     "languageId": "shellscript"
    }
   },
   "outputs": [],
   "source": [
    "w.values()"
   ]
  },
  {
   "cell_type": "code",
   "execution_count": null,
   "metadata": {
    "vscode": {
     "languageId": "shellscript"
    }
   },
   "outputs": [],
   "source": [
    "w = pn.widgets.DiscreteSlider(options = ['a','b','c'], value = 'b', name='Letters')"
   ]
  },
  {
   "cell_type": "code",
   "execution_count": null,
   "metadata": {
    "vscode": {
     "languageId": "shellscript"
    }
   },
   "outputs": [],
   "source": [
    "w"
   ]
  },
  {
   "cell_type": "code",
   "execution_count": null,
   "metadata": {
    "vscode": {
     "languageId": "shellscript"
    }
   },
   "outputs": [],
   "source": [
    "w.value"
   ]
  },
  {
   "cell_type": "code",
   "execution_count": null,
   "metadata": {
    "vscode": {
     "languageId": "shellscript"
    }
   },
   "outputs": [],
   "source": [
    "w.name"
   ]
  },
  {
   "cell_type": "code",
   "execution_count": null,
   "metadata": {
    "vscode": {
     "languageId": "shellscript"
    }
   },
   "outputs": [],
   "source": [
    "from babel.numbers import parse_number, parse_decimal"
   ]
  },
  {
   "cell_type": "code",
   "execution_count": null,
   "metadata": {
    "vscode": {
     "languageId": "shellscript"
    }
   },
   "outputs": [],
   "source": [
    "parse_decimal('12,34.8', locale='en_US')"
   ]
  },
  {
   "cell_type": "code",
   "execution_count": null,
   "metadata": {
    "vscode": {
     "languageId": "shellscript"
    }
   },
   "outputs": [],
   "source": [
    "def parse_dollar_amount(s):\n",
    "    try:\n",
    "        if s.startswith('$'):\n",
    "            s = s[1:]\n",
    "        if s.endswith(('K','M')):\n",
    "            multiplier = 1000 if s.endswith('K') else 1000000\n",
    "            res = int(float(s[:-1]) * multiplier)\n",
    "        elif ',' in s:\n",
    "            parts = s.split(',')\n",
    "            assert len(parts[0]) <= 3 and (len(parts) == 1 or all(len(p) == 3 for p in parts[1:]))\n",
    "            res = int(''.join(parts))\n",
    "        else:\n",
    "            res = int(s)\n",
    "        return res\n",
    "    except Exception:\n",
    "        raise ValueError('unexpected format in dollar amount')"
   ]
  },
  {
   "cell_type": "code",
   "execution_count": null,
   "metadata": {
    "vscode": {
     "languageId": "shellscript"
    }
   },
   "outputs": [],
   "source": [
    "parse_dollar_amount('1567')"
   ]
  },
  {
   "cell_type": "code",
   "execution_count": null,
   "metadata": {
    "vscode": {
     "languageId": "shellscript"
    }
   },
   "outputs": [],
   "source": [
    "parse_dollar_amount('$1234')"
   ]
  },
  {
   "cell_type": "code",
   "execution_count": null,
   "metadata": {
    "vscode": {
     "languageId": "shellscript"
    }
   },
   "outputs": [],
   "source": [
    "parse_dollar_amount('$500K')"
   ]
  },
  {
   "cell_type": "code",
   "execution_count": null,
   "metadata": {
    "vscode": {
     "languageId": "shellscript"
    }
   },
   "outputs": [],
   "source": [
    "parse_dollar_amount('$123,456')"
   ]
  },
  {
   "cell_type": "code",
   "execution_count": null,
   "metadata": {
    "vscode": {
     "languageId": "shellscript"
    }
   },
   "outputs": [],
   "source": [
    "parse_dollar_amount('12,345')"
   ]
  },
  {
   "cell_type": "code",
   "execution_count": null,
   "metadata": {
    "vscode": {
     "languageId": "shellscript"
    }
   },
   "outputs": [],
   "source": [
    "parse_dollar_amount('$1.5M')"
   ]
  },
  {
   "cell_type": "code",
   "execution_count": null,
   "metadata": {
    "vscode": {
     "languageId": "shellscript"
    }
   },
   "outputs": [],
   "source": [
    "# parse_dollar_amount('123,45')"
   ]
  },
  {
   "cell_type": "markdown",
   "metadata": {},
   "source": [
    "### Welcome Text"
   ]
  },
  {
   "cell_type": "code",
   "execution_count": null,
   "metadata": {},
   "outputs": [],
   "source": [
    "text = open('../static/welcome.html').read()"
   ]
  },
  {
   "cell_type": "code",
   "execution_count": null,
   "metadata": {},
   "outputs": [],
   "source": [
    "pn.pane.HTML(text, width=600)"
   ]
  },
  {
   "cell_type": "markdown",
   "metadata": {},
   "source": [
    "### Download Dialog"
   ]
  },
  {
   "cell_type": "markdown",
   "metadata": {},
   "source": [
    "Display download options and a download button in a separate tab in the top level GUI."
   ]
  },
  {
   "cell_type": "code",
   "execution_count": null,
   "metadata": {},
   "outputs": [],
   "source": [
    "NB = 'Net benefit plot'\n",
    "IT = 'Individual target plots'\n",
    "BS = 'Budget summary table'\n",
    "BD = 'Barrier detail table'"
   ]
  },
  {
   "cell_type": "code",
   "execution_count": null,
   "metadata": {},
   "outputs": [],
   "source": [
    "boxes = pn.widgets.CheckBoxGroup(\n",
    "    name='Select items to download:',\n",
    "    inline=False,\n",
    "    options=[NB, IT, BS, BD],\n",
    "    value = [NB, IT, BS, BD]\n",
    ")"
   ]
  },
  {
   "cell_type": "code",
   "execution_count": null,
   "metadata": {},
   "outputs": [],
   "source": [
    "text_input = pn.widgets.TextInput(name='Archive File Name', placeholder='.zip')"
   ]
  },
  {
   "cell_type": "code",
   "execution_count": null,
   "metadata": {},
   "outputs": [],
   "source": [
    "button = pn.widgets.Button(name='Download')"
   ]
  },
  {
   "cell_type": "code",
   "execution_count": null,
   "metadata": {},
   "outputs": [],
   "source": [
    "def cb(*args, **kwargs):\n",
    "    print('clicked!')"
   ]
  },
  {
   "cell_type": "code",
   "execution_count": null,
   "metadata": {},
   "outputs": [],
   "source": [
    "fd = pn.widgets.FileDownload(callback = cb, filename='foo.txt')"
   ]
  },
  {
   "cell_type": "code",
   "execution_count": null,
   "metadata": {},
   "outputs": [],
   "source": [
    "pn.Column(\n",
    "    pn.Row(boxes, text_input),\n",
    "    button,\n",
    "    fd\n",
    ")"
   ]
  },
  {
   "cell_type": "code",
   "execution_count": null,
   "metadata": {},
   "outputs": [],
   "source": [
    "fd.filename"
   ]
  },
  {
   "cell_type": "code",
   "execution_count": null,
   "metadata": {},
   "outputs": [],
   "source": [
    "fd._clicks"
   ]
  },
  {
   "cell_type": "code",
   "execution_count": null,
   "metadata": {},
   "outputs": [],
   "source": [
    "fd._clicks += 1"
   ]
  },
  {
   "cell_type": "code",
   "execution_count": null,
   "metadata": {},
   "outputs": [],
   "source": [
    "fd.filename = 'bar.txt'"
   ]
  },
  {
   "cell_type": "code",
   "execution_count": null,
   "metadata": {},
   "outputs": [],
   "source": [
    "boxes.values"
   ]
  },
  {
   "cell_type": "code",
   "execution_count": null,
   "metadata": {},
   "outputs": [],
   "source": [
    "dir(fd)"
   ]
  },
  {
   "cell_type": "markdown",
   "metadata": {},
   "source": [
    "### Path and Directory Operations"
   ]
  },
  {
   "cell_type": "code",
   "execution_count": null,
   "metadata": {},
   "outputs": [],
   "source": [
    "from pathlib import Path, PurePath"
   ]
  },
  {
   "cell_type": "code",
   "execution_count": null,
   "metadata": {},
   "outputs": [],
   "source": [
    "from shutil import rmtree, make_archive"
   ]
  },
  {
   "cell_type": "code",
   "execution_count": null,
   "metadata": {},
   "outputs": [],
   "source": [
    "Path.cwd()"
   ]
  },
  {
   "cell_type": "code",
   "execution_count": null,
   "metadata": {},
   "outputs": [],
   "source": [
    "Path.cwd() / 'test'"
   ]
  },
  {
   "cell_type": "code",
   "execution_count": null,
   "metadata": {},
   "outputs": [],
   "source": [
    "d = Path.cwd() / 'test'"
   ]
  },
  {
   "cell_type": "code",
   "execution_count": null,
   "metadata": {},
   "outputs": [],
   "source": [
    "Path.exists(d)"
   ]
  },
  {
   "cell_type": "code",
   "execution_count": null,
   "metadata": {},
   "outputs": [],
   "source": [
    "Path.mkdir(d)"
   ]
  },
  {
   "cell_type": "code",
   "execution_count": null,
   "metadata": {},
   "outputs": [],
   "source": [
    "Path.mkdir(d/\"foo\")"
   ]
  },
  {
   "cell_type": "code",
   "execution_count": null,
   "metadata": {},
   "outputs": [],
   "source": [
    "Path.mkdir(d/'foo'/'bar')"
   ]
  },
  {
   "cell_type": "code",
   "execution_count": null,
   "metadata": {},
   "outputs": [],
   "source": [
    "Path.mkdir(d/'foo'/'baz')"
   ]
  },
  {
   "cell_type": "code",
   "execution_count": null,
   "metadata": {},
   "outputs": [],
   "source": [
    "rmtree(d)"
   ]
  },
  {
   "cell_type": "code",
   "execution_count": null,
   "metadata": {},
   "outputs": [],
   "source": [
    "p = make_archive('foo', 'zip', d / 'foo')"
   ]
  },
  {
   "cell_type": "code",
   "execution_count": null,
   "metadata": {},
   "outputs": [],
   "source": [
    "p"
   ]
  },
  {
   "cell_type": "markdown",
   "metadata": {},
   "source": [
    "### Target Boxes"
   ]
  },
  {
   "cell_type": "markdown",
   "metadata": {},
   "source": [
    "Add an IntInput widget before each target name so users can specify a weight for the target."
   ]
  },
  {
   "cell_type": "code",
   "execution_count": null,
   "metadata": {},
   "outputs": [],
   "source": [
    "class Target(pn.Row):\n",
    "\n",
    "    def __init__(self, t):\n",
    "        super(Target, self).__init__(margin=(10,0,10,5))\n",
    "        w = pn.widgets.IntInput(value=1, step=1, start=1, end=10, width=50, height=32)\n",
    "        self.append(w)\n",
    "        b = pn.widgets.Checkbox(name=t)\n",
    "        self.append(b)"
   ]
  },
  {
   "cell_type": "code",
   "execution_count": null,
   "metadata": {},
   "outputs": [],
   "source": [
    "Target('Fish habitat: Coho streams')"
   ]
  },
  {
   "cell_type": "markdown",
   "metadata": {},
   "source": [
    "Use an IntSlider instead of the IntInput"
   ]
  },
  {
   "cell_type": "code",
   "execution_count": null,
   "metadata": {},
   "outputs": [],
   "source": [
    "class Target(pn.Row):\n",
    "\n",
    "    def __init__(self, t):\n",
    "        super(Target, self).__init__(margin=(10,0,10,5))\n",
    "        b = pn.widgets.Checkbox(name=t)\n",
    "        self.append(b)\n",
    "        w = pn.widgets.IntSlider(name='Weight', value=1, step=1, start=1, end=10, width=70)\n",
    "        self.append(w)"
   ]
  },
  {
   "cell_type": "markdown",
   "metadata": {},
   "source": [
    "Display the region name as the slider name"
   ]
  },
  {
   "cell_type": "code",
   "execution_count": null,
   "metadata": {},
   "outputs": [],
   "source": [
    "class Target(pn.Row):\n",
    "\n",
    "    def __init__(self, t):\n",
    "        super(Target, self).__init__(margin=(10,0,10,5))\n",
    "        w = pn.widgets.IntSlider(name=t, value=0, step=1, start=0, end=10, width=70)\n",
    "        self.append(w)"
   ]
  },
  {
   "cell_type": "code",
   "execution_count": 7,
   "metadata": {},
   "outputs": [
    {
     "data": {
      "application/vnd.jupyter.widget-view+json": {
       "model_id": "df6c634da6cd4666b6f0eebe8ccfdc36",
       "version_major": 2,
       "version_minor": 0
      },
      "text/plain": [
       "BokehModel(combine_events=True, render_bundle={'docs_json': {'988170e1-2a11-4f9d-91fc-6c046c4fbb07': {'defs': …"
      ]
     },
     "execution_count": 7,
     "metadata": {},
     "output_type": "execute_result"
    }
   ],
   "source": [
    "col = pn.Column()\n",
    "for s in ['Fish habitat: Coho streams', 'Fish habitat: Chinook streams', 'Fish habitat: Steelhead streams']:\n",
    "    col.append(Target(s))\n",
    "col"
   ]
  },
  {
   "cell_type": "code",
   "execution_count": null,
   "metadata": {},
   "outputs": [],
   "source": []
  },
  {
   "cell_type": "code",
   "execution_count": null,
   "metadata": {},
   "outputs": [],
   "source": []
  }
 ],
 "metadata": {
  "kernelspec": {
   "display_name": "panel-1.1",
   "language": "python",
   "name": "python3"
  },
  "language_info": {
   "codemirror_mode": {
    "name": "ipython",
    "version": 3
   },
   "file_extension": ".py",
   "mimetype": "text/x-python",
   "name": "python",
   "nbconvert_exporter": "python",
   "pygments_lexer": "ipython3",
   "version": "3.10.6"
  },
  "orig_nbformat": 4
 },
 "nbformat": 4,
 "nbformat_minor": 2
}
