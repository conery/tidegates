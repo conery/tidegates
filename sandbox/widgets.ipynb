{
 "cells": [
  {
   "attachments": {},
   "cell_type": "markdown",
   "metadata": {},
   "source": [
    "## Experiments with Panel Widgets"
   ]
  },
  {
   "cell_type": "code",
   "execution_count": 1,
   "metadata": {
    "vscode": {
     "languageId": "shellscript"
    }
   },
   "outputs": [],
   "source": [
    "import panel as pn"
   ]
  },
  {
   "cell_type": "code",
   "execution_count": 2,
   "metadata": {
    "vscode": {
     "languageId": "shellscript"
    }
   },
   "outputs": [
    {
     "data": {
      "application/javascript": "(function(root) {\n  function now() {\n    return new Date();\n  }\n\n  var force = true;\n\n  if (typeof root._bokeh_onload_callbacks === \"undefined\" || force === true) {\n    root._bokeh_onload_callbacks = [];\n    root._bokeh_is_loading = undefined;\n  }\n\n  if (typeof (root._bokeh_timeout) === \"undefined\" || force === true) {\n    root._bokeh_timeout = Date.now() + 5000;\n    root._bokeh_failed_load = false;\n  }\n\n  function run_callbacks() {\n    try {\n      root._bokeh_onload_callbacks.forEach(function(callback) {\n        if (callback != null)\n          callback();\n      });\n    } finally {\n      delete root._bokeh_onload_callbacks\n    }\n    console.debug(\"Bokeh: all callbacks have finished\");\n  }\n\n  function load_libs(css_urls, js_urls, js_modules, callback) {\n    if (css_urls == null) css_urls = [];\n    if (js_urls == null) js_urls = [];\n    if (js_modules == null) js_modules = [];\n\n    root._bokeh_onload_callbacks.push(callback);\n    if (root._bokeh_is_loading > 0) {\n      console.debug(\"Bokeh: BokehJS is being loaded, scheduling callback at\", now());\n      return null;\n    }\n    if (js_urls.length === 0 && js_modules.length === 0) {\n      run_callbacks();\n      return null;\n    }\n    console.debug(\"Bokeh: BokehJS not loaded, scheduling load and callback at\", now());\n\n    function on_load() {\n      root._bokeh_is_loading--;\n      if (root._bokeh_is_loading === 0) {\n        console.debug(\"Bokeh: all BokehJS libraries/stylesheets loaded\");\n        run_callbacks()\n      }\n    }\n\n    function on_error() {\n      console.error(\"failed to load \" + url);\n    }\n\n    for (var i = 0; i < css_urls.length; i++) {\n      var url = css_urls[i];\n      const element = document.createElement(\"link\");\n      element.onload = on_load;\n      element.onerror = on_error;\n      element.rel = \"stylesheet\";\n      element.type = \"text/css\";\n      element.href = url;\n      console.debug(\"Bokeh: injecting link tag for BokehJS stylesheet: \", url);\n      document.body.appendChild(element);\n    }\n\n    var skip = [];\n    if (window.requirejs) {\n      window.requirejs.config({'packages': {}, 'paths': {'gridstack': 'https://cdn.jsdelivr.net/npm/gridstack@4.2.5/dist/gridstack-h5', 'notyf': 'https://cdn.jsdelivr.net/npm/notyf@3/notyf.min'}, 'shim': {'gridstack': {'exports': 'GridStack'}}});\n      require([\"gridstack\"], function(GridStack) {\n\twindow.GridStack = GridStack\n\ton_load()\n      })\n      require([\"notyf\"], function() {\n\ton_load()\n      })\n      root._bokeh_is_loading = css_urls.length + 2;\n    } else {\n      root._bokeh_is_loading = css_urls.length + js_urls.length + js_modules.length;\n    }    if (((window['GridStack'] !== undefined) && (!(window['GridStack'] instanceof HTMLElement))) || window.requirejs) {\n      var urls = ['https://cdn.holoviz.org/panel/0.14.2/dist/bundled/gridstack/gridstack@4.2.5/dist/gridstack-h5.js'];\n      for (var i = 0; i < urls.length; i++) {\n        skip.push(urls[i])\n      }\n    }    if (((window['Notyf'] !== undefined) && (!(window['Notyf'] instanceof HTMLElement))) || window.requirejs) {\n      var urls = ['https://cdn.holoviz.org/panel/0.14.2/dist/bundled/notificationarea/notyf@3/notyf.min.js'];\n      for (var i = 0; i < urls.length; i++) {\n        skip.push(urls[i])\n      }\n    }    for (var i = 0; i < js_urls.length; i++) {\n      var url = js_urls[i];\n      if (skip.indexOf(url) >= 0) {\n\tif (!window.requirejs) {\n\t  on_load();\n\t}\n\tcontinue;\n      }\n      var element = document.createElement('script');\n      element.onload = on_load;\n      element.onerror = on_error;\n      element.async = false;\n      element.src = url;\n      console.debug(\"Bokeh: injecting script tag for BokehJS library: \", url);\n      document.head.appendChild(element);\n    }\n    for (var i = 0; i < js_modules.length; i++) {\n      var url = js_modules[i];\n      if (skip.indexOf(url) >= 0) {\n\tif (!window.requirejs) {\n\t  on_load();\n\t}\n\tcontinue;\n      }\n      var element = document.createElement('script');\n      element.onload = on_load;\n      element.onerror = on_error;\n      element.async = false;\n      element.src = url;\n      element.type = \"module\";\n      console.debug(\"Bokeh: injecting script tag for BokehJS library: \", url);\n      document.head.appendChild(element);\n    }\n    if (!js_urls.length && !js_modules.length) {\n      on_load()\n    }\n  };\n\n  function inject_raw_css(css) {\n    const element = document.createElement(\"style\");\n    element.appendChild(document.createTextNode(css));\n    document.body.appendChild(element);\n  }\n\n  var js_urls = [\"https://cdn.bokeh.org/bokeh/release/bokeh-2.4.3.min.js\", \"https://cdn.bokeh.org/bokeh/release/bokeh-gl-2.4.3.min.js\", \"https://cdn.bokeh.org/bokeh/release/bokeh-widgets-2.4.3.min.js\", \"https://cdn.bokeh.org/bokeh/release/bokeh-tables-2.4.3.min.js\", \"https://cdn.bokeh.org/bokeh/release/bokeh-mathjax-2.4.3.min.js\", \"https://unpkg.com/@holoviz/panel@0.14.2/dist/panel.min.js\"];\n  var js_modules = [];\n  var css_urls = [\"https://cdn.holoviz.org/panel/0.14.2/dist/css/debugger.css\", \"https://cdn.holoviz.org/panel/0.14.2/dist/css/alerts.css\", \"https://cdn.holoviz.org/panel/0.14.2/dist/css/card.css\", \"https://cdn.holoviz.org/panel/0.14.2/dist/css/widgets.css\", \"https://cdn.holoviz.org/panel/0.14.2/dist/css/markdown.css\", \"https://cdn.holoviz.org/panel/0.14.2/dist/css/json.css\", \"https://cdn.holoviz.org/panel/0.14.2/dist/css/loading.css\", \"https://cdn.holoviz.org/panel/0.14.2/dist/css/dataframe.css\"];\n  var inline_js = [    function(Bokeh) {\n      inject_raw_css(\"\\n    .bk.pn-loading.arc:before {\\n      background-image: url(\\\"data:image/svg+xml;base64,PHN2ZyB4bWxucz0iaHR0cDovL3d3dy53My5vcmcvMjAwMC9zdmciIHN0eWxlPSJtYXJnaW46IGF1dG87IGJhY2tncm91bmQ6IG5vbmU7IGRpc3BsYXk6IGJsb2NrOyBzaGFwZS1yZW5kZXJpbmc6IGF1dG87IiB2aWV3Qm94PSIwIDAgMTAwIDEwMCIgcHJlc2VydmVBc3BlY3RSYXRpbz0ieE1pZFlNaWQiPiAgPGNpcmNsZSBjeD0iNTAiIGN5PSI1MCIgZmlsbD0ibm9uZSIgc3Ryb2tlPSIjYzNjM2MzIiBzdHJva2Utd2lkdGg9IjEwIiByPSIzNSIgc3Ryb2tlLWRhc2hhcnJheT0iMTY0LjkzMzYxNDMxMzQ2NDE1IDU2Ljk3Nzg3MTQzNzgyMTM4Ij4gICAgPGFuaW1hdGVUcmFuc2Zvcm0gYXR0cmlidXRlTmFtZT0idHJhbnNmb3JtIiB0eXBlPSJyb3RhdGUiIHJlcGVhdENvdW50PSJpbmRlZmluaXRlIiBkdXI9IjFzIiB2YWx1ZXM9IjAgNTAgNTA7MzYwIDUwIDUwIiBrZXlUaW1lcz0iMDsxIj48L2FuaW1hdGVUcmFuc2Zvcm0+ICA8L2NpcmNsZT48L3N2Zz4=\\\");\\n      background-size: auto calc(min(50%, 400px));\\n    }\\n    \");\n    },    function(Bokeh) {\n      Bokeh.set_log_level(\"info\");\n    },\nfunction(Bokeh) {} // ensure no trailing comma for IE\n  ];\n\n  function run_inline_js() {\n    if ((root.Bokeh !== undefined) || (force === true)) {\n      for (var i = 0; i < inline_js.length; i++) {\n        inline_js[i].call(root, root.Bokeh);\n      }} else if (Date.now() < root._bokeh_timeout) {\n      setTimeout(run_inline_js, 100);\n    } else if (!root._bokeh_failed_load) {\n      console.log(\"Bokeh: BokehJS failed to load within specified timeout.\");\n      root._bokeh_failed_load = true;\n    }\n  }\n\n  if (root._bokeh_is_loading === 0) {\n    console.debug(\"Bokeh: BokehJS loaded, going straight to plotting\");\n    run_inline_js();\n  } else {\n    load_libs(css_urls, js_urls, js_modules, function() {\n      console.debug(\"Bokeh: BokehJS plotting callback run at\", now());\n      run_inline_js();\n    });\n  }\n}(window));",
      "application/vnd.holoviews_load.v0+json": ""
     },
     "metadata": {},
     "output_type": "display_data"
    },
    {
     "data": {
      "application/javascript": "\nif ((window.PyViz === undefined) || (window.PyViz instanceof HTMLElement)) {\n  window.PyViz = {comms: {}, comm_status:{}, kernels:{}, receivers: {}, plot_index: []}\n}\n\n\n    function JupyterCommManager() {\n    }\n\n    JupyterCommManager.prototype.register_target = function(plot_id, comm_id, msg_handler) {\n      if (window.comm_manager || ((window.Jupyter !== undefined) && (Jupyter.notebook.kernel != null))) {\n        var comm_manager = window.comm_manager || Jupyter.notebook.kernel.comm_manager;\n        comm_manager.register_target(comm_id, function(comm) {\n          comm.on_msg(msg_handler);\n        });\n      } else if ((plot_id in window.PyViz.kernels) && (window.PyViz.kernels[plot_id])) {\n        window.PyViz.kernels[plot_id].registerCommTarget(comm_id, function(comm) {\n          comm.onMsg = msg_handler;\n        });\n      } else if (typeof google != 'undefined' && google.colab.kernel != null) {\n        google.colab.kernel.comms.registerTarget(comm_id, (comm) => {\n          var messages = comm.messages[Symbol.asyncIterator]();\n          function processIteratorResult(result) {\n            var message = result.value;\n            console.log(message)\n            var content = {data: message.data, comm_id};\n            var buffers = []\n            for (var buffer of message.buffers || []) {\n              buffers.push(new DataView(buffer))\n            }\n            var metadata = message.metadata || {};\n            var msg = {content, buffers, metadata}\n            msg_handler(msg);\n            return messages.next().then(processIteratorResult);\n          }\n          return messages.next().then(processIteratorResult);\n        })\n      }\n    }\n\n    JupyterCommManager.prototype.get_client_comm = function(plot_id, comm_id, msg_handler) {\n      if (comm_id in window.PyViz.comms) {\n        return window.PyViz.comms[comm_id];\n      } else if (window.comm_manager || ((window.Jupyter !== undefined) && (Jupyter.notebook.kernel != null))) {\n        var comm_manager = window.comm_manager || Jupyter.notebook.kernel.comm_manager;\n        var comm = comm_manager.new_comm(comm_id, {}, {}, {}, comm_id);\n        if (msg_handler) {\n          comm.on_msg(msg_handler);\n        }\n      } else if ((plot_id in window.PyViz.kernels) && (window.PyViz.kernels[plot_id])) {\n        var comm = window.PyViz.kernels[plot_id].connectToComm(comm_id);\n        comm.open();\n        if (msg_handler) {\n          comm.onMsg = msg_handler;\n        }\n      } else if (typeof google != 'undefined' && google.colab.kernel != null) {\n        var comm_promise = google.colab.kernel.comms.open(comm_id)\n        comm_promise.then((comm) => {\n          window.PyViz.comms[comm_id] = comm;\n          if (msg_handler) {\n            var messages = comm.messages[Symbol.asyncIterator]();\n            function processIteratorResult(result) {\n              var message = result.value;\n              var content = {data: message.data};\n              var metadata = message.metadata || {comm_id};\n              var msg = {content, metadata}\n              msg_handler(msg);\n              return messages.next().then(processIteratorResult);\n            }\n            return messages.next().then(processIteratorResult);\n          }\n        }) \n        var sendClosure = (data, metadata, buffers, disposeOnDone) => {\n          return comm_promise.then((comm) => {\n            comm.send(data, metadata, buffers, disposeOnDone);\n          });\n        };\n        var comm = {\n          send: sendClosure\n        };\n      }\n      window.PyViz.comms[comm_id] = comm;\n      return comm;\n    }\n    window.PyViz.comm_manager = new JupyterCommManager();\n    \n\n\nvar JS_MIME_TYPE = 'application/javascript';\nvar HTML_MIME_TYPE = 'text/html';\nvar EXEC_MIME_TYPE = 'application/vnd.holoviews_exec.v0+json';\nvar CLASS_NAME = 'output';\n\n/**\n * Render data to the DOM node\n */\nfunction render(props, node) {\n  var div = document.createElement(\"div\");\n  var script = document.createElement(\"script\");\n  node.appendChild(div);\n  node.appendChild(script);\n}\n\n/**\n * Handle when a new output is added\n */\nfunction handle_add_output(event, handle) {\n  var output_area = handle.output_area;\n  var output = handle.output;\n  if ((output.data == undefined) || (!output.data.hasOwnProperty(EXEC_MIME_TYPE))) {\n    return\n  }\n  var id = output.metadata[EXEC_MIME_TYPE][\"id\"];\n  var toinsert = output_area.element.find(\".\" + CLASS_NAME.split(' ')[0]);\n  if (id !== undefined) {\n    var nchildren = toinsert.length;\n    var html_node = toinsert[nchildren-1].children[0];\n    html_node.innerHTML = output.data[HTML_MIME_TYPE];\n    var scripts = [];\n    var nodelist = html_node.querySelectorAll(\"script\");\n    for (var i in nodelist) {\n      if (nodelist.hasOwnProperty(i)) {\n        scripts.push(nodelist[i])\n      }\n    }\n\n    scripts.forEach( function (oldScript) {\n      var newScript = document.createElement(\"script\");\n      var attrs = [];\n      var nodemap = oldScript.attributes;\n      for (var j in nodemap) {\n        if (nodemap.hasOwnProperty(j)) {\n          attrs.push(nodemap[j])\n        }\n      }\n      attrs.forEach(function(attr) { newScript.setAttribute(attr.name, attr.value) });\n      newScript.appendChild(document.createTextNode(oldScript.innerHTML));\n      oldScript.parentNode.replaceChild(newScript, oldScript);\n    });\n    if (JS_MIME_TYPE in output.data) {\n      toinsert[nchildren-1].children[1].textContent = output.data[JS_MIME_TYPE];\n    }\n    output_area._hv_plot_id = id;\n    if ((window.Bokeh !== undefined) && (id in Bokeh.index)) {\n      window.PyViz.plot_index[id] = Bokeh.index[id];\n    } else {\n      window.PyViz.plot_index[id] = null;\n    }\n  } else if (output.metadata[EXEC_MIME_TYPE][\"server_id\"] !== undefined) {\n    var bk_div = document.createElement(\"div\");\n    bk_div.innerHTML = output.data[HTML_MIME_TYPE];\n    var script_attrs = bk_div.children[0].attributes;\n    for (var i = 0; i < script_attrs.length; i++) {\n      toinsert[toinsert.length - 1].childNodes[1].setAttribute(script_attrs[i].name, script_attrs[i].value);\n    }\n    // store reference to server id on output_area\n    output_area._bokeh_server_id = output.metadata[EXEC_MIME_TYPE][\"server_id\"];\n  }\n}\n\n/**\n * Handle when an output is cleared or removed\n */\nfunction handle_clear_output(event, handle) {\n  var id = handle.cell.output_area._hv_plot_id;\n  var server_id = handle.cell.output_area._bokeh_server_id;\n  if (((id === undefined) || !(id in PyViz.plot_index)) && (server_id !== undefined)) { return; }\n  var comm = window.PyViz.comm_manager.get_client_comm(\"hv-extension-comm\", \"hv-extension-comm\", function () {});\n  if (server_id !== null) {\n    comm.send({event_type: 'server_delete', 'id': server_id});\n    return;\n  } else if (comm !== null) {\n    comm.send({event_type: 'delete', 'id': id});\n  }\n  delete PyViz.plot_index[id];\n  if ((window.Bokeh !== undefined) & (id in window.Bokeh.index)) {\n    var doc = window.Bokeh.index[id].model.document\n    doc.clear();\n    const i = window.Bokeh.documents.indexOf(doc);\n    if (i > -1) {\n      window.Bokeh.documents.splice(i, 1);\n    }\n  }\n}\n\n/**\n * Handle kernel restart event\n */\nfunction handle_kernel_cleanup(event, handle) {\n  delete PyViz.comms[\"hv-extension-comm\"];\n  window.PyViz.plot_index = {}\n}\n\n/**\n * Handle update_display_data messages\n */\nfunction handle_update_output(event, handle) {\n  handle_clear_output(event, {cell: {output_area: handle.output_area}})\n  handle_add_output(event, handle)\n}\n\nfunction register_renderer(events, OutputArea) {\n  function append_mime(data, metadata, element) {\n    // create a DOM node to render to\n    var toinsert = this.create_output_subarea(\n    metadata,\n    CLASS_NAME,\n    EXEC_MIME_TYPE\n    );\n    this.keyboard_manager.register_events(toinsert);\n    // Render to node\n    var props = {data: data, metadata: metadata[EXEC_MIME_TYPE]};\n    render(props, toinsert[0]);\n    element.append(toinsert);\n    return toinsert\n  }\n\n  events.on('output_added.OutputArea', handle_add_output);\n  events.on('output_updated.OutputArea', handle_update_output);\n  events.on('clear_output.CodeCell', handle_clear_output);\n  events.on('delete.Cell', handle_clear_output);\n  events.on('kernel_ready.Kernel', handle_kernel_cleanup);\n\n  OutputArea.prototype.register_mime_type(EXEC_MIME_TYPE, append_mime, {\n    safe: true,\n    index: 0\n  });\n}\n\nif (window.Jupyter !== undefined) {\n  try {\n    var events = require('base/js/events');\n    var OutputArea = require('notebook/js/outputarea').OutputArea;\n    if (OutputArea.prototype.mime_types().indexOf(EXEC_MIME_TYPE) == -1) {\n      register_renderer(events, OutputArea);\n    }\n  } catch(err) {\n  }\n}\n",
      "application/vnd.holoviews_load.v0+json": ""
     },
     "metadata": {},
     "output_type": "display_data"
    },
    {
     "data": {
      "text/html": [
       "<style>.bk-root, .bk-root .bk:before, .bk-root .bk:after {\n",
       "  font-family: var(--jp-ui-font-size1);\n",
       "  font-size: var(--jp-ui-font-size1);\n",
       "  color: var(--jp-ui-font-color1);\n",
       "}\n",
       "</style>"
      ]
     },
     "metadata": {},
     "output_type": "display_data"
    }
   ],
   "source": [
    "pn.extension()"
   ]
  },
  {
   "attachments": {},
   "cell_type": "markdown",
   "metadata": {},
   "source": [
    "### Radio buttons select a text entry or a slider"
   ]
  },
  {
   "cell_type": "code",
   "execution_count": 3,
   "metadata": {
    "vscode": {
     "languageId": "shellscript"
    }
   },
   "outputs": [],
   "source": [
    "budget_levels = [\n",
    "    ('$0', 0, 0),\n",
    "    ('$1M', 1000000, 100000),\n",
    "    ('$2.5M', 2500000, 250000),\n",
    "    ('$5M', 5000000, 500000),\n",
    "    ('$10M', 10000000, 1000000),\n",
    "    ('$25M', 25000000, 2500000),\n",
    "    ('$50M', 50000000, 5000000),\n",
    "    ('$100M', 100000000, 10000000),\n",
    "]"
   ]
  },
  {
   "cell_type": "code",
   "execution_count": 4,
   "metadata": {
    "vscode": {
     "languageId": "shellscript"
    }
   },
   "outputs": [],
   "source": [
    "class BudgetBox(pn.Column):\n",
    "\n",
    "    def __init__(self):\n",
    "        super(BudgetBox, self).__init__(margin=(15,0,15,5))\n",
    "        self.budget_type = pn.widgets.RadioBoxGroup(options=['Return on Investment','Single Budget'], inline=False)\n",
    "        self.budget_type.param.watch(self.budget_type_cb, ['value'])\n",
    "        self.levels = [x[0] for x in budget_levels]\n",
    "        self.map = { x[0]: x[1:] for x in budget_levels }\n",
    "        self.slider = pn.widgets.DiscreteSlider(\n",
    "            name='Maximum Budget',\n",
    "            options = self.levels[:1],\n",
    "            value = self.levels[0]\n",
    "        )\n",
    "        self.slider.param.watch(self.slider_cb, ['value'])\n",
    "        # self.slider_box = pn.WidgetBox(self.slider)\n",
    "        self.float_input = pn.widgets.FloatInput(name='Budget', value=0, format='$0,0.00')\n",
    "        self.row = pn.Row(self.budget_type, self.slider, 'display placeholder')\n",
    "        self.append(self.row)\n",
    "        # self.append('display placeholder')\n",
    "\n",
    "    def budget_type_cb(self, args):\n",
    "        w = self.float_input if self.budget_type.value.startswith('Single') else self.slider\n",
    "        self.row[1] = w\n",
    "        self.row[2] = 'widget changed to ' + self.budget_type.value\n",
    "\n",
    "    def slider_cb(self, args):\n",
    "        b, x = self.map[self.slider.value]\n",
    "        self.row[-1] = f'0 to {b} in steps of {x}'\n",
    "\n",
    "    def set_budget_max(self, n):\n",
    "        for i in range(len(budget_levels)-1, -1, -1):\n",
    "            if n >= budget_levels[i][1]:\n",
    "                self.slider.options = self.levels[:i+1]\n",
    "                break\n"
   ]
  },
  {
   "cell_type": "code",
   "execution_count": 5,
   "metadata": {
    "vscode": {
     "languageId": "shellscript"
    }
   },
   "outputs": [],
   "source": [
    "w = BudgetBox()"
   ]
  },
  {
   "cell_type": "code",
   "execution_count": 6,
   "metadata": {
    "vscode": {
     "languageId": "shellscript"
    }
   },
   "outputs": [
    {
     "data": {
      "application/vnd.jupyter.widget-view+json": {
       "model_id": "960405ef24374e70b6869f50bbad7371",
       "version_major": 2,
       "version_minor": 0
      },
      "text/plain": [
       "BokehModel(combine_events=True, render_bundle={'docs_json': {'6d325e22-05f4-45ba-8751-ab03db5fdac1': {'defs': …"
      ]
     },
     "execution_count": 6,
     "metadata": {},
     "output_type": "execute_result"
    }
   ],
   "source": [
    "w"
   ]
  },
  {
   "cell_type": "code",
   "execution_count": 7,
   "metadata": {
    "vscode": {
     "languageId": "shellscript"
    }
   },
   "outputs": [],
   "source": [
    "w.set_budget_max(6000000)"
   ]
  },
  {
   "attachments": {},
   "cell_type": "markdown",
   "metadata": {},
   "source": [
    "### Tabs"
   ]
  },
  {
   "cell_type": "code",
   "execution_count": 8,
   "metadata": {
    "vscode": {
     "languageId": "shellscript"
    }
   },
   "outputs": [],
   "source": [
    "class BudgetBox(pn.Column):\n",
    "\n",
    "    levels = [\n",
    "        ('$0', 0),\n",
    "        ('$500K', 500000),\n",
    "        ('$1M', 1000000),\n",
    "        ('$2.5M', 2500000),\n",
    "        ('$5M', 5000000),\n",
    "        ('$10M', 10000000),\n",
    "        ('$25M', 25000000),\n",
    "        ('$50M', 50000000),\n",
    "        ('$100M', 100000000),\n",
    "    ]\n",
    "\n",
    "    boxh = 125\n",
    "    boxw = 400\n",
    "    npts = 10\n",
    "\n",
    "    def __init__(self):\n",
    "        super(BudgetBox, self).__init__(margin=(15,0,15,5))\n",
    "        self.labels = [x[0] for x in BudgetBox.levels]\n",
    "        self.map = { x[0]: x[1] for x in BudgetBox.levels }\n",
    "        self.tabs = pn.Tabs(\n",
    "            ('ROI', \n",
    "             pn.WidgetBox(\n",
    "                pn.widgets.DiscreteSlider(\n",
    "                    options = self.labels[:1], \n",
    "                    value = self.labels[0],\n",
    "                    name = 'Maximum Budget'\n",
    "                ),\n",
    "                height=BudgetBox.boxh,\n",
    "                width=BudgetBox.boxw)),\n",
    "            ('Fixed', \n",
    "             pn.WidgetBox(\n",
    "                pn.widgets.TextInput(name='Budget Amount', value='$'),\n",
    "                height=BudgetBox.boxh,\n",
    "                width=BudgetBox.boxw)),\n",
    "            ('ℹ️',\n",
    "            pn.WidgetBox(\n",
    "                pn.pane.Markdown('''\n",
    "                    **ROI** (return on investment) will generate a plot that shows the optimal set\n",
    "                    of gates for several different budget levels.\n",
    "\n",
    "                    **Fixed** will compute the optimal set of gates for a single budget.\n",
    "                '''),\n",
    "                height=BudgetBox.boxh,\n",
    "                width=BudgetBox.boxw))\n",
    "        )\n",
    "        self.append(self.tabs)\n",
    "        self.slider = self.tabs[0][0]\n",
    "        self.input = self.tabs[1][0]\n",
    "\n",
    "    def set_budget_max(self, n):\n",
    "        for i in range(len(BudgetBox.levels)-1, -1, -1):\n",
    "            if n >= BudgetBox.levels[i][1]:\n",
    "                self.slider.options = self.labels[:i+1]\n",
    "                break\n",
    "\n",
    "    def values(self):\n",
    "        if self.tabs.active == 0:\n",
    "            x = self.map[self.slider.value]\n",
    "            return x, (x // BudgetBox.npts)\n",
    "        else:\n",
    "            s = self.input.value\n",
    "            if s.startswith('$'):\n",
    "                s = s[1:]\n",
    "            return self.input.value, 0\n"
   ]
  },
  {
   "cell_type": "code",
   "execution_count": 9,
   "metadata": {
    "vscode": {
     "languageId": "shellscript"
    }
   },
   "outputs": [],
   "source": [
    "w = BudgetBox()"
   ]
  },
  {
   "cell_type": "code",
   "execution_count": 10,
   "metadata": {
    "vscode": {
     "languageId": "shellscript"
    }
   },
   "outputs": [
    {
     "data": {
      "application/vnd.jupyter.widget-view+json": {
       "model_id": "99ab3a55164e4d618897ae350d245e47",
       "version_major": 2,
       "version_minor": 0
      },
      "text/plain": [
       "BokehModel(combine_events=True, render_bundle={'docs_json': {'60b20e35-23d4-4983-aa1d-18a5c7946198': {'defs': …"
      ]
     },
     "execution_count": 10,
     "metadata": {},
     "output_type": "execute_result"
    }
   ],
   "source": [
    "w"
   ]
  },
  {
   "cell_type": "code",
   "execution_count": 11,
   "metadata": {
    "vscode": {
     "languageId": "shellscript"
    }
   },
   "outputs": [
    {
     "data": {
      "application/vnd.jupyter.widget-view+json": {
       "model_id": "9032bb408f0144608391aac8600c4516",
       "version_major": 2,
       "version_minor": 0
      },
      "text/plain": [
       "BokehModel(combine_events=True, render_bundle={'docs_json': {'746bb4a6-1211-4ddb-8c31-afa99e86c36a': {'defs': …"
      ]
     },
     "execution_count": 11,
     "metadata": {},
     "output_type": "execute_result"
    }
   ],
   "source": [
    "w.tabs[1]"
   ]
  },
  {
   "cell_type": "code",
   "execution_count": 12,
   "metadata": {
    "vscode": {
     "languageId": "shellscript"
    }
   },
   "outputs": [],
   "source": [
    "w.tabs[1] = pn.pane.HTML('<p>hi</p>')"
   ]
  },
  {
   "cell_type": "code",
   "execution_count": 13,
   "metadata": {
    "vscode": {
     "languageId": "shellscript"
    }
   },
   "outputs": [
    {
     "data": {
      "text/plain": [
       "['_Layoutable__abstract',\n",
       " '_Layoutable__params',\n",
       " '_NamedListLike__params',\n",
       " '_NamedListPanel__abstract',\n",
       " '_NamedListPanel__params',\n",
       " '_Panel__abstract',\n",
       " '_Panel__params',\n",
       " '_Parameterized__db_print',\n",
       " '_Parameterized__params',\n",
       " '_Reactive__params',\n",
       " '_Renderable__abstract',\n",
       " '_Renderable__params',\n",
       " '_Syncable__abstract',\n",
       " '_Syncable__params',\n",
       " '_Tabs__params',\n",
       " '_Viewable__params',\n",
       " '__add__',\n",
       " '__annotations__',\n",
       " '__class__',\n",
       " '__delattr__',\n",
       " '__dict__',\n",
       " '__dir__',\n",
       " '__doc__',\n",
       " '__eq__',\n",
       " '__format__',\n",
       " '__ge__',\n",
       " '__getattribute__',\n",
       " '__getitem__',\n",
       " '__getstate__',\n",
       " '__gt__',\n",
       " '__hash__',\n",
       " '__iadd__',\n",
       " '__init__',\n",
       " '__init_subclass__',\n",
       " '__iter__',\n",
       " '__le__',\n",
       " '__len__',\n",
       " '__lt__',\n",
       " '__module__',\n",
       " '__ne__',\n",
       " '__new__',\n",
       " '__radd__',\n",
       " '__reduce__',\n",
       " '__reduce_ex__',\n",
       " '__repr__',\n",
       " '__setattr__',\n",
       " '__setitem__',\n",
       " '__setstate__',\n",
       " '__sizeof__',\n",
       " '__str__',\n",
       " '__subclasshook__',\n",
       " '__weakref__',\n",
       " '_add_location',\n",
       " '_add_parameter',\n",
       " '_align_param_value',\n",
       " '_apply_update',\n",
       " '_batch_update',\n",
       " '_bokeh_model',\n",
       " '_callbacks',\n",
       " '_change_coroutine',\n",
       " '_change_event',\n",
       " '_changing',\n",
       " '_cleanup',\n",
       " '_comm_change',\n",
       " '_comm_event',\n",
       " '_comms',\n",
       " '_css_classes_param_value',\n",
       " '_debounce',\n",
       " '_documents',\n",
       " '_dynamic_watchers',\n",
       " '_event_coroutine',\n",
       " '_events',\n",
       " '_found_links',\n",
       " '_get_model',\n",
       " '_get_objects',\n",
       " '_hooks',\n",
       " '_init_params',\n",
       " '_instance__params',\n",
       " '_js_transforms',\n",
       " '_kernels',\n",
       " '_link_params',\n",
       " '_link_props',\n",
       " '_linkable_params',\n",
       " '_linked_props',\n",
       " '_links',\n",
       " '_log',\n",
       " '_logger',\n",
       " '_manual_params',\n",
       " '_manual_update',\n",
       " '_models',\n",
       " '_modify_doc',\n",
       " '_name_param_value',\n",
       " '_names',\n",
       " '_objects_param_value',\n",
       " '_on_error',\n",
       " '_on_msg',\n",
       " '_on_stdout',\n",
       " '_panels',\n",
       " '_param',\n",
       " '_param_change',\n",
       " '_param_watchers',\n",
       " '_parameters_state',\n",
       " '_pprint',\n",
       " '_preprocess',\n",
       " '_preprocess_params',\n",
       " '_preprocessing_hooks',\n",
       " '_priority_changes',\n",
       " '_process_bokeh_event',\n",
       " '_process_close',\n",
       " '_process_events',\n",
       " '_process_param_change',\n",
       " '_process_property_change',\n",
       " '_register_events',\n",
       " '_rename',\n",
       " '_render_model',\n",
       " '_rendered',\n",
       " '_repr_mimebundle_',\n",
       " '_schedule_change',\n",
       " '_server_change',\n",
       " '_server_destroy',\n",
       " '_server_event',\n",
       " '_set_name',\n",
       " '_source_transforms',\n",
       " '_synced_params',\n",
       " '_target_transforms',\n",
       " '_timeout',\n",
       " '_to_object_and_name',\n",
       " '_to_objects_and_names',\n",
       " '_update_active',\n",
       " '_update_loading',\n",
       " '_update_manual',\n",
       " '_update_model',\n",
       " '_update_names',\n",
       " '_updating',\n",
       " 'active',\n",
       " 'align',\n",
       " 'app',\n",
       " 'append',\n",
       " 'aspect_ratio',\n",
       " 'background',\n",
       " 'clear',\n",
       " 'clone',\n",
       " 'closable',\n",
       " 'controls',\n",
       " 'css_classes',\n",
       " 'debug',\n",
       " 'defaults',\n",
       " 'dynamic',\n",
       " 'embed',\n",
       " 'extend',\n",
       " 'force_new_dynamic_value',\n",
       " 'get_param_values',\n",
       " 'get_root',\n",
       " 'get_value_generator',\n",
       " 'height',\n",
       " 'height_policy',\n",
       " 'initialized',\n",
       " 'insert',\n",
       " 'inspect_value',\n",
       " 'jscallback',\n",
       " 'jslink',\n",
       " 'link',\n",
       " 'loading',\n",
       " 'margin',\n",
       " 'max_height',\n",
       " 'max_width',\n",
       " 'message',\n",
       " 'min_height',\n",
       " 'min_width',\n",
       " 'name',\n",
       " 'objects',\n",
       " 'param',\n",
       " 'params',\n",
       " 'pop',\n",
       " 'pprint',\n",
       " 'print_param_defaults',\n",
       " 'print_param_values',\n",
       " 'remove',\n",
       " 'reverse',\n",
       " 'save',\n",
       " 'script_repr',\n",
       " 'scroll',\n",
       " 'select',\n",
       " 'servable',\n",
       " 'server_doc',\n",
       " 'set_default',\n",
       " 'set_dynamic_time_fn',\n",
       " 'set_param',\n",
       " 'show',\n",
       " 'sizing_mode',\n",
       " 'state_pop',\n",
       " 'state_push',\n",
       " 'tabs_location',\n",
       " 'verbose',\n",
       " 'visible',\n",
       " 'warning',\n",
       " 'width',\n",
       " 'width_policy']"
      ]
     },
     "execution_count": 13,
     "metadata": {},
     "output_type": "execute_result"
    }
   ],
   "source": [
    "dir(w.tabs)"
   ]
  },
  {
   "cell_type": "code",
   "execution_count": 14,
   "metadata": {
    "vscode": {
     "languageId": "shellscript"
    }
   },
   "outputs": [
    {
     "data": {
      "text/plain": [
       "[WidgetBox(height=125, sizing_mode='fixed', width=400)\n",
       "     [0] DiscreteSlider(name='Maximum Budget', options=['$0'], value='$0'),\n",
       " HTML(str),\n",
       " WidgetBox(height=125, sizing_mode='fixed', width=400)\n",
       "     [0] Markdown(str)]"
      ]
     },
     "execution_count": 14,
     "metadata": {},
     "output_type": "execute_result"
    }
   ],
   "source": [
    "w.tabs.objects"
   ]
  },
  {
   "cell_type": "code",
   "execution_count": 15,
   "metadata": {
    "vscode": {
     "languageId": "shellscript"
    }
   },
   "outputs": [],
   "source": [
    "w.set_budget_max(1000000)"
   ]
  },
  {
   "cell_type": "code",
   "execution_count": 16,
   "metadata": {
    "vscode": {
     "languageId": "shellscript"
    }
   },
   "outputs": [
    {
     "data": {
      "text/plain": [
       "(0, 0)"
      ]
     },
     "execution_count": 16,
     "metadata": {},
     "output_type": "execute_result"
    }
   ],
   "source": [
    "w.values()"
   ]
  },
  {
   "cell_type": "code",
   "execution_count": 17,
   "metadata": {
    "vscode": {
     "languageId": "shellscript"
    }
   },
   "outputs": [],
   "source": [
    "w = pn.widgets.DiscreteSlider(options = ['a','b','c'], value = 'b', name='Letters')"
   ]
  },
  {
   "cell_type": "code",
   "execution_count": 18,
   "metadata": {
    "vscode": {
     "languageId": "shellscript"
    }
   },
   "outputs": [
    {
     "data": {
      "application/vnd.jupyter.widget-view+json": {
       "model_id": "586438dadad44868b6c784256a05f533",
       "version_major": 2,
       "version_minor": 0
      },
      "text/plain": [
       "BokehModel(combine_events=True, render_bundle={'docs_json': {'2d781244-29b3-4cc9-a77e-af36ce6acd54': {'defs': …"
      ]
     },
     "execution_count": 18,
     "metadata": {},
     "output_type": "execute_result"
    }
   ],
   "source": [
    "w"
   ]
  },
  {
   "cell_type": "code",
   "execution_count": 19,
   "metadata": {
    "vscode": {
     "languageId": "shellscript"
    }
   },
   "outputs": [
    {
     "data": {
      "text/plain": [
       "'b'"
      ]
     },
     "execution_count": 19,
     "metadata": {},
     "output_type": "execute_result"
    }
   ],
   "source": [
    "w.value"
   ]
  },
  {
   "cell_type": "code",
   "execution_count": 20,
   "metadata": {
    "vscode": {
     "languageId": "shellscript"
    }
   },
   "outputs": [
    {
     "data": {
      "text/plain": [
       "'Letters'"
      ]
     },
     "execution_count": 20,
     "metadata": {},
     "output_type": "execute_result"
    }
   ],
   "source": [
    "w.name"
   ]
  },
  {
   "cell_type": "code",
   "execution_count": 21,
   "metadata": {
    "vscode": {
     "languageId": "shellscript"
    }
   },
   "outputs": [],
   "source": [
    "from babel.numbers import parse_number, parse_decimal"
   ]
  },
  {
   "cell_type": "code",
   "execution_count": 22,
   "metadata": {
    "vscode": {
     "languageId": "shellscript"
    }
   },
   "outputs": [
    {
     "data": {
      "text/plain": [
       "Decimal('1234.8')"
      ]
     },
     "execution_count": 22,
     "metadata": {},
     "output_type": "execute_result"
    }
   ],
   "source": [
    "parse_decimal('12,34.8', locale='en_US')"
   ]
  },
  {
   "cell_type": "code",
   "execution_count": 23,
   "metadata": {
    "vscode": {
     "languageId": "shellscript"
    }
   },
   "outputs": [],
   "source": [
    "def parse_dollar_amount(s):\n",
    "    try:\n",
    "        if s.startswith('$'):\n",
    "            s = s[1:]\n",
    "        if s.endswith(('K','M')):\n",
    "            multiplier = 1000 if s.endswith('K') else 1000000\n",
    "            res = int(float(s[:-1]) * multiplier)\n",
    "        elif ',' in s:\n",
    "            parts = s.split(',')\n",
    "            assert len(parts[0]) <= 3 and (len(parts) == 1 or all(len(p) == 3 for p in parts[1:]))\n",
    "            res = int(''.join(parts))\n",
    "        else:\n",
    "            res = int(s)\n",
    "        return res\n",
    "    except Exception:\n",
    "        raise ValueError('unexpected format in dollar amount')"
   ]
  },
  {
   "cell_type": "code",
   "execution_count": 24,
   "metadata": {
    "vscode": {
     "languageId": "shellscript"
    }
   },
   "outputs": [
    {
     "data": {
      "text/plain": [
       "1567"
      ]
     },
     "execution_count": 24,
     "metadata": {},
     "output_type": "execute_result"
    }
   ],
   "source": [
    "parse_dollar_amount('1567')"
   ]
  },
  {
   "cell_type": "code",
   "execution_count": 25,
   "metadata": {
    "vscode": {
     "languageId": "shellscript"
    }
   },
   "outputs": [
    {
     "data": {
      "text/plain": [
       "1234"
      ]
     },
     "execution_count": 25,
     "metadata": {},
     "output_type": "execute_result"
    }
   ],
   "source": [
    "parse_dollar_amount('$1234')"
   ]
  },
  {
   "cell_type": "code",
   "execution_count": 26,
   "metadata": {
    "vscode": {
     "languageId": "shellscript"
    }
   },
   "outputs": [
    {
     "data": {
      "text/plain": [
       "500000"
      ]
     },
     "execution_count": 26,
     "metadata": {},
     "output_type": "execute_result"
    }
   ],
   "source": [
    "parse_dollar_amount('$500K')"
   ]
  },
  {
   "cell_type": "code",
   "execution_count": 27,
   "metadata": {
    "vscode": {
     "languageId": "shellscript"
    }
   },
   "outputs": [
    {
     "data": {
      "text/plain": [
       "123456"
      ]
     },
     "execution_count": 27,
     "metadata": {},
     "output_type": "execute_result"
    }
   ],
   "source": [
    "parse_dollar_amount('$123,456')"
   ]
  },
  {
   "cell_type": "code",
   "execution_count": 28,
   "metadata": {
    "vscode": {
     "languageId": "shellscript"
    }
   },
   "outputs": [
    {
     "data": {
      "text/plain": [
       "12345"
      ]
     },
     "execution_count": 28,
     "metadata": {},
     "output_type": "execute_result"
    }
   ],
   "source": [
    "parse_dollar_amount('12,345')"
   ]
  },
  {
   "cell_type": "code",
   "execution_count": 29,
   "metadata": {
    "vscode": {
     "languageId": "shellscript"
    }
   },
   "outputs": [
    {
     "data": {
      "text/plain": [
       "1500000"
      ]
     },
     "execution_count": 29,
     "metadata": {},
     "output_type": "execute_result"
    }
   ],
   "source": [
    "parse_dollar_amount('$1.5M')"
   ]
  },
  {
   "cell_type": "code",
   "execution_count": 30,
   "metadata": {
    "vscode": {
     "languageId": "shellscript"
    }
   },
   "outputs": [],
   "source": [
    "# parse_dollar_amount('123,45')"
   ]
  },
  {
   "cell_type": "markdown",
   "metadata": {},
   "source": [
    "### Welcome Text"
   ]
  },
  {
   "cell_type": "code",
   "execution_count": 31,
   "metadata": {},
   "outputs": [],
   "source": [
    "text = open('../static/welcome.html').read()"
   ]
  },
  {
   "cell_type": "code",
   "execution_count": 32,
   "metadata": {},
   "outputs": [
    {
     "data": {
      "application/vnd.jupyter.widget-view+json": {
       "model_id": "e55969e67ebd4da989f02caa8766a859",
       "version_major": 2,
       "version_minor": 0
      },
      "text/plain": [
       "BokehModel(combine_events=True, render_bundle={'docs_json': {'62d48c99-91c6-4d75-adee-4e7528dae013': {'defs': …"
      ]
     },
     "execution_count": 32,
     "metadata": {},
     "output_type": "execute_result"
    }
   ],
   "source": [
    "pn.pane.HTML(text, width=600)"
   ]
  },
  {
   "cell_type": "markdown",
   "metadata": {},
   "source": [
    "### Download Dialog"
   ]
  },
  {
   "cell_type": "markdown",
   "metadata": {},
   "source": [
    "Display download options and a download button in a separate tab in the top level GUI."
   ]
  },
  {
   "cell_type": "code",
   "execution_count": 33,
   "metadata": {},
   "outputs": [],
   "source": [
    "NB = 'Net benefit plot'\n",
    "IT = 'Individual target plots'\n",
    "BS = 'Budget summary table'\n",
    "BD = 'Barrier detail table'"
   ]
  },
  {
   "cell_type": "code",
   "execution_count": 34,
   "metadata": {},
   "outputs": [],
   "source": [
    "boxes = pn.widgets.CheckBoxGroup(\n",
    "    name='Select items to download:',\n",
    "    inline=False,\n",
    "    options=[NB, IT, BS, BD],\n",
    "    value = [NB, IT, BS, BD]\n",
    ")"
   ]
  },
  {
   "cell_type": "code",
   "execution_count": 35,
   "metadata": {},
   "outputs": [],
   "source": [
    "text_input = pn.widgets.TextInput(name='Archive File Name', placeholder='.zip')"
   ]
  },
  {
   "cell_type": "code",
   "execution_count": 36,
   "metadata": {},
   "outputs": [],
   "source": [
    "button = pn.widgets.Button(name='Download')"
   ]
  },
  {
   "cell_type": "code",
   "execution_count": 37,
   "metadata": {},
   "outputs": [],
   "source": [
    "def cb(*args, **kwargs):\n",
    "    print('clicked!')"
   ]
  },
  {
   "cell_type": "code",
   "execution_count": 38,
   "metadata": {},
   "outputs": [],
   "source": [
    "fd = pn.widgets.FileDownload(callback = cb, filename='foo.txt')"
   ]
  },
  {
   "cell_type": "code",
   "execution_count": 39,
   "metadata": {},
   "outputs": [
    {
     "data": {
      "application/vnd.jupyter.widget-view+json": {
       "model_id": "8995f8e6a00b472dabd32ed72ea2e0d6",
       "version_major": 2,
       "version_minor": 0
      },
      "text/plain": [
       "BokehModel(combine_events=True, render_bundle={'docs_json': {'606245dd-4544-431c-83ae-0630b5ae02d2': {'defs': …"
      ]
     },
     "execution_count": 39,
     "metadata": {},
     "output_type": "execute_result"
    }
   ],
   "source": [
    "pn.Column(\n",
    "    pn.Row(boxes, text_input),\n",
    "    button,\n",
    "    fd\n",
    ")"
   ]
  },
  {
   "cell_type": "code",
   "execution_count": 42,
   "metadata": {},
   "outputs": [
    {
     "data": {
      "text/plain": [
       "'foo.txt'"
      ]
     },
     "execution_count": 42,
     "metadata": {},
     "output_type": "execute_result"
    }
   ],
   "source": [
    "fd.filename"
   ]
  },
  {
   "cell_type": "code",
   "execution_count": 45,
   "metadata": {},
   "outputs": [
    {
     "data": {
      "text/plain": [
       "0"
      ]
     },
     "execution_count": 45,
     "metadata": {},
     "output_type": "execute_result"
    }
   ],
   "source": [
    "fd._clicks"
   ]
  },
  {
   "cell_type": "code",
   "execution_count": 46,
   "metadata": {},
   "outputs": [
    {
     "name": "stdout",
     "output_type": "stream",
     "text": [
      "clicked!\n",
      "Unexpected exception formatting exception. Falling back to standard exception\n"
     ]
    },
    {
     "name": "stderr",
     "output_type": "stream",
     "text": [
      "Traceback (most recent call last):\n",
      "  File \"/Users/conery/.pyenv/versions/3.10.6/envs/panel/lib/python3.10/site-packages/IPython/core/interactiveshell.py\", line 3433, in run_code\n",
      "    exec(code_obj, self.user_global_ns, self.user_ns)\n",
      "  File \"/var/folders/x_/69lnc94x77g6b_w8g68rnty40000gn/T/ipykernel_19473/22017008.py\", line 1, in <module>\n",
      "    fd._clicks += 1\n",
      "  File \"/Users/conery/.pyenv/versions/3.10.6/envs/panel/lib/python3.10/site-packages/param/parameterized.py\", line 369, in _f\n",
      "    return f(self, obj, val)\n",
      "  File \"/Users/conery/.pyenv/versions/3.10.6/envs/panel/lib/python3.10/site-packages/param/__init__.py\", line 625, in __set__\n",
      "    super(Dynamic,self).__set__(obj,val)\n",
      "  File \"/Users/conery/.pyenv/versions/3.10.6/envs/panel/lib/python3.10/site-packages/param/parameterized.py\", line 369, in _f\n",
      "    return f(self, obj, val)\n",
      "  File \"/Users/conery/.pyenv/versions/3.10.6/envs/panel/lib/python3.10/site-packages/param/parameterized.py\", line 1248, in __set__\n",
      "    obj.param._call_watcher(watcher, event)\n",
      "  File \"/Users/conery/.pyenv/versions/3.10.6/envs/panel/lib/python3.10/site-packages/param/parameterized.py\", line 2039, in _call_watcher\n",
      "    self_._execute_watcher(watcher, (event,))\n",
      "  File \"/Users/conery/.pyenv/versions/3.10.6/envs/panel/lib/python3.10/site-packages/param/parameterized.py\", line 2021, in _execute_watcher\n",
      "    watcher.fn(*args, **kwargs)\n",
      "  File \"/Users/conery/.pyenv/versions/3.10.6/envs/panel/lib/python3.10/site-packages/param/parameterized.py\", line 669, in caller\n",
      "    return function()\n",
      "  File \"/Users/conery/.pyenv/versions/3.10.6/envs/panel/lib/python3.10/site-packages/param/parameterized.py\", line 407, in _depends\n",
      "    return func(*args, **kw)\n",
      "  File \"/Users/conery/.pyenv/versions/3.10.6/envs/panel/lib/python3.10/site-packages/panel/widgets/misc.py\", line 213, in _transfer\n",
      "    raise ValueError('Cannot transfer unknown object of type %s' %\n",
      "ValueError: Cannot transfer unknown object of type NoneType\n",
      "\n",
      "During handling of the above exception, another exception occurred:\n",
      "\n",
      "Traceback (most recent call last):\n",
      "  File \"/Users/conery/.pyenv/versions/3.10.6/envs/panel/lib/python3.10/site-packages/IPython/core/interactiveshell.py\", line 2052, in showtraceback\n",
      "    stb = self.InteractiveTB.structured_traceback(\n",
      "  File \"/Users/conery/.pyenv/versions/3.10.6/envs/panel/lib/python3.10/site-packages/IPython/core/ultratb.py\", line 1112, in structured_traceback\n",
      "    return FormattedTB.structured_traceback(\n",
      "  File \"/Users/conery/.pyenv/versions/3.10.6/envs/panel/lib/python3.10/site-packages/IPython/core/ultratb.py\", line 1006, in structured_traceback\n",
      "    return VerboseTB.structured_traceback(\n",
      "  File \"/Users/conery/.pyenv/versions/3.10.6/envs/panel/lib/python3.10/site-packages/IPython/core/ultratb.py\", line 859, in structured_traceback\n",
      "    formatted_exception = self.format_exception_as_a_whole(etype, evalue, etb, number_of_lines_of_context,\n",
      "  File \"/Users/conery/.pyenv/versions/3.10.6/envs/panel/lib/python3.10/site-packages/IPython/core/ultratb.py\", line 812, in format_exception_as_a_whole\n",
      "    frames.append(self.format_record(r))\n",
      "  File \"/Users/conery/.pyenv/versions/3.10.6/envs/panel/lib/python3.10/site-packages/IPython/core/ultratb.py\", line 730, in format_record\n",
      "    result += ''.join(_format_traceback_lines(frame_info.lines, Colors, self.has_colors, lvals))\n",
      "  File \"/Users/conery/.pyenv/versions/3.10.6/envs/panel/lib/python3.10/site-packages/stack_data/utils.py\", line 144, in cached_property_wrapper\n",
      "    value = obj.__dict__[self.func.__name__] = self.func(obj)\n",
      "  File \"/Users/conery/.pyenv/versions/3.10.6/envs/panel/lib/python3.10/site-packages/stack_data/core.py\", line 720, in lines\n",
      "    pieces = self.included_pieces\n",
      "  File \"/Users/conery/.pyenv/versions/3.10.6/envs/panel/lib/python3.10/site-packages/stack_data/utils.py\", line 144, in cached_property_wrapper\n",
      "    value = obj.__dict__[self.func.__name__] = self.func(obj)\n",
      "  File \"/Users/conery/.pyenv/versions/3.10.6/envs/panel/lib/python3.10/site-packages/stack_data/core.py\", line 663, in included_pieces\n",
      "    scope_pieces = self.scope_pieces\n",
      "  File \"/Users/conery/.pyenv/versions/3.10.6/envs/panel/lib/python3.10/site-packages/stack_data/utils.py\", line 144, in cached_property_wrapper\n",
      "    value = obj.__dict__[self.func.__name__] = self.func(obj)\n",
      "  File \"/Users/conery/.pyenv/versions/3.10.6/envs/panel/lib/python3.10/site-packages/stack_data/core.py\", line 603, in scope_pieces\n",
      "    for piece in self.source.pieces\n",
      "  File \"/Users/conery/.pyenv/versions/3.10.6/envs/panel/lib/python3.10/site-packages/stack_data/utils.py\", line 144, in cached_property_wrapper\n",
      "    value = obj.__dict__[self.func.__name__] = self.func(obj)\n",
      "  File \"/Users/conery/.pyenv/versions/3.10.6/envs/panel/lib/python3.10/site-packages/stack_data/core.py\", line 101, in pieces\n",
      "    return list(self._clean_pieces())\n",
      "  File \"/Users/conery/.pyenv/versions/3.10.6/envs/panel/lib/python3.10/site-packages/stack_data/core.py\", line 125, in _clean_pieces\n",
      "    raise AssertionError(\"Pieces mismatches: %s\" % mismatches)\n",
      "AssertionError: Pieces mismatches: [{680, 681}, {696, 695}, {708, 709}, {714, 715}]\n"
     ]
    }
   ],
   "source": [
    "fd._clicks += 1"
   ]
  },
  {
   "cell_type": "code",
   "execution_count": 118,
   "metadata": {},
   "outputs": [],
   "source": [
    "fd.filename = 'bar.txt'"
   ]
  },
  {
   "cell_type": "code",
   "execution_count": 120,
   "metadata": {},
   "outputs": [
    {
     "data": {
      "text/plain": [
       "['Net benefit plot',\n",
       " 'Individual target plots',\n",
       " 'Budget summary table',\n",
       " 'Barrier detail table']"
      ]
     },
     "execution_count": 120,
     "metadata": {},
     "output_type": "execute_result"
    }
   ],
   "source": [
    "boxes.values"
   ]
  },
  {
   "cell_type": "code",
   "execution_count": 41,
   "metadata": {},
   "outputs": [
    {
     "data": {
      "text/plain": [
       "['_FileDownload__params',\n",
       " '_Layoutable__abstract',\n",
       " '_Layoutable__params',\n",
       " '_Parameterized__db_print',\n",
       " '_Parameterized__params',\n",
       " '_Reactive__params',\n",
       " '_Renderable__abstract',\n",
       " '_Renderable__params',\n",
       " '_Syncable__abstract',\n",
       " '_Syncable__params',\n",
       " '_Viewable__params',\n",
       " '_Widget__abstract',\n",
       " '_Widget__params',\n",
       " '__annotations__',\n",
       " '__class__',\n",
       " '__delattr__',\n",
       " '__dict__',\n",
       " '__dir__',\n",
       " '__doc__',\n",
       " '__eq__',\n",
       " '__format__',\n",
       " '__ge__',\n",
       " '__getattribute__',\n",
       " '__getstate__',\n",
       " '__gt__',\n",
       " '__hash__',\n",
       " '__init__',\n",
       " '__init_subclass__',\n",
       " '__le__',\n",
       " '__lt__',\n",
       " '__module__',\n",
       " '__ne__',\n",
       " '__new__',\n",
       " '__reduce__',\n",
       " '__reduce_ex__',\n",
       " '__repr__',\n",
       " '__setattr__',\n",
       " '__setstate__',\n",
       " '__sizeof__',\n",
       " '__str__',\n",
       " '__subclasshook__',\n",
       " '__weakref__',\n",
       " '_add_location',\n",
       " '_add_parameter',\n",
       " '_align_param_value',\n",
       " '_apply_update',\n",
       " '_callback_param_value',\n",
       " '_callbacks',\n",
       " '_change_coroutine',\n",
       " '_change_event',\n",
       " '_changing',\n",
       " '_cleanup',\n",
       " '_clicks',\n",
       " '_comm_change',\n",
       " '_comm_event',\n",
       " '_comms',\n",
       " '_css_classes_param_value',\n",
       " '_debounce',\n",
       " '_default_label',\n",
       " '_documents',\n",
       " '_dynamic_watchers',\n",
       " '_event_coroutine',\n",
       " '_events',\n",
       " '_file_param_value',\n",
       " '_filename_param_value',\n",
       " '_filter_properties',\n",
       " '_found_links',\n",
       " '_get_embed_state',\n",
       " '_get_model',\n",
       " '_hooks',\n",
       " '_init_params',\n",
       " '_instance__params',\n",
       " '_js_transforms',\n",
       " '_kernels',\n",
       " '_label_param_value',\n",
       " '_link_params',\n",
       " '_link_props',\n",
       " '_linkable_params',\n",
       " '_links',\n",
       " '_log',\n",
       " '_logger',\n",
       " '_manual_params',\n",
       " '_manual_update',\n",
       " '_mime_types',\n",
       " '_models',\n",
       " '_modify_doc',\n",
       " '_name_param_value',\n",
       " '_on_error',\n",
       " '_on_msg',\n",
       " '_on_stdout',\n",
       " '_param',\n",
       " '_param_change',\n",
       " '_param_pane',\n",
       " '_param_watchers',\n",
       " '_parameters_state',\n",
       " '_pprint',\n",
       " '_preprocess',\n",
       " '_preprocessing_hooks',\n",
       " '_priority_changes',\n",
       " '_process_bokeh_event',\n",
       " '_process_events',\n",
       " '_process_param_change',\n",
       " '_process_property_change',\n",
       " '_register_events',\n",
       " '_rename',\n",
       " '_render_model',\n",
       " '_repr_mimebundle_',\n",
       " '_schedule_change',\n",
       " '_server_change',\n",
       " '_server_destroy',\n",
       " '_server_event',\n",
       " '_set_name',\n",
       " '_source_transforms',\n",
       " '_supports_embed',\n",
       " '_synced',\n",
       " '_synced_params',\n",
       " '_target_transforms',\n",
       " '_timeout',\n",
       " '_transfer',\n",
       " '_transfers',\n",
       " '_update_default',\n",
       " '_update_embed',\n",
       " '_update_filename',\n",
       " '_update_label',\n",
       " '_update_loading',\n",
       " '_update_manual',\n",
       " '_update_model',\n",
       " '_updating',\n",
       " '_widget_type',\n",
       " 'align',\n",
       " 'app',\n",
       " 'aspect_ratio',\n",
       " 'auto',\n",
       " 'background',\n",
       " 'button_type',\n",
       " 'callback',\n",
       " 'clone',\n",
       " 'controls',\n",
       " 'css_classes',\n",
       " 'data',\n",
       " 'debug',\n",
       " 'defaults',\n",
       " 'disabled',\n",
       " 'embed',\n",
       " 'file',\n",
       " 'filename',\n",
       " 'force_new_dynamic_value',\n",
       " 'from_param',\n",
       " 'get_param_values',\n",
       " 'get_root',\n",
       " 'get_value_generator',\n",
       " 'height',\n",
       " 'height_policy',\n",
       " 'initialized',\n",
       " 'inspect_value',\n",
       " 'jscallback',\n",
       " 'jslink',\n",
       " 'label',\n",
       " 'link',\n",
       " 'loading',\n",
       " 'margin',\n",
       " 'max_height',\n",
       " 'max_width',\n",
       " 'message',\n",
       " 'min_height',\n",
       " 'min_width',\n",
       " 'name',\n",
       " 'param',\n",
       " 'params',\n",
       " 'pprint',\n",
       " 'print_param_defaults',\n",
       " 'print_param_values',\n",
       " 'save',\n",
       " 'script_repr',\n",
       " 'select',\n",
       " 'servable',\n",
       " 'server_doc',\n",
       " 'set_default',\n",
       " 'set_dynamic_time_fn',\n",
       " 'set_param',\n",
       " 'show',\n",
       " 'sizing_mode',\n",
       " 'state_pop',\n",
       " 'state_push',\n",
       " 'verbose',\n",
       " 'visible',\n",
       " 'warning',\n",
       " 'width',\n",
       " 'width_policy']"
      ]
     },
     "execution_count": 41,
     "metadata": {},
     "output_type": "execute_result"
    }
   ],
   "source": [
    "dir(fd)"
   ]
  },
  {
   "cell_type": "markdown",
   "metadata": {},
   "source": [
    "### Path and Directory Operations"
   ]
  },
  {
   "cell_type": "code",
   "execution_count": 58,
   "metadata": {},
   "outputs": [],
   "source": [
    "from pathlib import Path, PurePath"
   ]
  },
  {
   "cell_type": "code",
   "execution_count": 66,
   "metadata": {},
   "outputs": [],
   "source": [
    "from shutil import rmtree, make_archive"
   ]
  },
  {
   "cell_type": "code",
   "execution_count": 57,
   "metadata": {},
   "outputs": [
    {
     "data": {
      "text/plain": [
       "PosixPath('/Users/conery/Projects/tidegates/sandbox')"
      ]
     },
     "execution_count": 57,
     "metadata": {},
     "output_type": "execute_result"
    }
   ],
   "source": [
    "Path.cwd()"
   ]
  },
  {
   "cell_type": "code",
   "execution_count": 59,
   "metadata": {},
   "outputs": [
    {
     "data": {
      "text/plain": [
       "PosixPath('/Users/conery/Projects/tidegates/sandbox/test')"
      ]
     },
     "execution_count": 59,
     "metadata": {},
     "output_type": "execute_result"
    }
   ],
   "source": [
    "Path.cwd() / 'test'"
   ]
  },
  {
   "cell_type": "code",
   "execution_count": 60,
   "metadata": {},
   "outputs": [],
   "source": [
    "d = Path.cwd() / 'test'"
   ]
  },
  {
   "cell_type": "code",
   "execution_count": 63,
   "metadata": {},
   "outputs": [
    {
     "data": {
      "text/plain": [
       "True"
      ]
     },
     "execution_count": 63,
     "metadata": {},
     "output_type": "execute_result"
    }
   ],
   "source": [
    "Path.exists(d)"
   ]
  },
  {
   "cell_type": "code",
   "execution_count": 71,
   "metadata": {},
   "outputs": [],
   "source": [
    "Path.mkdir(d)"
   ]
  },
  {
   "cell_type": "code",
   "execution_count": 72,
   "metadata": {},
   "outputs": [],
   "source": [
    "Path.mkdir(d/\"foo\")"
   ]
  },
  {
   "cell_type": "code",
   "execution_count": 73,
   "metadata": {},
   "outputs": [],
   "source": [
    "Path.mkdir(d/'foo'/'bar')"
   ]
  },
  {
   "cell_type": "code",
   "execution_count": 74,
   "metadata": {},
   "outputs": [],
   "source": [
    "Path.mkdir(d/'foo'/'baz')"
   ]
  },
  {
   "cell_type": "code",
   "execution_count": 67,
   "metadata": {},
   "outputs": [],
   "source": [
    "rmtree(d)"
   ]
  },
  {
   "cell_type": "code",
   "execution_count": 76,
   "metadata": {},
   "outputs": [],
   "source": [
    "p = make_archive('foo', 'zip', d / 'foo')"
   ]
  },
  {
   "cell_type": "code",
   "execution_count": 77,
   "metadata": {},
   "outputs": [
    {
     "data": {
      "text/plain": [
       "'/Users/conery/Projects/tidegates/sandbox/foo.zip'"
      ]
     },
     "execution_count": 77,
     "metadata": {},
     "output_type": "execute_result"
    }
   ],
   "source": [
    "p"
   ]
  },
  {
   "cell_type": "code",
   "execution_count": null,
   "metadata": {},
   "outputs": [],
   "source": []
  }
 ],
 "metadata": {
  "kernelspec": {
   "display_name": "panel-1.1",
   "language": "python",
   "name": "python3"
  },
  "language_info": {
   "codemirror_mode": {
    "name": "ipython",
    "version": 3
   },
   "file_extension": ".py",
   "mimetype": "text/x-python",
   "name": "python",
   "nbconvert_exporter": "python",
   "pygments_lexer": "ipython3",
   "version": "3.10.6"
  },
  "orig_nbformat": 4
 },
 "nbformat": 4,
 "nbformat_minor": 2
}
