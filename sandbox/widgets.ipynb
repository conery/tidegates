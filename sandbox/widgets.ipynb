{
 "cells": [
  {
   "attachments": {},
   "cell_type": "markdown",
   "metadata": {},
   "source": [
    "## Experiments with Panel Widgets"
   ]
  },
  {
   "cell_type": "code",
   "execution_count": null,
   "metadata": {
    "vscode": {
     "languageId": "shellscript"
    }
   },
   "outputs": [],
   "source": [
    "import panel as pn"
   ]
  },
  {
   "cell_type": "code",
   "execution_count": null,
   "metadata": {
    "vscode": {
     "languageId": "shellscript"
    }
   },
   "outputs": [],
   "source": [
    "pn.extension()"
   ]
  },
  {
   "attachments": {},
   "cell_type": "markdown",
   "metadata": {},
   "source": [
    "### Radio buttons select a text entry or a slider"
   ]
  },
  {
   "cell_type": "code",
   "execution_count": null,
   "metadata": {
    "vscode": {
     "languageId": "shellscript"
    }
   },
   "outputs": [],
   "source": [
    "budget_levels = [\n",
    "    ('$0', 0, 0),\n",
    "    ('$1M', 1000000, 100000),\n",
    "    ('$2.5M', 2500000, 250000),\n",
    "    ('$5M', 5000000, 500000),\n",
    "    ('$10M', 10000000, 1000000),\n",
    "    ('$25M', 25000000, 2500000),\n",
    "    ('$50M', 50000000, 5000000),\n",
    "    ('$100M', 100000000, 10000000),\n",
    "]"
   ]
  },
  {
   "cell_type": "code",
   "execution_count": null,
   "metadata": {
    "vscode": {
     "languageId": "shellscript"
    }
   },
   "outputs": [],
   "source": [
    "class BudgetBox(pn.Column):\n",
    "\n",
    "    def __init__(self):\n",
    "        super(BudgetBox, self).__init__(margin=(15,0,15,5))\n",
    "        self.budget_type = pn.widgets.RadioBoxGroup(options=['Return on Investment','Single Budget'], inline=False)\n",
    "        self.budget_type.param.watch(self.budget_type_cb, ['value'])\n",
    "        self.levels = [x[0] for x in budget_levels]\n",
    "        self.map = { x[0]: x[1:] for x in budget_levels }\n",
    "        self.slider = pn.widgets.DiscreteSlider(\n",
    "            name='Maximum Budget',\n",
    "            options = self.levels[:1],\n",
    "            value = self.levels[0]\n",
    "        )\n",
    "        self.slider.param.watch(self.slider_cb, ['value'])\n",
    "        # self.slider_box = pn.WidgetBox(self.slider)\n",
    "        self.float_input = pn.widgets.FloatInput(name='Budget', value=0, format='$0,0.00')\n",
    "        self.row = pn.Row(self.budget_type, self.slider, 'display placeholder')\n",
    "        self.append(self.row)\n",
    "        # self.append('display placeholder')\n",
    "\n",
    "    def budget_type_cb(self, args):\n",
    "        w = self.float_input if self.budget_type.value.startswith('Single') else self.slider\n",
    "        self.row[1] = w\n",
    "        self.row[2] = 'widget changed to ' + self.budget_type.value\n",
    "\n",
    "    def slider_cb(self, args):\n",
    "        b, x = self.map[self.slider.value]\n",
    "        self.row[-1] = f'0 to {b} in steps of {x}'\n",
    "\n",
    "    def set_budget_max(self, n):\n",
    "        for i in range(len(budget_levels)-1, -1, -1):\n",
    "            if n >= budget_levels[i][1]:\n",
    "                self.slider.options = self.levels[:i+1]\n",
    "                break\n"
   ]
  },
  {
   "cell_type": "code",
   "execution_count": null,
   "metadata": {
    "vscode": {
     "languageId": "shellscript"
    }
   },
   "outputs": [],
   "source": [
    "w = BudgetBox()"
   ]
  },
  {
   "cell_type": "code",
   "execution_count": null,
   "metadata": {
    "vscode": {
     "languageId": "shellscript"
    }
   },
   "outputs": [],
   "source": [
    "w"
   ]
  },
  {
   "cell_type": "code",
   "execution_count": null,
   "metadata": {
    "vscode": {
     "languageId": "shellscript"
    }
   },
   "outputs": [],
   "source": [
    "w.set_budget_max(6000000)"
   ]
  },
  {
   "attachments": {},
   "cell_type": "markdown",
   "metadata": {},
   "source": [
    "### Tabs"
   ]
  },
  {
   "cell_type": "code",
   "execution_count": null,
   "metadata": {
    "vscode": {
     "languageId": "shellscript"
    }
   },
   "outputs": [],
   "source": [
    "class BudgetBox(pn.Column):\n",
    "\n",
    "    levels = [\n",
    "        ('$0', 0),\n",
    "        ('$500K', 500000),\n",
    "        ('$1M', 1000000),\n",
    "        ('$2.5M', 2500000),\n",
    "        ('$5M', 5000000),\n",
    "        ('$10M', 10000000),\n",
    "        ('$25M', 25000000),\n",
    "        ('$50M', 50000000),\n",
    "        ('$100M', 100000000),\n",
    "    ]\n",
    "\n",
    "    boxh = 125\n",
    "    boxw = 400\n",
    "    npts = 10\n",
    "\n",
    "    def __init__(self):\n",
    "        super(BudgetBox, self).__init__(margin=(15,0,15,5))\n",
    "        self.labels = [x[0] for x in BudgetBox.levels]\n",
    "        self.map = { x[0]: x[1] for x in BudgetBox.levels }\n",
    "        self.tabs = pn.Tabs(\n",
    "            ('ROI', \n",
    "             pn.WidgetBox(\n",
    "                pn.widgets.DiscreteSlider(\n",
    "                    options = self.labels[:1], \n",
    "                    value = self.labels[0],\n",
    "                    name = 'Maximum Budget'\n",
    "                ),\n",
    "                height=BudgetBox.boxh,\n",
    "                width=BudgetBox.boxw)),\n",
    "            ('Fixed', \n",
    "             pn.WidgetBox(\n",
    "                pn.widgets.TextInput(name='Budget Amount', value='$'),\n",
    "                height=BudgetBox.boxh,\n",
    "                width=BudgetBox.boxw)),\n",
    "            ('ℹ️',\n",
    "            pn.WidgetBox(\n",
    "                pn.pane.Markdown('''\n",
    "                    **ROI** (return on investment) will generate a plot that shows the optimal set\n",
    "                    of gates for several different budget levels.\n",
    "\n",
    "                    **Fixed** will compute the optimal set of gates for a single budget.\n",
    "                '''),\n",
    "                height=BudgetBox.boxh,\n",
    "                width=BudgetBox.boxw))\n",
    "        )\n",
    "        self.append(self.tabs)\n",
    "        self.slider = self.tabs[0][0]\n",
    "        self.input = self.tabs[1][0]\n",
    "\n",
    "    def set_budget_max(self, n):\n",
    "        for i in range(len(BudgetBox.levels)-1, -1, -1):\n",
    "            if n >= BudgetBox.levels[i][1]:\n",
    "                self.slider.options = self.labels[:i+1]\n",
    "                break\n",
    "\n",
    "    def values(self):\n",
    "        if self.tabs.active == 0:\n",
    "            x = self.map[self.slider.value]\n",
    "            return x, (x // BudgetBox.npts)\n",
    "        else:\n",
    "            s = self.input.value\n",
    "            if s.startswith('$'):\n",
    "                s = s[1:]\n",
    "            return self.input.value, 0\n"
   ]
  },
  {
   "cell_type": "code",
   "execution_count": null,
   "metadata": {
    "vscode": {
     "languageId": "shellscript"
    }
   },
   "outputs": [],
   "source": [
    "w = BudgetBox()"
   ]
  },
  {
   "cell_type": "code",
   "execution_count": null,
   "metadata": {
    "vscode": {
     "languageId": "shellscript"
    }
   },
   "outputs": [],
   "source": [
    "w"
   ]
  },
  {
   "cell_type": "code",
   "execution_count": 20,
   "metadata": {
    "vscode": {
     "languageId": "shellscript"
    }
   },
   "outputs": [
    {
     "data": {
      "application/vnd.jupyter.widget-view+json": {
       "model_id": "8d6ff079e1074387a122d9e472a37cf4",
       "version_major": 2,
       "version_minor": 0
      },
      "text/plain": [
       "BokehModel(combine_events=True, render_bundle={'docs_json': {'88a4ca49-b02d-4589-aefe-f80cb8333933': {'defs': …"
      ]
     },
     "execution_count": 20,
     "metadata": {},
     "output_type": "execute_result"
    }
   ],
   "source": [
    "w.tabs[1]"
   ]
  },
  {
   "cell_type": "code",
   "execution_count": null,
   "metadata": {
    "vscode": {
     "languageId": "shellscript"
    }
   },
   "outputs": [],
   "source": [
    "w.tabs[1] = pn.pane.HTML('<p>hi</p>')"
   ]
  },
  {
   "cell_type": "code",
   "execution_count": 22,
   "metadata": {
    "vscode": {
     "languageId": "shellscript"
    }
   },
   "outputs": [
    {
     "data": {
      "text/plain": [
       "['_Layoutable__abstract',\n",
       " '_Layoutable__params',\n",
       " '_NamedListLike__params',\n",
       " '_NamedListPanel__abstract',\n",
       " '_NamedListPanel__params',\n",
       " '_Panel__abstract',\n",
       " '_Panel__params',\n",
       " '_Parameterized__db_print',\n",
       " '_Parameterized__params',\n",
       " '_Reactive__params',\n",
       " '_Renderable__abstract',\n",
       " '_Renderable__params',\n",
       " '_Syncable__abstract',\n",
       " '_Syncable__params',\n",
       " '_Tabs__params',\n",
       " '_Viewable__params',\n",
       " '__add__',\n",
       " '__annotations__',\n",
       " '__class__',\n",
       " '__delattr__',\n",
       " '__dict__',\n",
       " '__dir__',\n",
       " '__doc__',\n",
       " '__eq__',\n",
       " '__format__',\n",
       " '__ge__',\n",
       " '__getattribute__',\n",
       " '__getitem__',\n",
       " '__getstate__',\n",
       " '__gt__',\n",
       " '__hash__',\n",
       " '__iadd__',\n",
       " '__init__',\n",
       " '__init_subclass__',\n",
       " '__iter__',\n",
       " '__le__',\n",
       " '__len__',\n",
       " '__lt__',\n",
       " '__module__',\n",
       " '__ne__',\n",
       " '__new__',\n",
       " '__radd__',\n",
       " '__reduce__',\n",
       " '__reduce_ex__',\n",
       " '__repr__',\n",
       " '__setattr__',\n",
       " '__setitem__',\n",
       " '__setstate__',\n",
       " '__sizeof__',\n",
       " '__str__',\n",
       " '__subclasshook__',\n",
       " '__weakref__',\n",
       " '_active_param_value',\n",
       " '_add_location',\n",
       " '_add_parameter',\n",
       " '_align_param_value',\n",
       " '_apply_update',\n",
       " '_batch_update',\n",
       " '_bokeh_model',\n",
       " '_callbacks',\n",
       " '_change_coroutine',\n",
       " '_change_event',\n",
       " '_changing',\n",
       " '_cleanup',\n",
       " '_comm_change',\n",
       " '_comm_event',\n",
       " '_comms',\n",
       " '_css_classes_param_value',\n",
       " '_debounce',\n",
       " '_documents',\n",
       " '_dynamic_watchers',\n",
       " '_event_coroutine',\n",
       " '_events',\n",
       " '_found_links',\n",
       " '_get_model',\n",
       " '_get_objects',\n",
       " '_hooks',\n",
       " '_init_params',\n",
       " '_instance__params',\n",
       " '_js_transforms',\n",
       " '_kernels',\n",
       " '_link_params',\n",
       " '_link_props',\n",
       " '_linkable_params',\n",
       " '_linked_props',\n",
       " '_links',\n",
       " '_log',\n",
       " '_logger',\n",
       " '_manual_params',\n",
       " '_manual_update',\n",
       " '_models',\n",
       " '_modify_doc',\n",
       " '_name_param_value',\n",
       " '_names',\n",
       " '_objects_param_value',\n",
       " '_on_error',\n",
       " '_on_msg',\n",
       " '_on_stdout',\n",
       " '_panels',\n",
       " '_param',\n",
       " '_param_change',\n",
       " '_param_watchers',\n",
       " '_parameters_state',\n",
       " '_pprint',\n",
       " '_preprocess',\n",
       " '_preprocess_params',\n",
       " '_preprocessing_hooks',\n",
       " '_priority_changes',\n",
       " '_process_bokeh_event',\n",
       " '_process_close',\n",
       " '_process_events',\n",
       " '_process_param_change',\n",
       " '_process_property_change',\n",
       " '_register_events',\n",
       " '_rename',\n",
       " '_render_model',\n",
       " '_rendered',\n",
       " '_repr_mimebundle_',\n",
       " '_schedule_change',\n",
       " '_server_change',\n",
       " '_server_destroy',\n",
       " '_server_event',\n",
       " '_set_name',\n",
       " '_source_transforms',\n",
       " '_synced_params',\n",
       " '_target_transforms',\n",
       " '_timeout',\n",
       " '_to_object_and_name',\n",
       " '_to_objects_and_names',\n",
       " '_update_active',\n",
       " '_update_loading',\n",
       " '_update_manual',\n",
       " '_update_model',\n",
       " '_update_names',\n",
       " '_updating',\n",
       " 'active',\n",
       " 'align',\n",
       " 'app',\n",
       " 'append',\n",
       " 'aspect_ratio',\n",
       " 'background',\n",
       " 'clear',\n",
       " 'clone',\n",
       " 'closable',\n",
       " 'controls',\n",
       " 'css_classes',\n",
       " 'debug',\n",
       " 'defaults',\n",
       " 'dynamic',\n",
       " 'embed',\n",
       " 'extend',\n",
       " 'force_new_dynamic_value',\n",
       " 'get_param_values',\n",
       " 'get_root',\n",
       " 'get_value_generator',\n",
       " 'height',\n",
       " 'height_policy',\n",
       " 'initialized',\n",
       " 'insert',\n",
       " 'inspect_value',\n",
       " 'jscallback',\n",
       " 'jslink',\n",
       " 'link',\n",
       " 'loading',\n",
       " 'margin',\n",
       " 'max_height',\n",
       " 'max_width',\n",
       " 'message',\n",
       " 'min_height',\n",
       " 'min_width',\n",
       " 'name',\n",
       " 'objects',\n",
       " 'param',\n",
       " 'params',\n",
       " 'pop',\n",
       " 'pprint',\n",
       " 'print_param_defaults',\n",
       " 'print_param_values',\n",
       " 'remove',\n",
       " 'reverse',\n",
       " 'save',\n",
       " 'script_repr',\n",
       " 'scroll',\n",
       " 'select',\n",
       " 'servable',\n",
       " 'server_doc',\n",
       " 'set_default',\n",
       " 'set_dynamic_time_fn',\n",
       " 'set_param',\n",
       " 'show',\n",
       " 'sizing_mode',\n",
       " 'state_pop',\n",
       " 'state_push',\n",
       " 'tabs_location',\n",
       " 'verbose',\n",
       " 'visible',\n",
       " 'warning',\n",
       " 'width',\n",
       " 'width_policy']"
      ]
     },
     "execution_count": 22,
     "metadata": {},
     "output_type": "execute_result"
    }
   ],
   "source": [
    "dir(w.tabs)"
   ]
  },
  {
   "cell_type": "code",
   "execution_count": 23,
   "metadata": {
    "vscode": {
     "languageId": "shellscript"
    }
   },
   "outputs": [
    {
     "data": {
      "text/plain": [
       "[WidgetBox(height=125, sizing_mode='fixed', width=400)\n",
       "     [0] DiscreteSlider(name='Maximum Budget', options=['$0'], value='$0'),\n",
       " HTML(str),\n",
       " WidgetBox(height=125, sizing_mode='fixed', width=400)\n",
       "     [0] Markdown(str)]"
      ]
     },
     "execution_count": 23,
     "metadata": {},
     "output_type": "execute_result"
    }
   ],
   "source": [
    "w.tabs.objects"
   ]
  },
  {
   "cell_type": "code",
   "execution_count": null,
   "metadata": {
    "vscode": {
     "languageId": "shellscript"
    }
   },
   "outputs": [],
   "source": [
    "w.set_budget_max(1000000)"
   ]
  },
  {
   "cell_type": "code",
   "execution_count": null,
   "metadata": {
    "vscode": {
     "languageId": "shellscript"
    }
   },
   "outputs": [],
   "source": [
    "w.values()"
   ]
  },
  {
   "cell_type": "code",
   "execution_count": null,
   "metadata": {
    "vscode": {
     "languageId": "shellscript"
    }
   },
   "outputs": [],
   "source": [
    "w = pn.widgets.DiscreteSlider(options = ['a','b','c'], value = 'b', name='Letters')"
   ]
  },
  {
   "cell_type": "code",
   "execution_count": null,
   "metadata": {
    "vscode": {
     "languageId": "shellscript"
    }
   },
   "outputs": [],
   "source": [
    "w"
   ]
  },
  {
   "cell_type": "code",
   "execution_count": null,
   "metadata": {
    "vscode": {
     "languageId": "shellscript"
    }
   },
   "outputs": [],
   "source": [
    "w.value"
   ]
  },
  {
   "cell_type": "code",
   "execution_count": null,
   "metadata": {
    "vscode": {
     "languageId": "shellscript"
    }
   },
   "outputs": [],
   "source": [
    "w.name"
   ]
  },
  {
   "cell_type": "code",
   "execution_count": null,
   "metadata": {
    "vscode": {
     "languageId": "shellscript"
    }
   },
   "outputs": [],
   "source": [
    "from babel.numbers import parse_number, parse_decimal"
   ]
  },
  {
   "cell_type": "code",
   "execution_count": null,
   "metadata": {
    "vscode": {
     "languageId": "shellscript"
    }
   },
   "outputs": [],
   "source": [
    "parse_decimal('12,34.8', locale='en_US')"
   ]
  },
  {
   "cell_type": "code",
   "execution_count": null,
   "metadata": {
    "vscode": {
     "languageId": "shellscript"
    }
   },
   "outputs": [],
   "source": [
    "def parse_dollar_amount(s):\n",
    "    try:\n",
    "        if s.startswith('$'):\n",
    "            s = s[1:]\n",
    "        if s.endswith(('K','M')):\n",
    "            multiplier = 1000 if s.endswith('K') else 1000000\n",
    "            res = int(float(s[:-1]) * multiplier)\n",
    "        elif ',' in s:\n",
    "            parts = s.split(',')\n",
    "            assert len(parts[0]) <= 3 and (len(parts) == 1 or all(len(p) == 3 for p in parts[1:]))\n",
    "            res = int(''.join(parts))\n",
    "        else:\n",
    "            res = int(s)\n",
    "        return res\n",
    "    except Exception:\n",
    "        raise ValueError('unexpected format in dollar amount')"
   ]
  },
  {
   "cell_type": "code",
   "execution_count": null,
   "metadata": {
    "vscode": {
     "languageId": "shellscript"
    }
   },
   "outputs": [],
   "source": [
    "parse_dollar_amount('1567')"
   ]
  },
  {
   "cell_type": "code",
   "execution_count": null,
   "metadata": {
    "vscode": {
     "languageId": "shellscript"
    }
   },
   "outputs": [],
   "source": [
    "parse_dollar_amount('$1234')"
   ]
  },
  {
   "cell_type": "code",
   "execution_count": null,
   "metadata": {
    "vscode": {
     "languageId": "shellscript"
    }
   },
   "outputs": [],
   "source": [
    "parse_dollar_amount('$500K')"
   ]
  },
  {
   "cell_type": "code",
   "execution_count": null,
   "metadata": {
    "vscode": {
     "languageId": "shellscript"
    }
   },
   "outputs": [],
   "source": [
    "parse_dollar_amount('$123,456')"
   ]
  },
  {
   "cell_type": "code",
   "execution_count": null,
   "metadata": {
    "vscode": {
     "languageId": "shellscript"
    }
   },
   "outputs": [],
   "source": [
    "parse_dollar_amount('12,345')"
   ]
  },
  {
   "cell_type": "code",
   "execution_count": null,
   "metadata": {
    "vscode": {
     "languageId": "shellscript"
    }
   },
   "outputs": [],
   "source": [
    "parse_dollar_amount('$1.5M')"
   ]
  },
  {
   "cell_type": "code",
   "execution_count": null,
   "metadata": {
    "vscode": {
     "languageId": "shellscript"
    }
   },
   "outputs": [],
   "source": [
    "parse_dollar_amount('123,45')"
   ]
  },
  {
   "attachments": {},
   "cell_type": "markdown",
   "metadata": {},
   "source": [
    "### Grid"
   ]
  },
  {
   "cell_type": "code",
   "execution_count": null,
   "metadata": {
    "vscode": {
     "languageId": "shellscript"
    }
   },
   "outputs": [],
   "source": [
    "lst = ['alpha', 'beta', 'gamma', 'delta', 'epsilon']"
   ]
  },
  {
   "cell_type": "code",
   "execution_count": null,
   "metadata": {
    "vscode": {
     "languageId": "shellscript"
    }
   },
   "outputs": [],
   "source": [
    "g = pn.GridBox(*lst)"
   ]
  },
  {
   "cell_type": "code",
   "execution_count": null,
   "metadata": {
    "vscode": {
     "languageId": "shellscript"
    }
   },
   "outputs": [],
   "source": [
    "g"
   ]
  },
  {
   "cell_type": "code",
   "execution_count": null,
   "metadata": {
    "vscode": {
     "languageId": "shellscript"
    }
   },
   "outputs": [],
   "source": [
    "g.ncols = 2"
   ]
  },
  {
   "cell_type": "code",
   "execution_count": null,
   "metadata": {
    "vscode": {
     "languageId": "shellscript"
    }
   },
   "outputs": [],
   "source": [
    "nrows = (len(lst) + 1) // 2"
   ]
  },
  {
   "cell_type": "code",
   "execution_count": null,
   "metadata": {
    "vscode": {
     "languageId": "shellscript"
    }
   },
   "outputs": [],
   "source": [
    "for i in range(nrows):\n",
    "    print(lst[i], lst[i+nrows])"
   ]
  },
  {
   "cell_type": "code",
   "execution_count": null,
   "metadata": {
    "vscode": {
     "languageId": "shellscript"
    }
   },
   "outputs": [],
   "source": []
  }
 ],
 "metadata": {
  "kernelspec": {
   "display_name": "panel-1.1",
   "language": "python",
   "name": "python3"
  },
  "language_info": {
   "codemirror_mode": {
    "name": "ipython",
    "version": 3
   },
   "file_extension": ".py",
   "mimetype": "text/x-python",
   "name": "python",
   "nbconvert_exporter": "python",
   "pygments_lexer": "ipython3",
   "version": "3.10.6"
  },
  "orig_nbformat": 4
 },
 "nbformat": 4,
 "nbformat_minor": 2
}
