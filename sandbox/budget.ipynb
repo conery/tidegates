{
 "cells": [
  {
   "attachments": {},
   "cell_type": "markdown",
   "metadata": {},
   "source": [
    "### Mockup for Advanced Budget Widget"
   ]
  },
  {
   "cell_type": "code",
   "execution_count": 1,
   "metadata": {},
   "outputs": [
    {
     "data": {
      "application/javascript": "(function(root) {\n  function now() {\n    return new Date();\n  }\n\n  var force = true;\n  var py_version = '3.1.1'.replace('rc', '-rc.').replace('.dev', '-dev.');\n  var is_dev = py_version.indexOf(\"+\") !== -1 || py_version.indexOf(\"-\") !== -1;\n  var reloading = false;\n  var Bokeh = root.Bokeh;\n  var bokeh_loaded = Bokeh != null && (Bokeh.version === py_version || (Bokeh.versions !== undefined && Bokeh.versions.has(py_version)));\n\n  if (typeof (root._bokeh_timeout) === \"undefined\" || force) {\n    root._bokeh_timeout = Date.now() + 5000;\n    root._bokeh_failed_load = false;\n  }\n\n  function run_callbacks() {\n    try {\n      root._bokeh_onload_callbacks.forEach(function(callback) {\n        if (callback != null)\n          callback();\n      });\n    } finally {\n      delete root._bokeh_onload_callbacks;\n    }\n    console.debug(\"Bokeh: all callbacks have finished\");\n  }\n\n  function load_libs(css_urls, js_urls, js_modules, js_exports, callback) {\n    if (css_urls == null) css_urls = [];\n    if (js_urls == null) js_urls = [];\n    if (js_modules == null) js_modules = [];\n    if (js_exports == null) js_exports = {};\n\n    root._bokeh_onload_callbacks.push(callback);\n\n    if (root._bokeh_is_loading > 0) {\n      console.debug(\"Bokeh: BokehJS is being loaded, scheduling callback at\", now());\n      return null;\n    }\n    if (js_urls.length === 0 && js_modules.length === 0 && Object.keys(js_exports).length === 0) {\n      run_callbacks();\n      return null;\n    }\n    if (!reloading) {\n      console.debug(\"Bokeh: BokehJS not loaded, scheduling load and callback at\", now());\n    }\n\n    function on_load() {\n      root._bokeh_is_loading--;\n      if (root._bokeh_is_loading === 0) {\n        console.debug(\"Bokeh: all BokehJS libraries/stylesheets loaded\");\n        run_callbacks()\n      }\n    }\n    window._bokeh_on_load = on_load\n\n    function on_error() {\n      console.error(\"failed to load \" + url);\n    }\n\n    var skip = [];\n    if (window.requirejs) {\n      window.requirejs.config({'packages': {}, 'paths': {'jspanel': 'https://cdn.jsdelivr.net/npm/jspanel4@4.12.0/dist/jspanel', 'jspanel-modal': 'https://cdn.jsdelivr.net/npm/jspanel4@4.12.0/dist/extensions/modal/jspanel.modal', 'jspanel-tooltip': 'https://cdn.jsdelivr.net/npm/jspanel4@4.12.0/dist/extensions/tooltip/jspanel.tooltip', 'jspanel-hint': 'https://cdn.jsdelivr.net/npm/jspanel4@4.12.0/dist/extensions/hint/jspanel.hint', 'jspanel-layout': 'https://cdn.jsdelivr.net/npm/jspanel4@4.12.0/dist/extensions/layout/jspanel.layout', 'jspanel-contextmenu': 'https://cdn.jsdelivr.net/npm/jspanel4@4.12.0/dist/extensions/contextmenu/jspanel.contextmenu', 'jspanel-dock': 'https://cdn.jsdelivr.net/npm/jspanel4@4.12.0/dist/extensions/dock/jspanel.dock', 'gridstack': 'https://cdn.jsdelivr.net/npm/gridstack@7.2.3/dist/gridstack-all', 'notyf': 'https://cdn.jsdelivr.net/npm/notyf@3/notyf.min'}, 'shim': {'jspanel': {'exports': 'jsPanel'}, 'gridstack': {'exports': 'GridStack'}}});\n      require([\"jspanel\"], function(jsPanel) {\n\twindow.jsPanel = jsPanel\n\ton_load()\n      })\n      require([\"jspanel-modal\"], function() {\n\ton_load()\n      })\n      require([\"jspanel-tooltip\"], function() {\n\ton_load()\n      })\n      require([\"jspanel-hint\"], function() {\n\ton_load()\n      })\n      require([\"jspanel-layout\"], function() {\n\ton_load()\n      })\n      require([\"jspanel-contextmenu\"], function() {\n\ton_load()\n      })\n      require([\"jspanel-dock\"], function() {\n\ton_load()\n      })\n      require([\"gridstack\"], function(GridStack) {\n\twindow.GridStack = GridStack\n\ton_load()\n      })\n      require([\"notyf\"], function() {\n\ton_load()\n      })\n      root._bokeh_is_loading = css_urls.length + 9;\n    } else {\n      root._bokeh_is_loading = css_urls.length + js_urls.length + js_modules.length + Object.keys(js_exports).length;\n    }\n\n    var existing_stylesheets = []\n    var links = document.getElementsByTagName('link')\n    for (var i = 0; i < links.length; i++) {\n      var link = links[i]\n      if (link.href != null) {\n\texisting_stylesheets.push(link.href)\n      }\n    }\n    for (var i = 0; i < css_urls.length; i++) {\n      var url = css_urls[i];\n      if (existing_stylesheets.indexOf(url) !== -1) {\n\ton_load()\n\tcontinue;\n      }\n      const element = document.createElement(\"link\");\n      element.onload = on_load;\n      element.onerror = on_error;\n      element.rel = \"stylesheet\";\n      element.type = \"text/css\";\n      element.href = url;\n      console.debug(\"Bokeh: injecting link tag for BokehJS stylesheet: \", url);\n      document.body.appendChild(element);\n    }    if (((window['jsPanel'] !== undefined) && (!(window['jsPanel'] instanceof HTMLElement))) || window.requirejs) {\n      var urls = ['https://cdn.holoviz.org/panel/1.1.1/dist/bundled/floatpanel/jspanel4@4.12.0/dist/jspanel.js', 'https://cdn.holoviz.org/panel/1.1.1/dist/bundled/floatpanel/jspanel4@4.12.0/dist/extensions/modal/jspanel.modal.js', 'https://cdn.holoviz.org/panel/1.1.1/dist/bundled/floatpanel/jspanel4@4.12.0/dist/extensions/tooltip/jspanel.tooltip.js', 'https://cdn.holoviz.org/panel/1.1.1/dist/bundled/floatpanel/jspanel4@4.12.0/dist/extensions/hint/jspanel.hint.js', 'https://cdn.holoviz.org/panel/1.1.1/dist/bundled/floatpanel/jspanel4@4.12.0/dist/extensions/layout/jspanel.layout.js', 'https://cdn.holoviz.org/panel/1.1.1/dist/bundled/floatpanel/jspanel4@4.12.0/dist/extensions/contextmenu/jspanel.contextmenu.js', 'https://cdn.holoviz.org/panel/1.1.1/dist/bundled/floatpanel/jspanel4@4.12.0/dist/extensions/dock/jspanel.dock.js'];\n      for (var i = 0; i < urls.length; i++) {\n        skip.push(urls[i])\n      }\n    }    if (((window['GridStack'] !== undefined) && (!(window['GridStack'] instanceof HTMLElement))) || window.requirejs) {\n      var urls = ['https://cdn.holoviz.org/panel/1.1.1/dist/bundled/gridstack/gridstack@7.2.3/dist/gridstack-all.js'];\n      for (var i = 0; i < urls.length; i++) {\n        skip.push(urls[i])\n      }\n    }    if (((window['Notyf'] !== undefined) && (!(window['Notyf'] instanceof HTMLElement))) || window.requirejs) {\n      var urls = ['https://cdn.holoviz.org/panel/1.1.1/dist/bundled/notificationarea/notyf@3/notyf.min.js'];\n      for (var i = 0; i < urls.length; i++) {\n        skip.push(urls[i])\n      }\n    }    var existing_scripts = []\n    var scripts = document.getElementsByTagName('script')\n    for (var i = 0; i < scripts.length; i++) {\n      var script = scripts[i]\n      if (script.src != null) {\n\texisting_scripts.push(script.src)\n      }\n    }\n    for (var i = 0; i < js_urls.length; i++) {\n      var url = js_urls[i];\n      if (skip.indexOf(url) !== -1 || existing_scripts.indexOf(url) !== -1) {\n\tif (!window.requirejs) {\n\t  on_load();\n\t}\n\tcontinue;\n      }\n      var element = document.createElement('script');\n      element.onload = on_load;\n      element.onerror = on_error;\n      element.async = false;\n      element.src = url;\n      console.debug(\"Bokeh: injecting script tag for BokehJS library: \", url);\n      document.head.appendChild(element);\n    }\n    for (var i = 0; i < js_modules.length; i++) {\n      var url = js_modules[i];\n      if (skip.indexOf(url) !== -1 || existing_scripts.indexOf(url) !== -1) {\n\tif (!window.requirejs) {\n\t  on_load();\n\t}\n\tcontinue;\n      }\n      var element = document.createElement('script');\n      element.onload = on_load;\n      element.onerror = on_error;\n      element.async = false;\n      element.src = url;\n      element.type = \"module\";\n      console.debug(\"Bokeh: injecting script tag for BokehJS library: \", url);\n      document.head.appendChild(element);\n    }\n    for (const name in js_exports) {\n      var url = js_exports[name];\n      if (skip.indexOf(url) >= 0 || root[name] != null) {\n\tif (!window.requirejs) {\n\t  on_load();\n\t}\n\tcontinue;\n      }\n      var element = document.createElement('script');\n      element.onerror = on_error;\n      element.async = false;\n      element.type = \"module\";\n      console.debug(\"Bokeh: injecting script tag for BokehJS library: \", url);\n      element.textContent = `\n      import ${name} from \"${url}\"\n      window.${name} = ${name}\n      window._bokeh_on_load()\n      `\n      document.head.appendChild(element);\n    }\n    if (!js_urls.length && !js_modules.length) {\n      on_load()\n    }\n  };\n\n  function inject_raw_css(css) {\n    const element = document.createElement(\"style\");\n    element.appendChild(document.createTextNode(css));\n    document.body.appendChild(element);\n  }\n\n  var js_urls = [\"https://cdn.bokeh.org/bokeh/release/bokeh-3.1.1.min.js\", \"https://cdn.bokeh.org/bokeh/release/bokeh-gl-3.1.1.min.js\", \"https://cdn.bokeh.org/bokeh/release/bokeh-widgets-3.1.1.min.js\", \"https://cdn.bokeh.org/bokeh/release/bokeh-tables-3.1.1.min.js\", \"https://cdn.holoviz.org/panel/1.1.1/dist/panel.min.js\"];\n  var js_modules = [];\n  var js_exports = {};\n  var css_urls = [];\n  var inline_js = [    function(Bokeh) {\n      Bokeh.set_log_level(\"info\");\n    },\nfunction(Bokeh) {} // ensure no trailing comma for IE\n  ];\n\n  function run_inline_js() {\n    if ((root.Bokeh !== undefined) || (force === true)) {\n      for (var i = 0; i < inline_js.length; i++) {\n        inline_js[i].call(root, root.Bokeh);\n      }\n      // Cache old bokeh versions\n      if (Bokeh != undefined && !reloading) {\n\tvar NewBokeh = root.Bokeh;\n\tif (Bokeh.versions === undefined) {\n\t  Bokeh.versions = new Map();\n\t}\n\tif (NewBokeh.version !== Bokeh.version) {\n\t  Bokeh.versions.set(NewBokeh.version, NewBokeh)\n\t}\n\troot.Bokeh = Bokeh;\n      }} else if (Date.now() < root._bokeh_timeout) {\n      setTimeout(run_inline_js, 100);\n    } else if (!root._bokeh_failed_load) {\n      console.log(\"Bokeh: BokehJS failed to load within specified timeout.\");\n      root._bokeh_failed_load = true;\n    }\n    root._bokeh_is_initializing = false\n  }\n\n  function load_or_wait() {\n    // Implement a backoff loop that tries to ensure we do not load multiple\n    // versions of Bokeh and its dependencies at the same time.\n    // In recent versions we use the root._bokeh_is_initializing flag\n    // to determine whether there is an ongoing attempt to initialize\n    // bokeh, however for backward compatibility we also try to ensure\n    // that we do not start loading a newer (Panel>=1.0 and Bokeh>3) version\n    // before older versions are fully initialized.\n    if (root._bokeh_is_initializing && Date.now() > root._bokeh_timeout) {\n      root._bokeh_is_initializing = false;\n      root._bokeh_onload_callbacks = undefined;\n      console.log(\"Bokeh: BokehJS was loaded multiple times but one version failed to initialize.\");\n      load_or_wait();\n    } else if (root._bokeh_is_initializing || (typeof root._bokeh_is_initializing === \"undefined\" && root._bokeh_onload_callbacks !== undefined)) {\n      setTimeout(load_or_wait, 100);\n    } else {\n      Bokeh = root.Bokeh;\n      bokeh_loaded = Bokeh != null && (Bokeh.version === py_version || (Bokeh.versions !== undefined && Bokeh.versions.has(py_version)));\n      root._bokeh_is_initializing = true\n      root._bokeh_onload_callbacks = []\n      if (!reloading && (!bokeh_loaded || is_dev)) {\n\troot.Bokeh = undefined;\n      }\n      load_libs(css_urls, js_urls, js_modules, js_exports, function() {\n\tconsole.debug(\"Bokeh: BokehJS plotting callback run at\", now());\n\trun_inline_js();\n      });\n    }\n  }\n  // Give older versions of the autoload script a head-start to ensure\n  // they initialize before we start loading newer version.\n  setTimeout(load_or_wait, 100)\n}(window));",
      "application/vnd.holoviews_load.v0+json": ""
     },
     "metadata": {},
     "output_type": "display_data"
    },
    {
     "data": {
      "application/javascript": "\nif ((window.PyViz === undefined) || (window.PyViz instanceof HTMLElement)) {\n  window.PyViz = {comms: {}, comm_status:{}, kernels:{}, receivers: {}, plot_index: []}\n}\n\n\n    function JupyterCommManager() {\n    }\n\n    JupyterCommManager.prototype.register_target = function(plot_id, comm_id, msg_handler) {\n      if (window.comm_manager || ((window.Jupyter !== undefined) && (Jupyter.notebook.kernel != null))) {\n        var comm_manager = window.comm_manager || Jupyter.notebook.kernel.comm_manager;\n        comm_manager.register_target(comm_id, function(comm) {\n          comm.on_msg(msg_handler);\n        });\n      } else if ((plot_id in window.PyViz.kernels) && (window.PyViz.kernels[plot_id])) {\n        window.PyViz.kernels[plot_id].registerCommTarget(comm_id, function(comm) {\n          comm.onMsg = msg_handler;\n        });\n      } else if (typeof google != 'undefined' && google.colab.kernel != null) {\n        google.colab.kernel.comms.registerTarget(comm_id, (comm) => {\n          var messages = comm.messages[Symbol.asyncIterator]();\n          function processIteratorResult(result) {\n            var message = result.value;\n            console.log(message)\n            var content = {data: message.data, comm_id};\n            var buffers = []\n            for (var buffer of message.buffers || []) {\n              buffers.push(new DataView(buffer))\n            }\n            var metadata = message.metadata || {};\n            var msg = {content, buffers, metadata}\n            msg_handler(msg);\n            return messages.next().then(processIteratorResult);\n          }\n          return messages.next().then(processIteratorResult);\n        })\n      }\n    }\n\n    JupyterCommManager.prototype.get_client_comm = function(plot_id, comm_id, msg_handler) {\n      if (comm_id in window.PyViz.comms) {\n        return window.PyViz.comms[comm_id];\n      } else if (window.comm_manager || ((window.Jupyter !== undefined) && (Jupyter.notebook.kernel != null))) {\n        var comm_manager = window.comm_manager || Jupyter.notebook.kernel.comm_manager;\n        var comm = comm_manager.new_comm(comm_id, {}, {}, {}, comm_id);\n        if (msg_handler) {\n          comm.on_msg(msg_handler);\n        }\n      } else if ((plot_id in window.PyViz.kernels) && (window.PyViz.kernels[plot_id])) {\n        var comm = window.PyViz.kernels[plot_id].connectToComm(comm_id);\n        comm.open();\n        if (msg_handler) {\n          comm.onMsg = msg_handler;\n        }\n      } else if (typeof google != 'undefined' && google.colab.kernel != null) {\n        var comm_promise = google.colab.kernel.comms.open(comm_id)\n        comm_promise.then((comm) => {\n          window.PyViz.comms[comm_id] = comm;\n          if (msg_handler) {\n            var messages = comm.messages[Symbol.asyncIterator]();\n            function processIteratorResult(result) {\n              var message = result.value;\n              var content = {data: message.data};\n              var metadata = message.metadata || {comm_id};\n              var msg = {content, metadata}\n              msg_handler(msg);\n              return messages.next().then(processIteratorResult);\n            }\n            return messages.next().then(processIteratorResult);\n          }\n        }) \n        var sendClosure = (data, metadata, buffers, disposeOnDone) => {\n          return comm_promise.then((comm) => {\n            comm.send(data, metadata, buffers, disposeOnDone);\n          });\n        };\n        var comm = {\n          send: sendClosure\n        };\n      }\n      window.PyViz.comms[comm_id] = comm;\n      return comm;\n    }\n    window.PyViz.comm_manager = new JupyterCommManager();\n    \n\n\nvar JS_MIME_TYPE = 'application/javascript';\nvar HTML_MIME_TYPE = 'text/html';\nvar EXEC_MIME_TYPE = 'application/vnd.holoviews_exec.v0+json';\nvar CLASS_NAME = 'output';\n\n/**\n * Render data to the DOM node\n */\nfunction render(props, node) {\n  var div = document.createElement(\"div\");\n  var script = document.createElement(\"script\");\n  node.appendChild(div);\n  node.appendChild(script);\n}\n\n/**\n * Handle when a new output is added\n */\nfunction handle_add_output(event, handle) {\n  var output_area = handle.output_area;\n  var output = handle.output;\n  if ((output.data == undefined) || (!output.data.hasOwnProperty(EXEC_MIME_TYPE))) {\n    return\n  }\n  var id = output.metadata[EXEC_MIME_TYPE][\"id\"];\n  var toinsert = output_area.element.find(\".\" + CLASS_NAME.split(' ')[0]);\n  if (id !== undefined) {\n    var nchildren = toinsert.length;\n    var html_node = toinsert[nchildren-1].children[0];\n    html_node.innerHTML = output.data[HTML_MIME_TYPE];\n    var scripts = [];\n    var nodelist = html_node.querySelectorAll(\"script\");\n    for (var i in nodelist) {\n      if (nodelist.hasOwnProperty(i)) {\n        scripts.push(nodelist[i])\n      }\n    }\n\n    scripts.forEach( function (oldScript) {\n      var newScript = document.createElement(\"script\");\n      var attrs = [];\n      var nodemap = oldScript.attributes;\n      for (var j in nodemap) {\n        if (nodemap.hasOwnProperty(j)) {\n          attrs.push(nodemap[j])\n        }\n      }\n      attrs.forEach(function(attr) { newScript.setAttribute(attr.name, attr.value) });\n      newScript.appendChild(document.createTextNode(oldScript.innerHTML));\n      oldScript.parentNode.replaceChild(newScript, oldScript);\n    });\n    if (JS_MIME_TYPE in output.data) {\n      toinsert[nchildren-1].children[1].textContent = output.data[JS_MIME_TYPE];\n    }\n    output_area._hv_plot_id = id;\n    if ((window.Bokeh !== undefined) && (id in Bokeh.index)) {\n      window.PyViz.plot_index[id] = Bokeh.index[id];\n    } else {\n      window.PyViz.plot_index[id] = null;\n    }\n  } else if (output.metadata[EXEC_MIME_TYPE][\"server_id\"] !== undefined) {\n    var bk_div = document.createElement(\"div\");\n    bk_div.innerHTML = output.data[HTML_MIME_TYPE];\n    var script_attrs = bk_div.children[0].attributes;\n    for (var i = 0; i < script_attrs.length; i++) {\n      toinsert[toinsert.length - 1].childNodes[1].setAttribute(script_attrs[i].name, script_attrs[i].value);\n    }\n    // store reference to server id on output_area\n    output_area._bokeh_server_id = output.metadata[EXEC_MIME_TYPE][\"server_id\"];\n  }\n}\n\n/**\n * Handle when an output is cleared or removed\n */\nfunction handle_clear_output(event, handle) {\n  var id = handle.cell.output_area._hv_plot_id;\n  var server_id = handle.cell.output_area._bokeh_server_id;\n  if (((id === undefined) || !(id in PyViz.plot_index)) && (server_id !== undefined)) { return; }\n  var comm = window.PyViz.comm_manager.get_client_comm(\"hv-extension-comm\", \"hv-extension-comm\", function () {});\n  if (server_id !== null) {\n    comm.send({event_type: 'server_delete', 'id': server_id});\n    return;\n  } else if (comm !== null) {\n    comm.send({event_type: 'delete', 'id': id});\n  }\n  delete PyViz.plot_index[id];\n  if ((window.Bokeh !== undefined) & (id in window.Bokeh.index)) {\n    var doc = window.Bokeh.index[id].model.document\n    doc.clear();\n    const i = window.Bokeh.documents.indexOf(doc);\n    if (i > -1) {\n      window.Bokeh.documents.splice(i, 1);\n    }\n  }\n}\n\n/**\n * Handle kernel restart event\n */\nfunction handle_kernel_cleanup(event, handle) {\n  delete PyViz.comms[\"hv-extension-comm\"];\n  window.PyViz.plot_index = {}\n}\n\n/**\n * Handle update_display_data messages\n */\nfunction handle_update_output(event, handle) {\n  handle_clear_output(event, {cell: {output_area: handle.output_area}})\n  handle_add_output(event, handle)\n}\n\nfunction register_renderer(events, OutputArea) {\n  function append_mime(data, metadata, element) {\n    // create a DOM node to render to\n    var toinsert = this.create_output_subarea(\n    metadata,\n    CLASS_NAME,\n    EXEC_MIME_TYPE\n    );\n    this.keyboard_manager.register_events(toinsert);\n    // Render to node\n    var props = {data: data, metadata: metadata[EXEC_MIME_TYPE]};\n    render(props, toinsert[0]);\n    element.append(toinsert);\n    return toinsert\n  }\n\n  events.on('output_added.OutputArea', handle_add_output);\n  events.on('output_updated.OutputArea', handle_update_output);\n  events.on('clear_output.CodeCell', handle_clear_output);\n  events.on('delete.Cell', handle_clear_output);\n  events.on('kernel_ready.Kernel', handle_kernel_cleanup);\n\n  OutputArea.prototype.register_mime_type(EXEC_MIME_TYPE, append_mime, {\n    safe: true,\n    index: 0\n  });\n}\n\nif (window.Jupyter !== undefined) {\n  try {\n    var events = require('base/js/events');\n    var OutputArea = require('notebook/js/outputarea').OutputArea;\n    if (OutputArea.prototype.mime_types().indexOf(EXEC_MIME_TYPE) == -1) {\n      register_renderer(events, OutputArea);\n    }\n  } catch(err) {\n  }\n}\n",
      "application/vnd.holoviews_load.v0+json": ""
     },
     "metadata": {},
     "output_type": "display_data"
    },
    {
     "data": {
      "text/html": [
       "<style>*[data-root-id],\n",
       "*[data-root-id] > * {\n",
       "  box-sizing: border-box;\n",
       "  font-family: var(--jp-ui-font-family);\n",
       "  font-size: var(--jp-ui-font-size1);\n",
       "  color: var(--vscode-editor-foreground, var(--jp-ui-font-color1));\n",
       "}\n",
       "\n",
       "/* Override VSCode background color */\n",
       ".cell-output-ipywidget-background:has(> .cell-output-ipywidget-background\n",
       "    > .lm-Widget\n",
       "    > *[data-root-id]),\n",
       ".cell-output-ipywidget-background:has(> .lm-Widget > *[data-root-id]) {\n",
       "  background-color: transparent !important;\n",
       "}\n",
       "</style>"
      ]
     },
     "metadata": {},
     "output_type": "display_data"
    },
    {
     "data": {
      "application/vnd.holoviews_exec.v0+json": "",
      "text/html": [
       "<div id='609cc31f-9cd6-4f02-ab6e-609223d638fc'>\n",
       "  <div id=\"ffeca36a-ad80-4532-a402-74e7fd866d52\" data-root-id=\"609cc31f-9cd6-4f02-ab6e-609223d638fc\" style=\"display: contents;\"></div>\n",
       "</div>\n",
       "<script type=\"application/javascript\">(function(root) {\n",
       "  var docs_json = {\"cc98b22f-e0b5-4ebf-a250-a51de8bad527\":{\"version\":\"3.1.1\",\"title\":\"Bokeh Application\",\"defs\":[{\"type\":\"model\",\"name\":\"ReactiveHTML1\"},{\"type\":\"model\",\"name\":\"FlexBox1\",\"properties\":[{\"name\":\"align_content\",\"kind\":\"Any\",\"default\":\"flex-start\"},{\"name\":\"align_items\",\"kind\":\"Any\",\"default\":\"flex-start\"},{\"name\":\"flex_direction\",\"kind\":\"Any\",\"default\":\"row\"},{\"name\":\"flex_wrap\",\"kind\":\"Any\",\"default\":\"wrap\"},{\"name\":\"justify_content\",\"kind\":\"Any\",\"default\":\"flex-start\"}]},{\"type\":\"model\",\"name\":\"FloatPanel1\",\"properties\":[{\"name\":\"config\",\"kind\":\"Any\",\"default\":{\"type\":\"map\"}},{\"name\":\"contained\",\"kind\":\"Any\",\"default\":true},{\"name\":\"position\",\"kind\":\"Any\",\"default\":\"right-top\"},{\"name\":\"offsetx\",\"kind\":\"Any\",\"default\":null},{\"name\":\"offsety\",\"kind\":\"Any\",\"default\":null},{\"name\":\"theme\",\"kind\":\"Any\",\"default\":\"primary\"},{\"name\":\"status\",\"kind\":\"Any\",\"default\":\"normalized\"}]},{\"type\":\"model\",\"name\":\"GridStack1\",\"properties\":[{\"name\":\"mode\",\"kind\":\"Any\",\"default\":\"warn\"},{\"name\":\"ncols\",\"kind\":\"Any\",\"default\":null},{\"name\":\"nrows\",\"kind\":\"Any\",\"default\":null},{\"name\":\"allow_resize\",\"kind\":\"Any\",\"default\":true},{\"name\":\"allow_drag\",\"kind\":\"Any\",\"default\":true},{\"name\":\"state\",\"kind\":\"Any\",\"default\":[]}]},{\"type\":\"model\",\"name\":\"drag1\",\"properties\":[{\"name\":\"slider_width\",\"kind\":\"Any\",\"default\":5},{\"name\":\"slider_color\",\"kind\":\"Any\",\"default\":\"black\"},{\"name\":\"value\",\"kind\":\"Any\",\"default\":50}]},{\"type\":\"model\",\"name\":\"click1\",\"properties\":[{\"name\":\"terminal_output\",\"kind\":\"Any\",\"default\":\"\"},{\"name\":\"debug_name\",\"kind\":\"Any\",\"default\":\"\"},{\"name\":\"clears\",\"kind\":\"Any\",\"default\":0}]},{\"type\":\"model\",\"name\":\"FastWrapper1\",\"properties\":[{\"name\":\"object\",\"kind\":\"Any\",\"default\":null},{\"name\":\"style\",\"kind\":\"Any\",\"default\":null}]},{\"type\":\"model\",\"name\":\"NotificationAreaBase1\",\"properties\":[{\"name\":\"position\",\"kind\":\"Any\",\"default\":\"bottom-right\"},{\"name\":\"_clear\",\"kind\":\"Any\",\"default\":0}]},{\"type\":\"model\",\"name\":\"NotificationArea1\",\"properties\":[{\"name\":\"notifications\",\"kind\":\"Any\",\"default\":[]},{\"name\":\"position\",\"kind\":\"Any\",\"default\":\"bottom-right\"},{\"name\":\"_clear\",\"kind\":\"Any\",\"default\":0},{\"name\":\"types\",\"kind\":\"Any\",\"default\":[{\"type\":\"map\",\"entries\":[[\"type\",\"warning\"],[\"background\",\"#ffc107\"],[\"icon\",{\"type\":\"map\",\"entries\":[[\"className\",\"fas fa-exclamation-triangle\"],[\"tagName\",\"i\"],[\"color\",\"white\"]]}]]},{\"type\":\"map\",\"entries\":[[\"type\",\"info\"],[\"background\",\"#007bff\"],[\"icon\",{\"type\":\"map\",\"entries\":[[\"className\",\"fas fa-info-circle\"],[\"tagName\",\"i\"],[\"color\",\"white\"]]}]]}]}]},{\"type\":\"model\",\"name\":\"Notification\",\"properties\":[{\"name\":\"background\",\"kind\":\"Any\",\"default\":null},{\"name\":\"duration\",\"kind\":\"Any\",\"default\":3000},{\"name\":\"icon\",\"kind\":\"Any\",\"default\":null},{\"name\":\"message\",\"kind\":\"Any\",\"default\":\"\"},{\"name\":\"notification_type\",\"kind\":\"Any\",\"default\":null},{\"name\":\"_destroyed\",\"kind\":\"Any\",\"default\":false}]},{\"type\":\"model\",\"name\":\"TemplateActions1\",\"properties\":[{\"name\":\"open_modal\",\"kind\":\"Any\",\"default\":0},{\"name\":\"close_modal\",\"kind\":\"Any\",\"default\":0}]},{\"type\":\"model\",\"name\":\"BootstrapTemplateActions1\",\"properties\":[{\"name\":\"open_modal\",\"kind\":\"Any\",\"default\":0},{\"name\":\"close_modal\",\"kind\":\"Any\",\"default\":0}]},{\"type\":\"model\",\"name\":\"MaterialTemplateActions1\",\"properties\":[{\"name\":\"open_modal\",\"kind\":\"Any\",\"default\":0},{\"name\":\"close_modal\",\"kind\":\"Any\",\"default\":0}]}],\"roots\":[{\"type\":\"object\",\"name\":\"panel.models.browser.BrowserInfo\",\"id\":\"609cc31f-9cd6-4f02-ab6e-609223d638fc\"},{\"type\":\"object\",\"name\":\"panel.models.comm_manager.CommManager\",\"id\":\"342d934e-50fd-44c6-b136-d7cd21253e6a\",\"attributes\":{\"plot_id\":\"609cc31f-9cd6-4f02-ab6e-609223d638fc\",\"comm_id\":\"a0577f827c4c451a94cc3711b5e10274\",\"client_comm_id\":\"da897448df13431e8bbfe391a09a3c11\"}}],\"callbacks\":{\"type\":\"map\"}}};\n",
       "  var render_items = [{\"docid\":\"cc98b22f-e0b5-4ebf-a250-a51de8bad527\",\"roots\":{\"609cc31f-9cd6-4f02-ab6e-609223d638fc\":\"ffeca36a-ad80-4532-a402-74e7fd866d52\"},\"root_ids\":[\"609cc31f-9cd6-4f02-ab6e-609223d638fc\"]}];\n",
       "  var docs = Object.values(docs_json)\n",
       "  if (!docs) {\n",
       "    return\n",
       "  }\n",
       "  const py_version = docs[0].version.replace('rc', '-rc.').replace('.dev', '-dev.')\n",
       "  const is_dev = py_version.indexOf(\"+\") !== -1 || py_version.indexOf(\"-\") !== -1\n",
       "  function embed_document(root) {\n",
       "    var Bokeh = get_bokeh(root)\n",
       "    Bokeh.embed.embed_items_notebook(docs_json, render_items);\n",
       "    for (const render_item of render_items) {\n",
       "      for (const root_id of render_item.root_ids) {\n",
       "\tconst id_el = document.getElementById(root_id)\n",
       "\tif (id_el.children.length && (id_el.children[0].className === 'bk-root')) {\n",
       "\t  const root_el = id_el.children[0]\n",
       "\t  root_el.id = root_el.id + '-rendered'\n",
       "\t}\n",
       "      }\n",
       "    }\n",
       "  }\n",
       "  function get_bokeh(root) {\n",
       "    if (root.Bokeh === undefined) {\n",
       "      return null\n",
       "    } else if (root.Bokeh.version !== py_version && !is_dev) {\n",
       "      if (root.Bokeh.versions === undefined || !root.Bokeh.versions.has(py_version)) {\n",
       "\treturn null\n",
       "      }\n",
       "      return root.Bokeh.versions.get(py_version);\n",
       "    } else if (root.Bokeh.version === py_version) {\n",
       "      return root.Bokeh\n",
       "    }\n",
       "    return null\n",
       "  }\n",
       "  function is_loaded(root) {\n",
       "    var Bokeh = get_bokeh(root)\n",
       "    return (Bokeh != null && Bokeh.Panel !== undefined)\n",
       "  }\n",
       "  if (is_loaded(root)) {\n",
       "    embed_document(root);\n",
       "  } else {\n",
       "    var attempts = 0;\n",
       "    var timer = setInterval(function(root) {\n",
       "      if (is_loaded(root)) {\n",
       "        clearInterval(timer);\n",
       "        embed_document(root);\n",
       "      } else if (document.readyState == \"complete\") {\n",
       "        attempts++;\n",
       "        if (attempts > 200) {\n",
       "          clearInterval(timer);\n",
       "\t  var Bokeh = get_bokeh(root)\n",
       "\t  if (Bokeh == null || Bokeh.Panel == null) {\n",
       "            console.warn(\"Panel: ERROR: Unable to run Panel code because Bokeh or Panel library is missing\");\n",
       "\t  } else {\n",
       "\t    console.warn(\"Panel: WARNING: Attempting to render but not all required libraries could be resolved.\")\n",
       "\t    embed_document(root)\n",
       "\t  }\n",
       "        }\n",
       "      }\n",
       "    }, 25, root)\n",
       "  }\n",
       "})(window);</script>"
      ]
     },
     "metadata": {
      "application/vnd.holoviews_exec.v0+json": {
       "id": "609cc31f-9cd6-4f02-ab6e-609223d638fc"
      }
     },
     "output_type": "display_data"
    }
   ],
   "source": [
    "import panel as pn\n",
    "\n",
    "pn.extension()\n",
    "\n",
    "pn.config.throttled = True"
   ]
  },
  {
   "cell_type": "code",
   "execution_count": 2,
   "metadata": {},
   "outputs": [],
   "source": [
    "import param"
   ]
  },
  {
   "cell_type": "code",
   "execution_count": 3,
   "metadata": {},
   "outputs": [],
   "source": [
    "from bokeh.models.formatters import NumeralTickFormatter"
   ]
  },
  {
   "cell_type": "code",
   "execution_count": 71,
   "metadata": {},
   "outputs": [],
   "source": [
    "class AdvancedBudgetBox(pn.WidgetBox):\n",
    "\n",
    "    MAX_STEP_MIN = 10000\n",
    "    INC_STEP_MIN = 1000\n",
    "    COUNT_MIN = 2\n",
    "    COUNT_MAX = 100\n",
    "    SLIDER_WIDTH = 600\n",
    "\n",
    "    def __init__(self):\n",
    "        super(AdvancedBudgetBox, self).__init__(margin=(15,0,15,5))\n",
    "\n",
    "        self.cap = 0\n",
    "\n",
    "        self.max_slider = pn.widgets.FloatSlider(\n",
    "            name='Maximum Budget', \n",
    "            start=0, \n",
    "            end=1, \n",
    "            step=self.MAX_STEP_MIN,\n",
    "            value=0,\n",
    "            width=self.SLIDER_WIDTH,\n",
    "            format=NumeralTickFormatter(format='$0,0'),\n",
    "        )\n",
    "\n",
    "        self.inc_slider = pn.widgets.FloatSlider(\n",
    "            name='Budget Interval', \n",
    "            start=0, \n",
    "            end=1, \n",
    "            step=self.INC_STEP_MIN,\n",
    "            value=0,\n",
    "            width=self.SLIDER_WIDTH//2,\n",
    "            format=NumeralTickFormatter(format='$0,0'),\n",
    "        )\n",
    "\n",
    "        self.count_input = pn.widgets.IntInput(\n",
    "            name='Number of Budgets', \n",
    "            value=10, \n",
    "            step=1, \n",
    "            start=self.COUNT_MIN,\n",
    "            end=self.COUNT_MAX,\n",
    "            width=75,\n",
    "        )\n",
    "\n",
    "        self.append(pn.Row(self.max_slider, pn.pane.HTML('<b>Limit:<b>')))\n",
    "        self.append(pn.Row(self.inc_slider, self.count_input))\n",
    "\n",
    "        self.max_slider.param.watch(self.max_updated, ['value'])\n",
    "        self.inc_slider.param.watch(self.inc_updated, ['value'])\n",
    "        self.count_input.param.watch(self.count_updated, ['value'])\n",
    "\n",
    "    def print_state(self, w):\n",
    "        print(w, self.max_slider.value, self.inc_slider.value, self.count_input.value)\n",
    "\n",
    "    def set_cap(self, n):\n",
    "        self.max_slider.end = max(1, n)\n",
    "        self.max_slider.start = self.MAX_STEP_MIN\n",
    "        self.inc_slider.end = max(1, n // 2)\n",
    "        self.inc_slider.start = max(self.INC_STEP_MIN, n / self.COUNT_MAX)\n",
    "        self[0][1] = pn.pane.HTML(f'<b>Limit: ${n}</b>')\n",
    "\n",
    "    def max_updated(self, e):\n",
    "        self.print_state('max')\n",
    "        n = self.count_input.value\n",
    "        with param.parameterized.discard_events(self.count_input):\n",
    "            self.inc_slider.value = self.max_slider.value // n\n",
    "\n",
    "    def inc_updated(self, e):\n",
    "        self.print_state('inc')\n",
    "        with param.parameterized.discard_events(self.inc_slider):\n",
    "            c = max(self.COUNT_MIN, self.max_slider.value // self.inc_slider.value)\n",
    "            c = min(self.COUNT_MAX, c)\n",
    "            self.count_input.value = c\n",
    "\n",
    "    def count_updated(self, e):\n",
    "        self.print_state('count')\n",
    "        with param.parameterized.discard_events(self.count_input):\n",
    "            self.inc_slider.value = self.max_slider.value // self.count_input.value\n"
   ]
  },
  {
   "cell_type": "code",
   "execution_count": 72,
   "metadata": {},
   "outputs": [],
   "source": [
    "b = AdvancedBudgetBox()"
   ]
  },
  {
   "cell_type": "code",
   "execution_count": 73,
   "metadata": {},
   "outputs": [
    {
     "data": {
      "application/vnd.jupyter.widget-view+json": {
       "model_id": "e861d3e2ac7b4d24b78aaef56bfce872",
       "version_major": 2,
       "version_minor": 0
      },
      "text/plain": [
       "BokehModel(combine_events=True, render_bundle={'docs_json': {'520cb74e-cb8a-4c24-80fc-678a017d7112': {'version…"
      ]
     },
     "execution_count": 73,
     "metadata": {},
     "output_type": "execute_result"
    }
   ],
   "source": [
    "b"
   ]
  },
  {
   "cell_type": "code",
   "execution_count": 75,
   "metadata": {},
   "outputs": [],
   "source": [
    "b.set_cap(500000)"
   ]
  },
  {
   "cell_type": "code",
   "execution_count": 67,
   "metadata": {},
   "outputs": [],
   "source": [
    "b[0][1] = \"hello\""
   ]
  },
  {
   "cell_type": "code",
   "execution_count": 89,
   "metadata": {},
   "outputs": [
    {
     "data": {
      "text/plain": [
       "0"
      ]
     },
     "execution_count": 89,
     "metadata": {},
     "output_type": "execute_result"
    }
   ],
   "source": [
    "b.max_slider.value"
   ]
  },
  {
   "cell_type": "code",
   "execution_count": 26,
   "metadata": {},
   "outputs": [
    {
     "name": "stdout",
     "output_type": "stream",
     "text": [
      "max updated Event(what='value', name='value', obj=FloatSlider(end=1000000, format=NumeralTickFormatter(id='1..., name='Maximum Budget', step=10000, value=500000, width=800), cls=<class 'panel.widgets.slider.FloatSlider'>, old=0, new=500000, type='changed')\n"
     ]
    }
   ],
   "source": [
    "b.max_slider.value = 500000"
   ]
  },
  {
   "cell_type": "code",
   "execution_count": 56,
   "metadata": {},
   "outputs": [],
   "source": [
    "b.set_cap(100000)"
   ]
  },
  {
   "cell_type": "code",
   "execution_count": 28,
   "metadata": {},
   "outputs": [
    {
     "data": {
      "text/plain": [
       "500000"
      ]
     },
     "execution_count": 28,
     "metadata": {},
     "output_type": "execute_result"
    }
   ],
   "source": [
    "b.max_slider.value"
   ]
  },
  {
   "cell_type": "code",
   "execution_count": 29,
   "metadata": {},
   "outputs": [
    {
     "data": {
      "text/plain": [
       "<param.parameterized.Parameters at 0x1686a56f0>"
      ]
     },
     "execution_count": 29,
     "metadata": {},
     "output_type": "execute_result"
    }
   ],
   "source": [
    "b.max_slider.param"
   ]
  },
  {
   "cell_type": "code",
   "execution_count": 37,
   "metadata": {},
   "outputs": [
    {
     "name": "stdout",
     "output_type": "stream",
     "text": [
      "\u001b[0;31mType:\u001b[0m            Number\n",
      "\u001b[0;31mString form:\u001b[0m     <param.Number object at 0x1685eed40>\n",
      "\u001b[0;31mFile:\u001b[0m            ~/.pyenv/versions/3.10.6/envs/panel-1.1/lib/python3.10/site-packages/param/__init__.py\n",
      "\u001b[0;31mDocstring:\u001b[0m      \n",
      "The selected floating-point value of the slider. Updated when\n",
      "the handle is dragged.\n",
      "\u001b[0;31mClass docstring:\u001b[0m\n",
      "A numeric Dynamic Parameter, with a default value and optional bounds.\n",
      "\n",
      "There are two types of bounds: ``bounds`` and\n",
      "``softbounds``.  ``bounds`` are hard bounds: the parameter must\n",
      "have a value within the specified range.  The default bounds are\n",
      "(None,None), meaning there are actually no hard bounds.  One or\n",
      "both bounds can be set by specifying a value\n",
      "(e.g. bounds=(None,10) means there is no lower bound, and an upper\n",
      "bound of 10). Bounds are inclusive by default, but exclusivity\n",
      "can be specified for each bound by setting inclusive_bounds\n",
      "(e.g. inclusive_bounds=(True,False) specifies an exclusive upper\n",
      "bound).\n",
      "\n",
      "Number is also a type of Dynamic parameter, so its value\n",
      "can be set to a callable to get a dynamically generated\n",
      "number (see Dynamic).\n",
      "\n",
      "When not being dynamically generated, bounds are checked when a\n",
      "Number is created or set. Using a default value outside the hard\n",
      "bounds, or one that is not numeric, results in an exception. When\n",
      "being dynamically generated, bounds are checked when the value\n",
      "of a Number is requested. A generated value that is not numeric,\n",
      "or is outside the hard bounds, results in an exception.\n",
      "\n",
      "As a special case, if allow_None=True (which is true by default if\n",
      "the parameter has a default of None when declared) then a value\n",
      "of None is also allowed.\n",
      "\n",
      "A separate function set_in_bounds() is provided that will\n",
      "silently crop the given value into the legal range, for use\n",
      "in, for instance, a GUI.\n",
      "\n",
      "``softbounds`` are present to indicate the typical range of\n",
      "the parameter, but are not enforced. Setting the soft bounds\n",
      "allows, for instance, a GUI to know what values to display on\n",
      "sliders for the Number.\n",
      "\n",
      "Example of creating a Number::\n",
      "\n",
      "  AB = Number(default=0.5, bounds=(None,10), softbounds=(0,1), doc='Distance from A to B.')\n",
      "\u001b[0;31mInit docstring:\u001b[0m \n",
      "Initialize this parameter object and store the bounds.\n",
      "\n",
      "Non-dynamic default values are checked against the bounds."
     ]
    }
   ],
   "source": [
    "?b.max_slider.param.value"
   ]
  },
  {
   "cell_type": "code",
   "execution_count": 35,
   "metadata": {},
   "outputs": [
    {
     "data": {
      "text/plain": [
       "['__class__',\n",
       " '__classdoc',\n",
       " '__delattr__',\n",
       " '__delete__',\n",
       " '__dir__',\n",
       " '__doc__',\n",
       " '__eq__',\n",
       " '__format__',\n",
       " '__ge__',\n",
       " '__get__',\n",
       " '__getattribute__',\n",
       " '__getstate__',\n",
       " '__gt__',\n",
       " '__hash__',\n",
       " '__init__',\n",
       " '__init_subclass__',\n",
       " '__le__',\n",
       " '__lt__',\n",
       " '__module__',\n",
       " '__ne__',\n",
       " '__new__',\n",
       " '__reduce__',\n",
       " '__reduce_ex__',\n",
       " '__repr__',\n",
       " '__set__',\n",
       " '__setattr__',\n",
       " '__setstate__',\n",
       " '__sizeof__',\n",
       " '__slots__',\n",
       " '__str__',\n",
       " '__subclasshook__',\n",
       " '_force',\n",
       " '_initialize_generator',\n",
       " '_inspect',\n",
       " '_internal_name',\n",
       " '_label',\n",
       " '_on_set',\n",
       " '_post_setter',\n",
       " '_produce_value',\n",
       " '_serializers',\n",
       " '_set_instantiate',\n",
       " '_set_names',\n",
       " '_validate',\n",
       " '_validate_bounds',\n",
       " '_validate_step',\n",
       " '_validate_value',\n",
       " '_value_is_dynamic',\n",
       " 'allow_None',\n",
       " 'bounds',\n",
       " 'constant',\n",
       " 'crop_to_bounds',\n",
       " 'default',\n",
       " 'deserialize',\n",
       " 'doc',\n",
       " 'get_soft_bounds',\n",
       " 'inclusive_bounds',\n",
       " 'instantiate',\n",
       " 'label',\n",
       " 'name',\n",
       " 'owner',\n",
       " 'per_instance',\n",
       " 'pickle_default_value',\n",
       " 'precedence',\n",
       " 'readonly',\n",
       " 'schema',\n",
       " 'serialize',\n",
       " 'set_hook',\n",
       " 'set_in_bounds',\n",
       " 'softbounds',\n",
       " 'step',\n",
       " 'time_dependent',\n",
       " 'time_fn',\n",
       " 'watchers']"
      ]
     },
     "execution_count": 35,
     "metadata": {},
     "output_type": "execute_result"
    }
   ],
   "source": [
    "dir(b.max_slider.param.value)"
   ]
  },
  {
   "cell_type": "code",
   "execution_count": 57,
   "metadata": {},
   "outputs": [],
   "source": [
    "f = pn.widgets.FloatSlider(\n",
    "            name='Maximum Budget', \n",
    "            start=0, \n",
    "            end=1000000, \n",
    "            step=10000, \n",
    "            value=0,\n",
    "            width=800,\n",
    "            format=NumeralTickFormatter(format='$0,0')\n",
    "        )"
   ]
  },
  {
   "cell_type": "code",
   "execution_count": 58,
   "metadata": {},
   "outputs": [
    {
     "data": {
      "application/vnd.jupyter.widget-view+json": {
       "model_id": "0e46818cdf1a4bd09b95c4db3d562775",
       "version_major": 2,
       "version_minor": 0
      },
      "text/plain": [
       "BokehModel(combine_events=True, render_bundle={'docs_json': {'b9f691e4-2118-426d-9b32-58fa242a3806': {'version…"
      ]
     },
     "execution_count": 58,
     "metadata": {},
     "output_type": "execute_result"
    }
   ],
   "source": [
    "f"
   ]
  },
  {
   "cell_type": "code",
   "execution_count": 59,
   "metadata": {},
   "outputs": [],
   "source": [
    "f.value = 500000"
   ]
  },
  {
   "cell_type": "code",
   "execution_count": 60,
   "metadata": {},
   "outputs": [],
   "source": [
    "f.end = 2000000"
   ]
  },
  {
   "cell_type": "code",
   "execution_count": 25,
   "metadata": {},
   "outputs": [
    {
     "name": "stdout",
     "output_type": "stream",
     "text": [
      "\u001b[0;31mSignature:\u001b[0m \u001b[0mparam\u001b[0m\u001b[0;34m.\u001b[0m\u001b[0mparameterized\u001b[0m\u001b[0;34m.\u001b[0m\u001b[0mdiscard_events\u001b[0m\u001b[0;34m(\u001b[0m\u001b[0mparameterized\u001b[0m\u001b[0;34m)\u001b[0m\u001b[0;34m\u001b[0m\u001b[0;34m\u001b[0m\u001b[0m\n",
      "\u001b[0;31mDocstring:\u001b[0m\n",
      "Context manager that discards any events within its scope\n",
      "triggered on the supplied parameterized object.\n",
      "\u001b[0;31mFile:\u001b[0m      ~/.pyenv/versions/3.10.6/envs/panel-1.1/lib/python3.10/site-packages/param/parameterized.py\n",
      "\u001b[0;31mType:\u001b[0m      function"
     ]
    }
   ],
   "source": [
    "?param.parameterized.discard_events"
   ]
  },
  {
   "cell_type": "code",
   "execution_count": 57,
   "metadata": {},
   "outputs": [],
   "source": [
    "t = pn.pane.HTML(f'<h3>Hi</h3>')"
   ]
  },
  {
   "cell_type": "code",
   "execution_count": 58,
   "metadata": {},
   "outputs": [
    {
     "data": {
      "application/vnd.jupyter.widget-view+json": {
       "model_id": "5c879276ceb943b892e5ed2c53a5a65e",
       "version_major": 2,
       "version_minor": 0
      },
      "text/plain": [
       "BokehModel(combine_events=True, render_bundle={'docs_json': {'a054321d-f03a-46d7-b9b3-717cb6de4363': {'version…"
      ]
     },
     "execution_count": 58,
     "metadata": {},
     "output_type": "execute_result"
    }
   ],
   "source": [
    "t"
   ]
  },
  {
   "cell_type": "code",
   "execution_count": 53,
   "metadata": {},
   "outputs": [],
   "source": [
    "t.value = '<h3>Hello</h3>'"
   ]
  },
  {
   "cell_type": "code",
   "execution_count": 55,
   "metadata": {},
   "outputs": [
    {
     "data": {
      "text/plain": [
       "['_HTMLBasePane__abstract',\n",
       " '_HTMLBasePane__params',\n",
       " '_HTML__params',\n",
       " '_Layoutable__abstract',\n",
       " '_Layoutable__params',\n",
       " '_ModelPane__abstract',\n",
       " '_ModelPane__params',\n",
       " '_PaneBase__abstract',\n",
       " '_PaneBase__params',\n",
       " '_Parameterized__db_print',\n",
       " '_Parameterized__params',\n",
       " '_Reactive__abstract',\n",
       " '_Reactive__params',\n",
       " '_Renderable__abstract',\n",
       " '_Renderable__params',\n",
       " '_Syncable__abstract',\n",
       " '_Syncable__params',\n",
       " '_Viewable__params',\n",
       " '__annotations__',\n",
       " '__class__',\n",
       " '__delattr__',\n",
       " '__dict__',\n",
       " '__dir__',\n",
       " '__doc__',\n",
       " '__eq__',\n",
       " '__format__',\n",
       " '__ge__',\n",
       " '__getattribute__',\n",
       " '__getitem__',\n",
       " '__getstate__',\n",
       " '__gt__',\n",
       " '__hash__',\n",
       " '__init__',\n",
       " '__init_subclass__',\n",
       " '__le__',\n",
       " '__lt__',\n",
       " '__module__',\n",
       " '__ne__',\n",
       " '__new__',\n",
       " '__reduce__',\n",
       " '__reduce_ex__',\n",
       " '__repr__',\n",
       " '__setattr__',\n",
       " '__setstate__',\n",
       " '__sizeof__',\n",
       " '__str__',\n",
       " '__subclasshook__',\n",
       " '__weakref__',\n",
       " '_add_location',\n",
       " '_add_parameter',\n",
       " '_applies_kw',\n",
       " '_apply_update',\n",
       " '_async_ref',\n",
       " '_async_refs',\n",
       " '_bokeh_model',\n",
       " '_change_coroutine',\n",
       " '_change_event',\n",
       " '_changing',\n",
       " '_cleanup',\n",
       " '_comm_change',\n",
       " '_comm_event',\n",
       " '_comms',\n",
       " '_css_classes_param_value',\n",
       " '_debounce',\n",
       " '_default_layout_param_value',\n",
       " '_design',\n",
       " '_design_param_value',\n",
       " '_documents',\n",
       " '_dynamic_watchers',\n",
       " '_event_coroutine',\n",
       " '_events',\n",
       " '_extract_refs',\n",
       " '_found_links',\n",
       " '_get_model',\n",
       " '_get_properties',\n",
       " '_get_root_model',\n",
       " '_hooks',\n",
       " '_ignored_refs',\n",
       " '_init_params',\n",
       " '_instance__params',\n",
       " '_internal_callbacks',\n",
       " '_js_transforms',\n",
       " '_kernels',\n",
       " '_link_params',\n",
       " '_link_props',\n",
       " '_linkable_params',\n",
       " '_linked_properties',\n",
       " '_links',\n",
       " '_log',\n",
       " '_logger',\n",
       " '_manual_params',\n",
       " '_manual_update',\n",
       " '_models',\n",
       " '_modify_doc',\n",
       " '_name_param_value',\n",
       " '_object_changing',\n",
       " '_object_param_value',\n",
       " '_on_error',\n",
       " '_on_msg',\n",
       " '_on_stdout',\n",
       " '_param',\n",
       " '_param_change',\n",
       " '_param_watchers',\n",
       " '_parameters_state',\n",
       " '_pprint',\n",
       " '_preprocess',\n",
       " '_preprocessing_hooks',\n",
       " '_priority_changes',\n",
       " '_process_bokeh_event',\n",
       " '_process_events',\n",
       " '_process_param_change',\n",
       " '_process_property_change',\n",
       " '_property_mapping',\n",
       " '_refs',\n",
       " '_register_events',\n",
       " '_rename',\n",
       " '_render_mimebundle',\n",
       " '_render_model',\n",
       " '_repr_mimebundle_',\n",
       " '_rerender_params',\n",
       " '_resolve_ref',\n",
       " '_schedule_change',\n",
       " '_server_change',\n",
       " '_server_destroy',\n",
       " '_server_event',\n",
       " '_set_name',\n",
       " '_setup_refs',\n",
       " '_skip_layoutable',\n",
       " '_source_transforms',\n",
       " '_styles_param_value',\n",
       " '_stylesheets',\n",
       " '_stylesheets_param_value',\n",
       " '_sync_layoutable',\n",
       " '_sync_refs',\n",
       " '_synced_params',\n",
       " '_tags_param_value',\n",
       " '_target_transforms',\n",
       " '_themer',\n",
       " '_timeout',\n",
       " '_transform_object',\n",
       " '_type_error',\n",
       " '_unpack',\n",
       " '_update',\n",
       " '_update_background',\n",
       " '_update_design',\n",
       " '_update_loading',\n",
       " '_update_manual',\n",
       " '_update_model',\n",
       " '_update_object',\n",
       " '_update_pane',\n",
       " '_update_properties',\n",
       " '_updates',\n",
       " '_updating',\n",
       " '_validate_ref',\n",
       " 'align',\n",
       " 'app',\n",
       " 'applies',\n",
       " 'aspect_ratio',\n",
       " 'background',\n",
       " 'clone',\n",
       " 'controls',\n",
       " 'css_classes',\n",
       " 'debug',\n",
       " 'default_layout',\n",
       " 'defaults',\n",
       " 'design',\n",
       " 'disable_math',\n",
       " 'embed',\n",
       " 'force_new_dynamic_value',\n",
       " 'get_pane_type',\n",
       " 'get_param_values',\n",
       " 'get_root',\n",
       " 'get_value_generator',\n",
       " 'height',\n",
       " 'height_policy',\n",
       " 'initialized',\n",
       " 'inspect_value',\n",
       " 'jscallback',\n",
       " 'jslink',\n",
       " 'layout',\n",
       " 'link',\n",
       " 'loading',\n",
       " 'margin',\n",
       " 'max_height',\n",
       " 'max_width',\n",
       " 'message',\n",
       " 'min_height',\n",
       " 'min_width',\n",
       " 'name',\n",
       " 'object',\n",
       " 'param',\n",
       " 'params',\n",
       " 'pprint',\n",
       " 'print_param_defaults',\n",
       " 'print_param_values',\n",
       " 'priority',\n",
       " 'save',\n",
       " 'script_repr',\n",
       " 'select',\n",
       " 'servable',\n",
       " 'server_doc',\n",
       " 'set_default',\n",
       " 'set_dynamic_time_fn',\n",
       " 'set_param',\n",
       " 'show',\n",
       " 'sizing_mode',\n",
       " 'state_pop',\n",
       " 'state_push',\n",
       " 'styles',\n",
       " 'stylesheets',\n",
       " 'tags',\n",
       " 'value',\n",
       " 'verbose',\n",
       " 'visible',\n",
       " 'warning',\n",
       " 'width',\n",
       " 'width_policy']"
      ]
     },
     "execution_count": 55,
     "metadata": {},
     "output_type": "execute_result"
    }
   ],
   "source": [
    "dir(t)"
   ]
  },
  {
   "cell_type": "code",
   "execution_count": 59,
   "metadata": {},
   "outputs": [
    {
     "ename": "AttributeError",
     "evalue": "'HTML' object has no attribute 'value'",
     "output_type": "error",
     "traceback": [
      "\u001b[0;31m---------------------------------------------------------------------------\u001b[0m",
      "\u001b[0;31mAttributeError\u001b[0m                            Traceback (most recent call last)",
      "Cell \u001b[0;32mIn[59], line 1\u001b[0m\n\u001b[0;32m----> 1\u001b[0m t\u001b[39m.\u001b[39;49mvalue\n",
      "\u001b[0;31mAttributeError\u001b[0m: 'HTML' object has no attribute 'value'"
     ]
    }
   ],
   "source": [
    "t.value"
   ]
  },
  {
   "cell_type": "code",
   "execution_count": 60,
   "metadata": {},
   "outputs": [
    {
     "name": "stdout",
     "output_type": "stream",
     "text": [
      "\u001b[0;31mInit signature:\u001b[0m\n",
      "\u001b[0mpn\u001b[0m\u001b[0;34m.\u001b[0m\u001b[0mpane\u001b[0m\u001b[0;34m.\u001b[0m\u001b[0mHTML\u001b[0m\u001b[0;34m(\u001b[0m\u001b[0;34m\u001b[0m\n",
      "\u001b[0;34m\u001b[0m    \u001b[0mobject\u001b[0m\u001b[0;34m=\u001b[0m\u001b[0;32mNone\u001b[0m\u001b[0;34m,\u001b[0m\u001b[0;34m\u001b[0m\n",
      "\u001b[0;34m\u001b[0m    \u001b[0;34m*\u001b[0m\u001b[0;34m,\u001b[0m\u001b[0;34m\u001b[0m\n",
      "\u001b[0;34m\u001b[0m    \u001b[0mdisable_math\u001b[0m\u001b[0;34m,\u001b[0m\u001b[0;34m\u001b[0m\n",
      "\u001b[0;34m\u001b[0m    \u001b[0mdefault_layout\u001b[0m\u001b[0;34m,\u001b[0m\u001b[0;34m\u001b[0m\n",
      "\u001b[0;34m\u001b[0m    \u001b[0mloading\u001b[0m\u001b[0;34m,\u001b[0m\u001b[0;34m\u001b[0m\n",
      "\u001b[0;34m\u001b[0m    \u001b[0malign\u001b[0m\u001b[0;34m,\u001b[0m\u001b[0;34m\u001b[0m\n",
      "\u001b[0;34m\u001b[0m    \u001b[0maspect_ratio\u001b[0m\u001b[0;34m,\u001b[0m\u001b[0;34m\u001b[0m\n",
      "\u001b[0;34m\u001b[0m    \u001b[0mbackground\u001b[0m\u001b[0;34m,\u001b[0m\u001b[0;34m\u001b[0m\n",
      "\u001b[0;34m\u001b[0m    \u001b[0mcss_classes\u001b[0m\u001b[0;34m,\u001b[0m\u001b[0;34m\u001b[0m\n",
      "\u001b[0;34m\u001b[0m    \u001b[0mdesign\u001b[0m\u001b[0;34m,\u001b[0m\u001b[0;34m\u001b[0m\n",
      "\u001b[0;34m\u001b[0m    \u001b[0mheight\u001b[0m\u001b[0;34m,\u001b[0m\u001b[0;34m\u001b[0m\n",
      "\u001b[0;34m\u001b[0m    \u001b[0mheight_policy\u001b[0m\u001b[0;34m,\u001b[0m\u001b[0;34m\u001b[0m\n",
      "\u001b[0;34m\u001b[0m    \u001b[0mmargin\u001b[0m\u001b[0;34m,\u001b[0m\u001b[0;34m\u001b[0m\n",
      "\u001b[0;34m\u001b[0m    \u001b[0mmax_height\u001b[0m\u001b[0;34m,\u001b[0m\u001b[0;34m\u001b[0m\n",
      "\u001b[0;34m\u001b[0m    \u001b[0mmax_width\u001b[0m\u001b[0;34m,\u001b[0m\u001b[0;34m\u001b[0m\n",
      "\u001b[0;34m\u001b[0m    \u001b[0mmin_height\u001b[0m\u001b[0;34m,\u001b[0m\u001b[0;34m\u001b[0m\n",
      "\u001b[0;34m\u001b[0m    \u001b[0mmin_width\u001b[0m\u001b[0;34m,\u001b[0m\u001b[0;34m\u001b[0m\n",
      "\u001b[0;34m\u001b[0m    \u001b[0msizing_mode\u001b[0m\u001b[0;34m,\u001b[0m\u001b[0;34m\u001b[0m\n",
      "\u001b[0;34m\u001b[0m    \u001b[0mstyles\u001b[0m\u001b[0;34m,\u001b[0m\u001b[0;34m\u001b[0m\n",
      "\u001b[0;34m\u001b[0m    \u001b[0mstylesheets\u001b[0m\u001b[0;34m,\u001b[0m\u001b[0;34m\u001b[0m\n",
      "\u001b[0;34m\u001b[0m    \u001b[0mtags\u001b[0m\u001b[0;34m,\u001b[0m\u001b[0;34m\u001b[0m\n",
      "\u001b[0;34m\u001b[0m    \u001b[0mvisible\u001b[0m\u001b[0;34m,\u001b[0m\u001b[0;34m\u001b[0m\n",
      "\u001b[0;34m\u001b[0m    \u001b[0mwidth\u001b[0m\u001b[0;34m,\u001b[0m\u001b[0;34m\u001b[0m\n",
      "\u001b[0;34m\u001b[0m    \u001b[0mwidth_policy\u001b[0m\u001b[0;34m,\u001b[0m\u001b[0;34m\u001b[0m\n",
      "\u001b[0;34m\u001b[0m    \u001b[0mname\u001b[0m\u001b[0;34m,\u001b[0m\u001b[0;34m\u001b[0m\n",
      "\u001b[0;34m\u001b[0m    \u001b[0;34m**\u001b[0m\u001b[0mkwargs\u001b[0m\u001b[0;34m,\u001b[0m\u001b[0;34m\u001b[0m\n",
      "\u001b[0;34m\u001b[0m\u001b[0;34m)\u001b[0m\u001b[0;34m\u001b[0m\u001b[0;34m\u001b[0m\u001b[0m\n",
      "\u001b[0;31mDocstring:\u001b[0m     \n",
      "    `HTML` panes renders HTML strings and objects with a `_repr_html_` method.\n",
      "\n",
      "    The `height` and `width` can optionally be specified, to\n",
      "    allow room for whatever is being wrapped.\n",
      "\n",
      "    Reference: https://panel.holoviz.org/reference/panes/HTML.html\n",
      "\n",
      "    :Example:\n",
      "\n",
      "    >>> HTML(\n",
      "    ...     \"<h1>This is a HTML pane</h1>\",\n",
      "    ...     styles={'background-color': '#F6F6F6'}\n",
      "    ... )\n",
      "    \n",
      "\u001b[1;32mParameters of 'HTML'\n",
      "====================\n",
      "\u001b[0m\n",
      "\u001b[1;31mParameters changed from their default values are marked in red.\u001b[0m\n",
      "\u001b[1;36mSoft bound values are marked in cyan.\u001b[0m\n",
      "C/V= Constant/Variable, RO/RW = ReadOnly/ReadWrite, AN=Allow None\n",
      "\n",
      "\u001b[1;34mName                          Value                    Type         Bounds     Mode  \u001b[0m\n",
      "\n",
      "align                        'start'                  Align                    V RW  \n",
      "aspect_ratio                   None                   Aspect                 V RW AN \n",
      "background                     None                 Parameter                V RW AN \n",
      "css_classes                     []                     List       (0, None)    V RW  \n",
      "design                         None               ObjectSelector               V RW  \n",
      "height                         None                  Integer      (0, None)  V RW AN \n",
      "min_width                      None                  Integer      (0, None)  V RW AN \n",
      "min_height                     None                  Integer      (0, None)  V RW AN \n",
      "max_width                      None                  Integer      (0, None)  V RW AN \n",
      "max_height                     None                  Integer      (0, None)  V RW AN \n",
      "margin                       (5, 10)                  Margin                 V RW AN \n",
      "styles                          {}                     Dict                    V RW  \n",
      "stylesheets                     []                     List       (0, None)    V RW  \n",
      "tags                            []                     List       (0, None)    V RW  \n",
      "width                          None                  Integer      (0, None)  V RW AN \n",
      "width_policy                  'auto'              ObjectSelector               V RW  \n",
      "height_policy                 'auto'              ObjectSelector               V RW  \n",
      "sizing_mode                    None               ObjectSelector               V RW  \n",
      "visible                        True                  Boolean        (0, 1)     V RW  \n",
      "loading                       False                  Boolean        (0, 1)     V RW  \n",
      "default_layout   <class 'panel.layout.base.Row'>  ClassSelector                V RW  \n",
      "object                         None                 Parameter                V RW AN \n",
      "disable_math                   True                  Boolean        (0, 1)     V RW  \n",
      "\n",
      "\u001b[1;32mParameter docstrings:\n",
      "=====================\u001b[0m\n",
      "\n",
      "\u001b[1;34malign:          Whether the object should be aligned with the start, end or\u001b[0m\n",
      "\u001b[1;34m                center of its container. If set as a tuple it will declare\u001b[0m\n",
      "\u001b[1;34m                (vertical, horizontal) alignment.\u001b[0m\n",
      "\u001b[1;31maspect_ratio:   Describes the proportional relationship between component's\u001b[0m\n",
      "\u001b[1;31m                width and height.  This works if any of component's dimensions\u001b[0m\n",
      "\u001b[1;31m                are flexible in size. If set to a number, ``width / height =\u001b[0m\n",
      "\u001b[1;31m                aspect_ratio`` relationship will be maintained.  Otherwise, if\u001b[0m\n",
      "\u001b[1;31m                set to ``\"auto\"``, component's preferred width and height will\u001b[0m\n",
      "\u001b[1;31m                be used to determine the aspect (if not set, no aspect will be\u001b[0m\n",
      "\u001b[1;31m                preserved).\u001b[0m\n",
      "\u001b[1;34mbackground:     Background color of the component.\u001b[0m\n",
      "\u001b[1;31mcss_classes:    CSS classes to apply to the layout.\u001b[0m\n",
      "\u001b[1;34mdesign:         The design system to use to style components.\u001b[0m\n",
      "\u001b[1;31mheight:         The height of the component (in pixels).  This can be either\u001b[0m\n",
      "\u001b[1;31m                fixed or preferred height, depending on height sizing policy.\u001b[0m\n",
      "\u001b[1;34mmin_width:      Minimal width of the component (in pixels) if width is adjustable.\u001b[0m\n",
      "\u001b[1;31mmin_height:     Minimal height of the component (in pixels) if height is adjustable.\u001b[0m\n",
      "\u001b[1;34mmax_width:      Minimal width of the component (in pixels) if width is adjustable.\u001b[0m\n",
      "\u001b[1;31mmax_height:     Minimal height of the component (in pixels) if height is adjustable.\u001b[0m\n",
      "\u001b[1;34mmargin:         Allows to create additional space around the component. May\u001b[0m\n",
      "\u001b[1;34m                be specified as a two-tuple of the form (vertical, horizontal)\u001b[0m\n",
      "\u001b[1;34m                or a four-tuple (top, right, bottom, left).\u001b[0m\n",
      "\u001b[1;31mstyles:         Dictionary of CSS rules to apply to DOM node wrapping the\u001b[0m\n",
      "\u001b[1;31m                component.\u001b[0m\n",
      "\u001b[1;34mstylesheets:    List of stylesheets defined as URLs pointing to .css files\u001b[0m\n",
      "\u001b[1;34m                or raw CSS defined as a string.\u001b[0m\n",
      "\u001b[1;31mtags:           List of arbitrary tags to add to the component.\u001b[0m\n",
      "\u001b[1;31m                Can be useful for templating or for storing metadata on\u001b[0m\n",
      "\u001b[1;31m                the model.\u001b[0m\n",
      "\u001b[1;34mwidth:          The width of the component (in pixels). This can be either\u001b[0m\n",
      "\u001b[1;34m                fixed or preferred width, depending on width sizing policy.\u001b[0m\n",
      "\u001b[1;31mwidth_policy:   Describes how the component should maintain its width.\u001b[0m\n",
      "\u001b[1;31m                \u001b[0m\n",
      "\u001b[1;31m                ``\"auto\"``\u001b[0m\n",
      "\u001b[1;31m                    Use component's preferred sizing policy.\u001b[0m\n",
      "\u001b[1;31m                \u001b[0m\n",
      "\u001b[1;31m                ``\"fixed\"``\u001b[0m\n",
      "\u001b[1;31m                    Use exactly ``width`` pixels. Component will overflow if\u001b[0m\n",
      "\u001b[1;31m                    it can't fit in the available horizontal space.\u001b[0m\n",
      "\u001b[1;31m                \u001b[0m\n",
      "\u001b[1;31m                ``\"fit\"``\u001b[0m\n",
      "\u001b[1;31m                    Use component's preferred width (if set) and allow it to\u001b[0m\n",
      "\u001b[1;31m                    fit into the available horizontal space within the minimum\u001b[0m\n",
      "\u001b[1;31m                    and maximum width bounds (if set). Component's width\u001b[0m\n",
      "\u001b[1;31m                    neither will be aggressively minimized nor maximized.\u001b[0m\n",
      "\u001b[1;31m                \u001b[0m\n",
      "\u001b[1;31m                ``\"min\"``\u001b[0m\n",
      "\u001b[1;31m                    Use as little horizontal space as possible, not less than\u001b[0m\n",
      "\u001b[1;31m                    the minimum width (if set).  The starting point is the\u001b[0m\n",
      "\u001b[1;31m                    preferred width (if set). The width of the component may\u001b[0m\n",
      "\u001b[1;31m                    shrink or grow depending on the parent layout, aspect\u001b[0m\n",
      "\u001b[1;31m                    management and other factors.\u001b[0m\n",
      "\u001b[1;31m                \u001b[0m\n",
      "\u001b[1;31m                ``\"max\"``\u001b[0m\n",
      "\u001b[1;31m                    Use as much horizontal space as possible, not more than\u001b[0m\n",
      "\u001b[1;31m                    the maximum width (if set).  The starting point is the\u001b[0m\n",
      "\u001b[1;31m                    preferred width (if set). The width of the component may\u001b[0m\n",
      "\u001b[1;31m                    shrink or grow depending on the parent layout, aspect\u001b[0m\n",
      "\u001b[1;31m                    management and other factors.\u001b[0m\n",
      "\u001b[1;34mheight_policy:  Describes how the component should maintain its height.\u001b[0m\n",
      "\u001b[1;34m                \u001b[0m\n",
      "\u001b[1;34m                ``\"auto\"``\u001b[0m\n",
      "\u001b[1;34m                    Use component's preferred sizing policy.\u001b[0m\n",
      "\u001b[1;34m                \u001b[0m\n",
      "\u001b[1;34m                ``\"fixed\"``\u001b[0m\n",
      "\u001b[1;34m                    Use exactly ``height`` pixels. Component will overflow if\u001b[0m\n",
      "\u001b[1;34m                    it can't fit in the available vertical space.\u001b[0m\n",
      "\u001b[1;34m                \u001b[0m\n",
      "\u001b[1;34m                ``\"fit\"``\u001b[0m\n",
      "\u001b[1;34m                    Use component's preferred height (if set) and allow to fit\u001b[0m\n",
      "\u001b[1;34m                    into the available vertical space within the minimum and\u001b[0m\n",
      "\u001b[1;34m                    maximum height bounds (if set). Component's height neither\u001b[0m\n",
      "\u001b[1;34m                    will be aggressively minimized nor maximized.\u001b[0m\n",
      "\u001b[1;34m                \u001b[0m\n",
      "\u001b[1;34m                ``\"min\"``\u001b[0m\n",
      "\u001b[1;34m                    Use as little vertical space as possible, not less than\u001b[0m\n",
      "\u001b[1;34m                    the minimum height (if set).  The starting point is the\u001b[0m\n",
      "\u001b[1;34m                    preferred height (if set). The height of the component may\u001b[0m\n",
      "\u001b[1;34m                    shrink or grow depending on the parent layout, aspect\u001b[0m\n",
      "\u001b[1;34m                    management and other factors.\u001b[0m\n",
      "\u001b[1;34m                \u001b[0m\n",
      "\u001b[1;34m                ``\"max\"``\u001b[0m\n",
      "\u001b[1;34m                    Use as much vertical space as possible, not more than the\u001b[0m\n",
      "\u001b[1;34m                    maximum height (if set).  The starting point is the\u001b[0m\n",
      "\u001b[1;34m                    preferred height (if set). The height of the component may\u001b[0m\n",
      "\u001b[1;34m                    shrink or grow depending on the parent layout, aspect\u001b[0m\n",
      "\u001b[1;34m                    management and other factors.\u001b[0m\n",
      "\u001b[1;31msizing_mode:    How the component should size itself.\u001b[0m\n",
      "\u001b[1;31m                \u001b[0m\n",
      "\u001b[1;31m                This is a high-level setting for maintaining width and height\u001b[0m\n",
      "\u001b[1;31m                of the component. To gain more fine grained control over\u001b[0m\n",
      "\u001b[1;31m                sizing, use ``width_policy``, ``height_policy`` and\u001b[0m\n",
      "\u001b[1;31m                ``aspect_ratio`` instead (those take precedence over\u001b[0m\n",
      "\u001b[1;31m                ``sizing_mode``).\u001b[0m\n",
      "\u001b[1;31m                \u001b[0m\n",
      "\u001b[1;31m                ``\"fixed\"``\u001b[0m\n",
      "\u001b[1;31m                    Component is not responsive. It will retain its original\u001b[0m\n",
      "\u001b[1;31m                    width and height regardless of any subsequent browser\u001b[0m\n",
      "\u001b[1;31m                    window resize events.\u001b[0m\n",
      "\u001b[1;31m                \u001b[0m\n",
      "\u001b[1;31m                ``\"stretch_width\"``\u001b[0m\n",
      "\u001b[1;31m                    Component will responsively resize to stretch to the\u001b[0m\n",
      "\u001b[1;31m                    available width, without maintaining any aspect ratio. The\u001b[0m\n",
      "\u001b[1;31m                    height of the component depends on the type of the\u001b[0m\n",
      "\u001b[1;31m                    component and may be fixed or fit to component's contents.\u001b[0m\n",
      "\u001b[1;31m                \u001b[0m\n",
      "\u001b[1;31m                ``\"stretch_height\"``\u001b[0m\n",
      "\u001b[1;31m                    Component will responsively resize to stretch to the\u001b[0m\n",
      "\u001b[1;31m                    available height, without maintaining any aspect\u001b[0m\n",
      "\u001b[1;31m                    ratio. The width of the component depends on the type of\u001b[0m\n",
      "\u001b[1;31m                    the component and may be fixed or fit to component's\u001b[0m\n",
      "\u001b[1;31m                    contents.\u001b[0m\n",
      "\u001b[1;31m                \u001b[0m\n",
      "\u001b[1;31m                ``\"stretch_both\"``\u001b[0m\n",
      "\u001b[1;31m                    Component is completely responsive, independently in width\u001b[0m\n",
      "\u001b[1;31m                    and height, and will occupy all the available horizontal\u001b[0m\n",
      "\u001b[1;31m                    and vertical space, even if this changes the aspect ratio\u001b[0m\n",
      "\u001b[1;31m                    of the component.\u001b[0m\n",
      "\u001b[1;31m                \u001b[0m\n",
      "\u001b[1;31m                ``\"scale_width\"``\u001b[0m\n",
      "\u001b[1;31m                    Component will responsively resize to stretch to the\u001b[0m\n",
      "\u001b[1;31m                    available width, while maintaining the original or\u001b[0m\n",
      "\u001b[1;31m                    provided aspect ratio.\u001b[0m\n",
      "\u001b[1;31m                \u001b[0m\n",
      "\u001b[1;31m                ``\"scale_height\"``\u001b[0m\n",
      "\u001b[1;31m                    Component will responsively resize to stretch to the\u001b[0m\n",
      "\u001b[1;31m                    available height, while maintaining the original or\u001b[0m\n",
      "\u001b[1;31m                    provided aspect ratio.\u001b[0m\n",
      "\u001b[1;31m                \u001b[0m\n",
      "\u001b[1;31m                ``\"scale_both\"``\u001b[0m\n",
      "\u001b[1;31m                    Component will responsively resize to both the available\u001b[0m\n",
      "\u001b[1;31m                    width and height, while maintaining the original or\u001b[0m\n",
      "\u001b[1;31m                    provided aspect ratio.\u001b[0m\n",
      "\u001b[1;34mvisible:        Whether the component is visible. Setting visible to false will\u001b[0m\n",
      "\u001b[1;34m                hide the component entirely.\u001b[0m\n",
      "\u001b[1;31mloading:        Whether or not the Viewable is loading. If True a loading spinner\u001b[0m\n",
      "\u001b[1;31m                is shown on top of the Viewable.\u001b[0m\n",
      "\u001b[1;34mdefault_layout: Defines the layout the model(s) returned by the pane will\u001b[0m\n",
      "\u001b[1;34m                be placed in.\u001b[0m\n",
      "\u001b[1;31mobject:         The object being wrapped, which will be converted to a\u001b[0m\n",
      "\u001b[1;31m                Bokeh model.\u001b[0m\n",
      "\u001b[1;34mdisable_math:   Whether to disable support for MathJax math rendering for\u001b[0m\n",
      "\u001b[1;34m                strings escaped with $$ delimiters.\u001b[0m\n",
      "\u001b[0;31mFile:\u001b[0m           ~/.pyenv/versions/3.10.6/envs/panel-1.1/lib/python3.10/site-packages/panel/pane/markup.py\n",
      "\u001b[0;31mType:\u001b[0m           ParameterizedMetaclass\n",
      "\u001b[0;31mSubclasses:\u001b[0m     DataFrame, YT, Folium"
     ]
    }
   ],
   "source": [
    "?pn.pane.HTML"
   ]
  },
  {
   "cell_type": "code",
   "execution_count": null,
   "metadata": {},
   "outputs": [],
   "source": []
  }
 ],
 "metadata": {
  "kernelspec": {
   "display_name": "panel-1.1",
   "language": "python",
   "name": "python3"
  },
  "language_info": {
   "codemirror_mode": {
    "name": "ipython",
    "version": 3
   },
   "file_extension": ".py",
   "mimetype": "text/x-python",
   "name": "python",
   "nbconvert_exporter": "python",
   "pygments_lexer": "ipython3",
   "version": "3.10.6"
  },
  "orig_nbformat": 4
 },
 "nbformat": 4,
 "nbformat_minor": 2
}
