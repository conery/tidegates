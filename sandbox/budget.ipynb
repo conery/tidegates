{
 "cells": [
  {
   "attachments": {},
   "cell_type": "markdown",
   "metadata": {},
   "source": [
    "### Mockup for Advanced Budget Widget"
   ]
  },
  {
   "cell_type": "code",
   "execution_count": null,
   "metadata": {},
   "outputs": [],
   "source": [
    "import panel as pn\n",
    "\n",
    "pn.extension()\n",
    "\n",
    "pn.config.throttled = True"
   ]
  },
  {
   "cell_type": "code",
   "execution_count": null,
   "metadata": {},
   "outputs": [],
   "source": [
    "import param"
   ]
  },
  {
   "cell_type": "code",
   "execution_count": null,
   "metadata": {},
   "outputs": [],
   "source": [
    "from bokeh.models.formatters import NumeralTickFormatter"
   ]
  },
  {
   "cell_type": "code",
   "execution_count": null,
   "metadata": {},
   "outputs": [],
   "source": [
    "class AdvancedBudgetBox(pn.WidgetBox):\n",
    "\n",
    "    MAX_STEP = 10000\n",
    "    INC_STEP = 1000\n",
    "    COUNT_MIN = 2\n",
    "    COUNT_MAX = 100\n",
    "    SLIDER_WIDTH = 600\n",
    "\n",
    "    def __init__(self):\n",
    "        super(AdvancedBudgetBox, self).__init__(margin=(15,0,15,5))\n",
    "\n",
    "        self.cap = 0\n",
    "\n",
    "        self.max_slider = pn.widgets.FloatSlider(\n",
    "            name='Maximum Budget', \n",
    "            start=0, \n",
    "            end=1, \n",
    "            step=self.MAX_STEP,\n",
    "            value=0,\n",
    "            width=self.SLIDER_WIDTH,\n",
    "            format=NumeralTickFormatter(format='$0,0'),\n",
    "        )\n",
    "\n",
    "        self.inc_slider = pn.widgets.FloatSlider(\n",
    "            name='Budget Interval', \n",
    "            start=0, \n",
    "            end=1, \n",
    "            step=self.INC_STEP,\n",
    "            value=0,\n",
    "            width=self.SLIDER_WIDTH//2,\n",
    "            format=NumeralTickFormatter(format='$0,0'),\n",
    "        )\n",
    "\n",
    "        self.count_input = pn.widgets.IntInput(\n",
    "            name='Number of Budgets', \n",
    "            value=10, \n",
    "            step=1, \n",
    "            start=self.COUNT_MIN,\n",
    "            end=self.COUNT_MAX,\n",
    "            width=75,\n",
    "        )\n",
    "\n",
    "        self.append(pn.Row(self.max_slider, pn.pane.HTML('<b>Limit:<b>')))\n",
    "        self.append(pn.Row(self.inc_slider, self.count_input))\n",
    "\n",
    "        self.max_slider.param.watch(self.max_updated, ['value'])\n",
    "        self.inc_slider.param.watch(self.inc_updated, ['value'])\n",
    "        self.count_input.param.watch(self.count_updated, ['value'])\n",
    "\n",
    "    def print_state(self, w):\n",
    "        print(w, self.max_slider.value, self.inc_slider.value, self.count_input.value)\n",
    "\n",
    "    def set_cap(self, n):\n",
    "        self.max_slider.end = max(1, n)\n",
    "        self.max_slider.start = self.MAX_STEP\n",
    "        self.inc_slider.end = max(1, n // 2)\n",
    "        self.inc_slider.start = max(self.INC_STEP, n / self.COUNT_MAX)\n",
    "        self[0][1] = pn.pane.HTML(f'<b>Limit: ${n}</b>')\n",
    "\n",
    "    def slider_loc(self, pos):\n",
    "        # return round(pos/self.INC_STEP)*self.INC_STEP\n",
    "        return int(pos)\n",
    "\n",
    "    def max_updated(self, e):\n",
    "        self.print_state('max')\n",
    "        # with param.parameterized.discard_events(self.count_input):\n",
    "        self.inc_slider.value = self.slider_loc(self.max_slider.value / self.count_input.value)\n",
    "\n",
    "    def inc_updated(self, e):\n",
    "        self.print_state('inc')\n",
    "        # with param.parameterized.discard_events(self.inc_slider):\n",
    "        c = max(self.COUNT_MIN, self.max_slider.value // self.inc_slider.value)\n",
    "        c = min(self.COUNT_MAX, c)\n",
    "        self.count_input.value = c\n",
    "\n",
    "    def count_updated(self, e):\n",
    "        self.print_state('count')\n",
    "        # with param.parameterized.discard_events(self.count_input):\n",
    "        self.inc_slider.value = self.slider_loc(self.max_slider.value / self.count_input.value)\n"
   ]
  },
  {
   "cell_type": "code",
   "execution_count": 45,
   "metadata": {},
   "outputs": [],
   "source": [
    "b = AdvancedBudgetBox()"
   ]
  },
  {
   "cell_type": "code",
   "execution_count": 46,
   "metadata": {},
   "outputs": [
    {
     "data": {
      "application/vnd.jupyter.widget-view+json": {
       "model_id": "c1bc011448ec4026b893d2ce880963e7",
       "version_major": 2,
       "version_minor": 0
      },
      "text/plain": [
       "BokehModel(combine_events=True, render_bundle={'docs_json': {'3db97351-ab27-4b05-8674-9e0b12d10b92': {'defs': …"
      ]
     },
     "execution_count": 46,
     "metadata": {},
     "output_type": "execute_result"
    },
    {
     "name": "stdout",
     "output_type": "stream",
     "text": [
      "max 530000 0 10\n",
      "inc 530000 53000 10\n",
      "inc 530000 129000 10\n",
      "count 530000 129000 4\n",
      "inc 530000 132500 4\n",
      "inc 530000 129000 4\n",
      "count 530000 129000 5\n",
      "inc 530000 106000 5\n",
      "count 530000 106000 6\n",
      "inc 530000 88333 6\n",
      "count 530000 88333 7\n",
      "inc 530000 75714 7\n",
      "count 530000 75714 8\n",
      "inc 530000 66250 8\n",
      "inc 530000 76000 8\n",
      "count 530000 76000 6\n",
      "inc 530000 88333 6\n",
      "inc 530000 76000 6\n",
      "count 530000 76000 7\n",
      "inc 530000 75714 7\n",
      "inc 530000 79000 7\n",
      "count 530000 79000 6\n",
      "inc 530000 88333 6\n",
      "inc 530000 79000 6\n",
      "inc 530000 498000 6\n",
      "count 530000 498000 2\n",
      "inc 530000 265000 2\n",
      "inc 530000 498000 2\n",
      "inc 530000 500000 2\n",
      "inc 530000 306000 2\n",
      "inc 530000 235000 2\n",
      "inc 530000 200000 2\n",
      "inc 530000 144000 2\n",
      "count 530000 144000 3\n",
      "inc 530000 176666 3\n",
      "inc 530000 144000 3\n",
      "inc 530000 154000 3\n",
      "inc 530000 169000 3\n"
     ]
    }
   ],
   "source": [
    "b"
   ]
  },
  {
   "cell_type": "code",
   "execution_count": 47,
   "metadata": {},
   "outputs": [],
   "source": [
    "b.set_cap(1000000)"
   ]
  },
  {
   "cell_type": "code",
   "execution_count": null,
   "metadata": {},
   "outputs": [],
   "source": [
    "b.max_slider.value"
   ]
  },
  {
   "cell_type": "code",
   "execution_count": null,
   "metadata": {},
   "outputs": [],
   "source": [
    "b.inc_slider.value"
   ]
  },
  {
   "cell_type": "code",
   "execution_count": null,
   "metadata": {},
   "outputs": [],
   "source": [
    "b.set_cap(100000)"
   ]
  },
  {
   "cell_type": "code",
   "execution_count": null,
   "metadata": {},
   "outputs": [],
   "source": [
    "b.max_slider.value"
   ]
  },
  {
   "cell_type": "code",
   "execution_count": null,
   "metadata": {},
   "outputs": [],
   "source": [
    "f = pn.widgets.FloatSlider(\n",
    "            name='Maximum Budget', \n",
    "            start=0, \n",
    "            end=1000000, \n",
    "            step=10000, \n",
    "            value=0,\n",
    "            width=800,\n",
    "        )"
   ]
  },
  {
   "cell_type": "code",
   "execution_count": null,
   "metadata": {},
   "outputs": [],
   "source": [
    "f"
   ]
  },
  {
   "cell_type": "code",
   "execution_count": null,
   "metadata": {},
   "outputs": [],
   "source": [
    "f.value = 500100"
   ]
  },
  {
   "cell_type": "code",
   "execution_count": null,
   "metadata": {},
   "outputs": [],
   "source": [
    "f.end = 2000000"
   ]
  },
  {
   "cell_type": "code",
   "execution_count": null,
   "metadata": {},
   "outputs": [],
   "source": [
    "t = pn.pane.HTML(f'<h3>Hi</h3>')"
   ]
  },
  {
   "cell_type": "code",
   "execution_count": null,
   "metadata": {},
   "outputs": [],
   "source": [
    "t"
   ]
  },
  {
   "cell_type": "code",
   "execution_count": null,
   "metadata": {},
   "outputs": [],
   "source": [
    "NumeralTickFormatter(format='$0,0')"
   ]
  }
 ],
 "metadata": {
  "kernelspec": {
   "display_name": "panel-1.1",
   "language": "python",
   "name": "python3"
  },
  "language_info": {
   "codemirror_mode": {
    "name": "ipython",
    "version": 3
   },
   "file_extension": ".py",
   "mimetype": "text/x-python",
   "name": "python",
   "nbconvert_exporter": "python",
   "pygments_lexer": "ipython3",
   "version": "3.10.6"
  },
  "orig_nbformat": 4
 },
 "nbformat": 4,
 "nbformat_minor": 2
}
