{
 "cells": [
  {
   "attachments": {},
   "cell_type": "markdown",
   "metadata": {},
   "source": [
    "### Testing and Debugging "
   ]
  },
  {
   "cell_type": "code",
   "execution_count": 1,
   "metadata": {},
   "outputs": [],
   "source": [
    "import pandas as pd"
   ]
  },
  {
   "cell_type": "code",
   "execution_count": 5,
   "metadata": {},
   "outputs": [],
   "source": [
    "f1 = 'tmp/tmpzj5rix77.txt'\n",
    "f2 = 'tmp/tmpdnvj3a73.txt'"
   ]
  },
  {
   "cell_type": "code",
   "execution_count": 6,
   "metadata": {},
   "outputs": [],
   "source": [
    "df1 = pd.read_csv(f1, sep='\\t')"
   ]
  },
  {
   "cell_type": "code",
   "execution_count": 9,
   "metadata": {},
   "outputs": [],
   "source": [
    "df2 = pd.read_csv(f2, sep='\\t')"
   ]
  },
  {
   "cell_type": "code",
   "execution_count": 10,
   "metadata": {},
   "outputs": [
    {
     "data": {
      "text/html": [
       "<div>\n",
       "<style scoped>\n",
       "    .dataframe tbody tr th:only-of-type {\n",
       "        vertical-align: middle;\n",
       "    }\n",
       "\n",
       "    .dataframe tbody tr th {\n",
       "        vertical-align: top;\n",
       "    }\n",
       "\n",
       "    .dataframe thead th {\n",
       "        text-align: right;\n",
       "    }\n",
       "</style>\n",
       "<table border=\"1\" class=\"dataframe\">\n",
       "  <thead>\n",
       "    <tr style=\"text-align: right;\">\n",
       "      <th></th>\n",
       "      <th>ID</th>\n",
       "      <th>REG</th>\n",
       "      <th>FOCUS</th>\n",
       "      <th>DSID</th>\n",
       "      <th>HAB_CO</th>\n",
       "      <th>HAB_FI</th>\n",
       "      <th>PRE_CO</th>\n",
       "      <th>PRE_FI</th>\n",
       "      <th>NPROJ</th>\n",
       "      <th>ACTION</th>\n",
       "      <th>COST</th>\n",
       "      <th>POST_CO</th>\n",
       "      <th>POST_FI</th>\n",
       "    </tr>\n",
       "  </thead>\n",
       "  <tbody>\n",
       "    <tr>\n",
       "      <th>0</th>\n",
       "      <td>039Ats1</td>\n",
       "      <td>Coquille</td>\n",
       "      <td>1</td>\n",
       "      <td>NaN</td>\n",
       "      <td>0.0</td>\n",
       "      <td>0.0</td>\n",
       "      <td>0.0</td>\n",
       "      <td>0</td>\n",
       "      <td>0</td>\n",
       "      <td>0</td>\n",
       "      <td>0</td>\n",
       "      <td>1</td>\n",
       "      <td>1</td>\n",
       "    </tr>\n",
       "    <tr>\n",
       "      <th>1</th>\n",
       "      <td>039Bts1</td>\n",
       "      <td>Coquille</td>\n",
       "      <td>1</td>\n",
       "      <td>NaN</td>\n",
       "      <td>0.0</td>\n",
       "      <td>0.0</td>\n",
       "      <td>0.0</td>\n",
       "      <td>0</td>\n",
       "      <td>0</td>\n",
       "      <td>0</td>\n",
       "      <td>0</td>\n",
       "      <td>1</td>\n",
       "      <td>1</td>\n",
       "    </tr>\n",
       "    <tr>\n",
       "      <th>2</th>\n",
       "      <td>039Cts1</td>\n",
       "      <td>Coquille</td>\n",
       "      <td>1</td>\n",
       "      <td>NaN</td>\n",
       "      <td>0.0</td>\n",
       "      <td>0.0</td>\n",
       "      <td>0.0</td>\n",
       "      <td>0</td>\n",
       "      <td>0</td>\n",
       "      <td>0</td>\n",
       "      <td>0</td>\n",
       "      <td>1</td>\n",
       "      <td>1</td>\n",
       "    </tr>\n",
       "    <tr>\n",
       "      <th>3</th>\n",
       "      <td>039Dts1</td>\n",
       "      <td>Coquille</td>\n",
       "      <td>1</td>\n",
       "      <td>NaN</td>\n",
       "      <td>0.0</td>\n",
       "      <td>0.0</td>\n",
       "      <td>0.0</td>\n",
       "      <td>0</td>\n",
       "      <td>0</td>\n",
       "      <td>0</td>\n",
       "      <td>0</td>\n",
       "      <td>1</td>\n",
       "      <td>1</td>\n",
       "    </tr>\n",
       "    <tr>\n",
       "      <th>4</th>\n",
       "      <td>039Ets1</td>\n",
       "      <td>Coquille</td>\n",
       "      <td>1</td>\n",
       "      <td>NaN</td>\n",
       "      <td>0.0</td>\n",
       "      <td>0.0</td>\n",
       "      <td>0.0</td>\n",
       "      <td>0</td>\n",
       "      <td>0</td>\n",
       "      <td>0</td>\n",
       "      <td>0</td>\n",
       "      <td>1</td>\n",
       "      <td>1</td>\n",
       "    </tr>\n",
       "  </tbody>\n",
       "</table>\n",
       "</div>"
      ],
      "text/plain": [
       "        ID       REG  FOCUS DSID  HAB_CO  HAB_FI  PRE_CO  PRE_FI  NPROJ  \\\n",
       "0  039Ats1  Coquille      1  NaN     0.0     0.0     0.0       0      0   \n",
       "1  039Bts1  Coquille      1  NaN     0.0     0.0     0.0       0      0   \n",
       "2  039Cts1  Coquille      1  NaN     0.0     0.0     0.0       0      0   \n",
       "3  039Dts1  Coquille      1  NaN     0.0     0.0     0.0       0      0   \n",
       "4  039Ets1  Coquille      1  NaN     0.0     0.0     0.0       0      0   \n",
       "\n",
       "   ACTION  COST  POST_CO  POST_FI  \n",
       "0       0     0        1        1  \n",
       "1       0     0        1        1  \n",
       "2       0     0        1        1  \n",
       "3       0     0        1        1  \n",
       "4       0     0        1        1  "
      ]
     },
     "execution_count": 10,
     "metadata": {},
     "output_type": "execute_result"
    }
   ],
   "source": [
    "df1.head()"
   ]
  },
  {
   "cell_type": "code",
   "execution_count": 11,
   "metadata": {},
   "outputs": [
    {
     "data": {
      "text/html": [
       "<div>\n",
       "<style scoped>\n",
       "    .dataframe tbody tr th:only-of-type {\n",
       "        vertical-align: middle;\n",
       "    }\n",
       "\n",
       "    .dataframe tbody tr th {\n",
       "        vertical-align: top;\n",
       "    }\n",
       "\n",
       "    .dataframe thead th {\n",
       "        text-align: right;\n",
       "    }\n",
       "</style>\n",
       "<table border=\"1\" class=\"dataframe\">\n",
       "  <thead>\n",
       "    <tr style=\"text-align: right;\">\n",
       "      <th></th>\n",
       "      <th>ID</th>\n",
       "      <th>REG</th>\n",
       "      <th>FOCUS</th>\n",
       "      <th>DSID</th>\n",
       "      <th>HAB_CO</th>\n",
       "      <th>HAB_FI</th>\n",
       "      <th>PRE_CO</th>\n",
       "      <th>PRE_FI</th>\n",
       "      <th>NPROJ</th>\n",
       "      <th>ACTION</th>\n",
       "      <th>COST</th>\n",
       "      <th>POST_CO</th>\n",
       "      <th>POST_FI</th>\n",
       "    </tr>\n",
       "  </thead>\n",
       "  <tbody>\n",
       "    <tr>\n",
       "      <th>0</th>\n",
       "      <td>10Ats1</td>\n",
       "      <td>Coquille</td>\n",
       "      <td>1</td>\n",
       "      <td>NaN</td>\n",
       "      <td>0.209886</td>\n",
       "      <td>0.459203</td>\n",
       "      <td>0.0</td>\n",
       "      <td>0</td>\n",
       "      <td>1.0</td>\n",
       "      <td>0</td>\n",
       "      <td>600000</td>\n",
       "      <td>1</td>\n",
       "      <td>1</td>\n",
       "    </tr>\n",
       "    <tr>\n",
       "      <th>1</th>\n",
       "      <td>13ts1</td>\n",
       "      <td>Coquille</td>\n",
       "      <td>1</td>\n",
       "      <td>NaN</td>\n",
       "      <td>0.224897</td>\n",
       "      <td>0.038366</td>\n",
       "      <td>0.0</td>\n",
       "      <td>0</td>\n",
       "      <td>1.0</td>\n",
       "      <td>0</td>\n",
       "      <td>600000</td>\n",
       "      <td>1</td>\n",
       "      <td>1</td>\n",
       "    </tr>\n",
       "    <tr>\n",
       "      <th>2</th>\n",
       "      <td>14ts1</td>\n",
       "      <td>Coquille</td>\n",
       "      <td>1</td>\n",
       "      <td>NaN</td>\n",
       "      <td>0.109816</td>\n",
       "      <td>0.097586</td>\n",
       "      <td>0.0</td>\n",
       "      <td>0</td>\n",
       "      <td>1.0</td>\n",
       "      <td>0</td>\n",
       "      <td>200000</td>\n",
       "      <td>1</td>\n",
       "      <td>1</td>\n",
       "    </tr>\n",
       "    <tr>\n",
       "      <th>3</th>\n",
       "      <td>15ts1</td>\n",
       "      <td>Coquille</td>\n",
       "      <td>1</td>\n",
       "      <td>NaN</td>\n",
       "      <td>0.042667</td>\n",
       "      <td>0.024545</td>\n",
       "      <td>0.0</td>\n",
       "      <td>0</td>\n",
       "      <td>1.0</td>\n",
       "      <td>0</td>\n",
       "      <td>300000</td>\n",
       "      <td>1</td>\n",
       "      <td>1</td>\n",
       "    </tr>\n",
       "    <tr>\n",
       "      <th>4</th>\n",
       "      <td>16ts1</td>\n",
       "      <td>Coquille</td>\n",
       "      <td>1</td>\n",
       "      <td>NaN</td>\n",
       "      <td>0.041924</td>\n",
       "      <td>0.010507</td>\n",
       "      <td>0.0</td>\n",
       "      <td>0</td>\n",
       "      <td>1.0</td>\n",
       "      <td>0</td>\n",
       "      <td>150000</td>\n",
       "      <td>1</td>\n",
       "      <td>1</td>\n",
       "    </tr>\n",
       "  </tbody>\n",
       "</table>\n",
       "</div>"
      ],
      "text/plain": [
       "       ID       REG  FOCUS DSID    HAB_CO    HAB_FI  PRE_CO  PRE_FI  NPROJ  \\\n",
       "0  10Ats1  Coquille      1  NaN  0.209886  0.459203     0.0       0    1.0   \n",
       "1   13ts1  Coquille      1  NaN  0.224897  0.038366     0.0       0    1.0   \n",
       "2   14ts1  Coquille      1  NaN  0.109816  0.097586     0.0       0    1.0   \n",
       "3   15ts1  Coquille      1  NaN  0.042667  0.024545     0.0       0    1.0   \n",
       "4   16ts1  Coquille      1  NaN  0.041924  0.010507     0.0       0    1.0   \n",
       "\n",
       "   ACTION    COST  POST_CO  POST_FI  \n",
       "0       0  600000        1        1  \n",
       "1       0  600000        1        1  \n",
       "2       0  200000        1        1  \n",
       "3       0  300000        1        1  \n",
       "4       0  150000        1        1  "
      ]
     },
     "execution_count": 11,
     "metadata": {},
     "output_type": "execute_result"
    }
   ],
   "source": [
    "df2.head()"
   ]
  },
  {
   "cell_type": "code",
   "execution_count": 17,
   "metadata": {},
   "outputs": [],
   "source": [
    "b1 = set(df1[df1.REG == 'Coquille'].ID)\n",
    "b2 = set(df2[df2.REG == 'Coquille'].ID)"
   ]
  },
  {
   "cell_type": "code",
   "execution_count": 18,
   "metadata": {},
   "outputs": [
    {
     "data": {
      "text/plain": [
       "{'039Ats1', '039Bts1', '039Cts1', '039Dts1', '039Ets1'}"
      ]
     },
     "execution_count": 18,
     "metadata": {},
     "output_type": "execute_result"
    }
   ],
   "source": [
    "b1 - b2"
   ]
  },
  {
   "cell_type": "code",
   "execution_count": 19,
   "metadata": {},
   "outputs": [
    {
     "data": {
      "text/plain": [
       "{'10Bts1',\n",
       " '12Cts1',\n",
       " '24894fs1',\n",
       " '3638fs1',\n",
       " '3639fs1',\n",
       " '36Bts1',\n",
       " '36Cts1',\n",
       " '39Ats1',\n",
       " '39Bts1',\n",
       " '39Cts1',\n",
       " '39Dts1',\n",
       " '39Ets1',\n",
       " '61Ats1',\n",
       " '61Cts1',\n",
       " '8435fs1'}"
      ]
     },
     "execution_count": 19,
     "metadata": {},
     "output_type": "execute_result"
    }
   ],
   "source": [
    "b2 - b1"
   ]
  },
  {
   "cell_type": "code",
   "execution_count": 22,
   "metadata": {},
   "outputs": [
    {
     "data": {
      "text/plain": [
       "True"
      ]
     },
     "execution_count": 22,
     "metadata": {},
     "output_type": "execute_result"
    }
   ],
   "source": [
    "list(df1.columns) == list(df2.columns)"
   ]
  },
  {
   "cell_type": "code",
   "execution_count": 25,
   "metadata": {},
   "outputs": [
    {
     "name": "stdout",
     "output_type": "stream",
     "text": [
      "0000000    49  44  09  52  45  47  09  46  4f  43  55  53  09  44  53  49\n",
      "           I   D  \\t   R   E   G  \\t   F   O   C   U   S  \\t   D   S   I\n",
      "0000020    44  09  48  41  42  5f  43  4f  09  48  41  42  5f  46  49  09\n",
      "           D  \\t   H   A   B   _   C   O  \\t   H   A   B   _   F   I  \\t\n",
      "0000040    50  52  45  5f  43  4f  09  50  52  45  5f  46  49  09  4e  50\n",
      "           P   R   E   _   C   O  \\t   P   R   E   _   F   I  \\t   N   P\n",
      "0000060    52  4f  4a  09  41  43  54  49  4f  4e  09  43  4f  53  54  09\n",
      "           R   O   J  \\t   A   C   T   I   O   N  \\t   C   O   S   T  \\t\n",
      "0000100    50  4f  53  54  5f  43  4f  09  50  4f  53  54  5f  46  49  0a\n",
      "           P   O   S   T   _   C   O  \\t   P   O   S   T   _   F   I  \\n\n",
      "0000120    30  33  39  41  74  73  31  09  43  6f  71  75  69  6c  6c  65\n",
      "           0   3   9   A   t   s   1  \\t   C   o   q   u   i   l   l   e\n",
      "0000140    09  31  09  4e  41  09  30  2e  30  09  30  2e  30  09  30  2e\n",
      "          \\t   1  \\t   N   A  \\t   0   .   0  \\t   0   .   0  \\t   0   .\n",
      "0000160    30  09  30  09  30  09  30  09  30  09  31  09  31  0a        \n",
      "           0  \\t   0  \\t   0  \\t   0  \\t   0  \\t   1  \\t   1  \\n        \n",
      "0000176\n"
     ]
    }
   ],
   "source": [
    "! head -2 tmp/tmpzj5rix77.txt | od -t x1 -c"
   ]
  },
  {
   "cell_type": "code",
   "execution_count": 26,
   "metadata": {},
   "outputs": [
    {
     "name": "stdout",
     "output_type": "stream",
     "text": [
      "0000000    49  44  09  52  45  47  09  46  4f  43  55  53  09  44  53  49\n",
      "           I   D  \\t   R   E   G  \\t   F   O   C   U   S  \\t   D   S   I\n",
      "0000020    44  09  48  41  42  5f  43  4f  09  48  41  42  5f  46  49  09\n",
      "           D  \\t   H   A   B   _   C   O  \\t   H   A   B   _   F   I  \\t\n",
      "0000040    50  52  45  5f  43  4f  09  50  52  45  5f  46  49  09  4e  50\n",
      "           P   R   E   _   C   O  \\t   P   R   E   _   F   I  \\t   N   P\n",
      "0000060    52  4f  4a  09  41  43  54  49  4f  4e  09  43  4f  53  54  09\n",
      "           R   O   J  \\t   A   C   T   I   O   N  \\t   C   O   S   T  \\t\n",
      "0000100    50  4f  53  54  5f  43  4f  09  50  4f  53  54  5f  46  49  0a\n",
      "           P   O   S   T   _   C   O  \\t   P   O   S   T   _   F   I  \\n\n",
      "0000120    31  30  41  74  73  31  09  43  6f  71  75  69  6c  6c  65  09\n",
      "           1   0   A   t   s   1  \\t   C   o   q   u   i   l   l   e  \\t\n",
      "0000140    31  09  4e  41  09  30  2e  32  30  39  38  38  36  32  32  32\n",
      "           1  \\t   N   A  \\t   0   .   2   0   9   8   8   6   2   2   2\n",
      "0000160    09  30  2e  34  35  39  32  30  32  37  30  39  09  30  2e  30\n",
      "          \\t   0   .   4   5   9   2   0   2   7   0   9  \\t   0   .   0\n",
      "0000200    09  30  09  31  2e  30  09  30  09  36  30  30  30  30  30  09\n",
      "          \\t   0  \\t   1   .   0  \\t   0  \\t   6   0   0   0   0   0  \\t\n",
      "0000220    31  09  31  0a                                                \n",
      "           1  \\t   1  \\n                                                \n",
      "0000224\n"
     ]
    }
   ],
   "source": [
    "! head -2 tmp/tmpdnvj3a73.txt | od -t x1 -c"
   ]
  },
  {
   "cell_type": "code",
   "execution_count": 27,
   "metadata": {},
   "outputs": [
    {
     "name": "stdout",
     "output_type": "stream",
     "text": [
      "ID\tREG\tFOCUS\tDSID\tHAB_CO\tHAB_FI\tPRE_CO\tPRE_FI\tNPROJ\tACTION\tCOST\tPOST_CO\tPOST_FI\n",
      "039Ats1\tCoquille\t1\tNA\t0.0\t0.0\t0.0\t0\t0\t0\t0\t1\t1\n"
     ]
    }
   ],
   "source": [
    "! head -2 tmp/tmpzj5rix77.txt"
   ]
  },
  {
   "cell_type": "code",
   "execution_count": 29,
   "metadata": {},
   "outputs": [
    {
     "name": "stdout",
     "output_type": "stream",
     "text": [
      "ID\tREG\tFOCUS\tDSID\tHAB_CO\tHAB_FI\tPRE_CO\tPRE_FI\tNPROJ\tACTION\tCOST\tPOST_CO\tPOST_FI\n",
      "10Ats1\tCoquille\t1\tNA\t0.209886222\t0.459202709\t0.0\t0\t1.0\t0\t600000\t1\t1\n"
     ]
    }
   ],
   "source": [
    "! head -2 tmp/tmpdnvj3a73.txt"
   ]
  },
  {
   "cell_type": "code",
   "execution_count": 33,
   "metadata": {},
   "outputs": [],
   "source": [
    "coq1 = df1[df1.REG == 'Coquille']\n",
    "coq2 = df2[df2.REG == 'Coquille']"
   ]
  },
  {
   "cell_type": "code",
   "execution_count": 34,
   "metadata": {},
   "outputs": [
    {
     "data": {
      "text/plain": [
       "13545000"
      ]
     },
     "execution_count": 34,
     "metadata": {},
     "output_type": "execute_result"
    }
   ],
   "source": [
    "coq1.COST.sum()"
   ]
  },
  {
   "cell_type": "code",
   "execution_count": 35,
   "metadata": {},
   "outputs": [
    {
     "data": {
      "text/plain": [
       "11800000"
      ]
     },
     "execution_count": 35,
     "metadata": {},
     "output_type": "execute_result"
    }
   ],
   "source": [
    "coq2.COST.sum()"
   ]
  },
  {
   "cell_type": "code",
   "execution_count": 36,
   "metadata": {},
   "outputs": [
    {
     "name": "stdout",
     "output_type": "stream",
     "text": [
      "NPROJ 38 42.0\n",
      "ACTION 0 0\n",
      "POST_CO 127 137\n",
      "POST_FI 127 137\n"
     ]
    }
   ],
   "source": [
    "for col in ['NPROJ', 'ACTION', 'POST_CO', 'POST_FI']:\n",
    "    print(col, coq1[col].sum(), coq2[col].sum())"
   ]
  },
  {
   "cell_type": "code",
   "execution_count": 37,
   "metadata": {},
   "outputs": [
    {
     "data": {
      "text/plain": [
       "(127, 137)"
      ]
     },
     "execution_count": 37,
     "metadata": {},
     "output_type": "execute_result"
    }
   ],
   "source": [
    "len(coq1), len(coq2)"
   ]
  },
  {
   "cell_type": "code",
   "execution_count": 38,
   "metadata": {},
   "outputs": [
    {
     "name": "stderr",
     "output_type": "stream",
     "text": [
      "/var/folders/41/8svs4vl53fd18dsr7qz4sc9c0000gn/T/ipykernel_49438/4112741176.py:1: FutureWarning: The behavior of `series[i:j]` with an integer-dtype index is deprecated. In a future version, this will be treated as *label-based* indexing, consistent with e.g. `series[i]` lookups. To retain the old behavior, use `series.iloc[i:j]`. To get the future behavior, use `series.loc[i:j]`.\n",
      "  coq1['NPROJ'][:10]\n"
     ]
    },
    {
     "data": {
      "text/plain": [
       "0     0\n",
       "1     0\n",
       "2     0\n",
       "3     0\n",
       "4     0\n",
       "6     0\n",
       "8     1\n",
       "13    0\n",
       "15    0\n",
       "16    0\n",
       "Name: NPROJ, dtype: int64"
      ]
     },
     "execution_count": 38,
     "metadata": {},
     "output_type": "execute_result"
    }
   ],
   "source": [
    "coq1['NPROJ'][:10]"
   ]
  },
  {
   "cell_type": "code",
   "execution_count": 39,
   "metadata": {},
   "outputs": [
    {
     "data": {
      "text/plain": [
       "0    1.0\n",
       "1    1.0\n",
       "2    1.0\n",
       "3    1.0\n",
       "4    1.0\n",
       "5    1.0\n",
       "6    1.0\n",
       "7    1.0\n",
       "8    1.0\n",
       "9    1.0\n",
       "Name: NPROJ, dtype: float64"
      ]
     },
     "execution_count": 39,
     "metadata": {},
     "output_type": "execute_result"
    }
   ],
   "source": [
    "coq2['NPROJ'][:10]"
   ]
  },
  {
   "cell_type": "code",
   "execution_count": null,
   "metadata": {},
   "outputs": [],
   "source": []
  }
 ],
 "metadata": {
  "kernelspec": {
   "display_name": "panel",
   "language": "python",
   "name": "python3"
  },
  "language_info": {
   "codemirror_mode": {
    "name": "ipython",
    "version": 3
   },
   "file_extension": ".py",
   "mimetype": "text/x-python",
   "name": "python",
   "nbconvert_exporter": "python",
   "pygments_lexer": "ipython3",
   "version": "3.10.6"
  },
  "orig_nbformat": 4
 },
 "nbformat": 4,
 "nbformat_minor": 2
}
